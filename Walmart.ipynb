{
  "nbformat": 4,
  "nbformat_minor": 0,
  "metadata": {
    "colab": {
      "provenance": [],
      "authorship_tag": "ABX9TyNtVlb1ojXMwwdvcP4RYJIJ",
      "include_colab_link": true
    },
    "kernelspec": {
      "name": "python3",
      "display_name": "Python 3"
    },
    "language_info": {
      "name": "python"
    }
  },
  "cells": [
    {
      "cell_type": "markdown",
      "metadata": {
        "id": "view-in-github",
        "colab_type": "text"
      },
      "source": [
        "<a href=\"https://colab.research.google.com/github/prajwalnigam321/final_test/blob/main/Walmart.ipynb\" target=\"_parent\"><img src=\"https://colab.research.google.com/assets/colab-badge.svg\" alt=\"Open In Colab\"/></a>"
      ]
    },
    {
      "cell_type": "code",
      "source": [
        "!ls"
      ],
      "metadata": {
        "colab": {
          "base_uri": "https://localhost:8080/"
        },
        "id": "iIIkZA5rztpL",
        "outputId": "ef190821-fd60-4344-eb96-a7d975b7518b"
      },
      "execution_count": 30,
      "outputs": [
        {
          "output_type": "stream",
          "name": "stdout",
          "text": [
            "sample_data  walmart_data.csv  w.csv\n"
          ]
        }
      ]
    },
    {
      "cell_type": "markdown",
      "metadata": {
        "id": "5ee64059"
      },
      "source": [
        "**Business Case: Walmart - Confidence Interval and CLT**"
      ]
    },
    {
      "cell_type": "markdown",
      "metadata": {
        "id": "cf1b8c6d"
      },
      "source": [
        "About Walmart:\n",
        "\n",
        "Walmart is an American multinational retail corporation that operates a chain of supercenters, discount departmental stores, and grocery stores from the United States. Walmart has more than 100 million customers worldwide.\n",
        "\n",
        "\n",
        "Business Problem:\n",
        "\n",
        "The Management team at Walmart Inc. wants to analyze the customer purchase behavior (specifically, purchase amount) against the customer’s gender and the various other factors to help the business make better decisions. They want to understand if the spending habits differ between male and female customers: Do women spend more on Black Friday than men? (Assume 50 million customers are male and 50 million are female)."
      ]
    },
    {
      "cell_type": "code",
      "execution_count": 33,
      "metadata": {
        "id": "92f47a0a"
      },
      "outputs": [],
      "source": [
        "#Import the libraries:\n",
        "\n",
        "import numpy as np \n",
        "import pandas as pd\n",
        "import matplotlib.pyplot as plt\n",
        "import seaborn as sns"
      ]
    },
    {
      "cell_type": "code",
      "execution_count": 34,
      "metadata": {
        "id": "af7ca3e0",
        "outputId": "6a12d393-c8b6-449c-a7e6-cb5c86168823",
        "colab": {
          "base_uri": "https://localhost:8080/",
          "height": 424
        }
      },
      "outputs": [
        {
          "output_type": "execute_result",
          "data": {
            "text/plain": [
              "        User_ID Product_ID Gender    Age  Occupation City_Category  \\\n",
              "0       1000001  P00069042      F   0-17          10             A   \n",
              "1       1000001  P00248942      F   0-17          10             A   \n",
              "2       1000001  P00087842      F   0-17          10             A   \n",
              "3       1000001  P00085442      F   0-17          10             A   \n",
              "4       1000002  P00285442      M    55+          16             C   \n",
              "...         ...        ...    ...    ...         ...           ...   \n",
              "550063  1006033  P00372445      M  51-55          13             B   \n",
              "550064  1006035  P00375436      F  26-35           1             C   \n",
              "550065  1006036  P00375436      F  26-35          15             B   \n",
              "550066  1006038  P00375436      F    55+           1             C   \n",
              "550067  1006039  P00371644      F  46-50           0             B   \n",
              "\n",
              "       Stay_In_Current_City_Years  Marital_Status  Product_Category  Purchase  \n",
              "0                               2               0                 3      8370  \n",
              "1                               2               0                 1     15200  \n",
              "2                               2               0                12      1422  \n",
              "3                               2               0                12      1057  \n",
              "4                              4+               0                 8      7969  \n",
              "...                           ...             ...               ...       ...  \n",
              "550063                          1               1                20       368  \n",
              "550064                          3               0                20       371  \n",
              "550065                         4+               1                20       137  \n",
              "550066                          2               0                20       365  \n",
              "550067                         4+               1                20       490  \n",
              "\n",
              "[550068 rows x 10 columns]"
            ],
            "text/html": [
              "\n",
              "  <div id=\"df-2b96af6c-7e23-4db7-b33c-cc275b95b374\">\n",
              "    <div class=\"colab-df-container\">\n",
              "      <div>\n",
              "<style scoped>\n",
              "    .dataframe tbody tr th:only-of-type {\n",
              "        vertical-align: middle;\n",
              "    }\n",
              "\n",
              "    .dataframe tbody tr th {\n",
              "        vertical-align: top;\n",
              "    }\n",
              "\n",
              "    .dataframe thead th {\n",
              "        text-align: right;\n",
              "    }\n",
              "</style>\n",
              "<table border=\"1\" class=\"dataframe\">\n",
              "  <thead>\n",
              "    <tr style=\"text-align: right;\">\n",
              "      <th></th>\n",
              "      <th>User_ID</th>\n",
              "      <th>Product_ID</th>\n",
              "      <th>Gender</th>\n",
              "      <th>Age</th>\n",
              "      <th>Occupation</th>\n",
              "      <th>City_Category</th>\n",
              "      <th>Stay_In_Current_City_Years</th>\n",
              "      <th>Marital_Status</th>\n",
              "      <th>Product_Category</th>\n",
              "      <th>Purchase</th>\n",
              "    </tr>\n",
              "  </thead>\n",
              "  <tbody>\n",
              "    <tr>\n",
              "      <th>0</th>\n",
              "      <td>1000001</td>\n",
              "      <td>P00069042</td>\n",
              "      <td>F</td>\n",
              "      <td>0-17</td>\n",
              "      <td>10</td>\n",
              "      <td>A</td>\n",
              "      <td>2</td>\n",
              "      <td>0</td>\n",
              "      <td>3</td>\n",
              "      <td>8370</td>\n",
              "    </tr>\n",
              "    <tr>\n",
              "      <th>1</th>\n",
              "      <td>1000001</td>\n",
              "      <td>P00248942</td>\n",
              "      <td>F</td>\n",
              "      <td>0-17</td>\n",
              "      <td>10</td>\n",
              "      <td>A</td>\n",
              "      <td>2</td>\n",
              "      <td>0</td>\n",
              "      <td>1</td>\n",
              "      <td>15200</td>\n",
              "    </tr>\n",
              "    <tr>\n",
              "      <th>2</th>\n",
              "      <td>1000001</td>\n",
              "      <td>P00087842</td>\n",
              "      <td>F</td>\n",
              "      <td>0-17</td>\n",
              "      <td>10</td>\n",
              "      <td>A</td>\n",
              "      <td>2</td>\n",
              "      <td>0</td>\n",
              "      <td>12</td>\n",
              "      <td>1422</td>\n",
              "    </tr>\n",
              "    <tr>\n",
              "      <th>3</th>\n",
              "      <td>1000001</td>\n",
              "      <td>P00085442</td>\n",
              "      <td>F</td>\n",
              "      <td>0-17</td>\n",
              "      <td>10</td>\n",
              "      <td>A</td>\n",
              "      <td>2</td>\n",
              "      <td>0</td>\n",
              "      <td>12</td>\n",
              "      <td>1057</td>\n",
              "    </tr>\n",
              "    <tr>\n",
              "      <th>4</th>\n",
              "      <td>1000002</td>\n",
              "      <td>P00285442</td>\n",
              "      <td>M</td>\n",
              "      <td>55+</td>\n",
              "      <td>16</td>\n",
              "      <td>C</td>\n",
              "      <td>4+</td>\n",
              "      <td>0</td>\n",
              "      <td>8</td>\n",
              "      <td>7969</td>\n",
              "    </tr>\n",
              "    <tr>\n",
              "      <th>...</th>\n",
              "      <td>...</td>\n",
              "      <td>...</td>\n",
              "      <td>...</td>\n",
              "      <td>...</td>\n",
              "      <td>...</td>\n",
              "      <td>...</td>\n",
              "      <td>...</td>\n",
              "      <td>...</td>\n",
              "      <td>...</td>\n",
              "      <td>...</td>\n",
              "    </tr>\n",
              "    <tr>\n",
              "      <th>550063</th>\n",
              "      <td>1006033</td>\n",
              "      <td>P00372445</td>\n",
              "      <td>M</td>\n",
              "      <td>51-55</td>\n",
              "      <td>13</td>\n",
              "      <td>B</td>\n",
              "      <td>1</td>\n",
              "      <td>1</td>\n",
              "      <td>20</td>\n",
              "      <td>368</td>\n",
              "    </tr>\n",
              "    <tr>\n",
              "      <th>550064</th>\n",
              "      <td>1006035</td>\n",
              "      <td>P00375436</td>\n",
              "      <td>F</td>\n",
              "      <td>26-35</td>\n",
              "      <td>1</td>\n",
              "      <td>C</td>\n",
              "      <td>3</td>\n",
              "      <td>0</td>\n",
              "      <td>20</td>\n",
              "      <td>371</td>\n",
              "    </tr>\n",
              "    <tr>\n",
              "      <th>550065</th>\n",
              "      <td>1006036</td>\n",
              "      <td>P00375436</td>\n",
              "      <td>F</td>\n",
              "      <td>26-35</td>\n",
              "      <td>15</td>\n",
              "      <td>B</td>\n",
              "      <td>4+</td>\n",
              "      <td>1</td>\n",
              "      <td>20</td>\n",
              "      <td>137</td>\n",
              "    </tr>\n",
              "    <tr>\n",
              "      <th>550066</th>\n",
              "      <td>1006038</td>\n",
              "      <td>P00375436</td>\n",
              "      <td>F</td>\n",
              "      <td>55+</td>\n",
              "      <td>1</td>\n",
              "      <td>C</td>\n",
              "      <td>2</td>\n",
              "      <td>0</td>\n",
              "      <td>20</td>\n",
              "      <td>365</td>\n",
              "    </tr>\n",
              "    <tr>\n",
              "      <th>550067</th>\n",
              "      <td>1006039</td>\n",
              "      <td>P00371644</td>\n",
              "      <td>F</td>\n",
              "      <td>46-50</td>\n",
              "      <td>0</td>\n",
              "      <td>B</td>\n",
              "      <td>4+</td>\n",
              "      <td>1</td>\n",
              "      <td>20</td>\n",
              "      <td>490</td>\n",
              "    </tr>\n",
              "  </tbody>\n",
              "</table>\n",
              "<p>550068 rows × 10 columns</p>\n",
              "</div>\n",
              "      <button class=\"colab-df-convert\" onclick=\"convertToInteractive('df-2b96af6c-7e23-4db7-b33c-cc275b95b374')\"\n",
              "              title=\"Convert this dataframe to an interactive table.\"\n",
              "              style=\"display:none;\">\n",
              "        \n",
              "  <svg xmlns=\"http://www.w3.org/2000/svg\" height=\"24px\"viewBox=\"0 0 24 24\"\n",
              "       width=\"24px\">\n",
              "    <path d=\"M0 0h24v24H0V0z\" fill=\"none\"/>\n",
              "    <path d=\"M18.56 5.44l.94 2.06.94-2.06 2.06-.94-2.06-.94-.94-2.06-.94 2.06-2.06.94zm-11 1L8.5 8.5l.94-2.06 2.06-.94-2.06-.94L8.5 2.5l-.94 2.06-2.06.94zm10 10l.94 2.06.94-2.06 2.06-.94-2.06-.94-.94-2.06-.94 2.06-2.06.94z\"/><path d=\"M17.41 7.96l-1.37-1.37c-.4-.4-.92-.59-1.43-.59-.52 0-1.04.2-1.43.59L10.3 9.45l-7.72 7.72c-.78.78-.78 2.05 0 2.83L4 21.41c.39.39.9.59 1.41.59.51 0 1.02-.2 1.41-.59l7.78-7.78 2.81-2.81c.8-.78.8-2.07 0-2.86zM5.41 20L4 18.59l7.72-7.72 1.47 1.35L5.41 20z\"/>\n",
              "  </svg>\n",
              "      </button>\n",
              "      \n",
              "  <style>\n",
              "    .colab-df-container {\n",
              "      display:flex;\n",
              "      flex-wrap:wrap;\n",
              "      gap: 12px;\n",
              "    }\n",
              "\n",
              "    .colab-df-convert {\n",
              "      background-color: #E8F0FE;\n",
              "      border: none;\n",
              "      border-radius: 50%;\n",
              "      cursor: pointer;\n",
              "      display: none;\n",
              "      fill: #1967D2;\n",
              "      height: 32px;\n",
              "      padding: 0 0 0 0;\n",
              "      width: 32px;\n",
              "    }\n",
              "\n",
              "    .colab-df-convert:hover {\n",
              "      background-color: #E2EBFA;\n",
              "      box-shadow: 0px 1px 2px rgba(60, 64, 67, 0.3), 0px 1px 3px 1px rgba(60, 64, 67, 0.15);\n",
              "      fill: #174EA6;\n",
              "    }\n",
              "\n",
              "    [theme=dark] .colab-df-convert {\n",
              "      background-color: #3B4455;\n",
              "      fill: #D2E3FC;\n",
              "    }\n",
              "\n",
              "    [theme=dark] .colab-df-convert:hover {\n",
              "      background-color: #434B5C;\n",
              "      box-shadow: 0px 1px 3px 1px rgba(0, 0, 0, 0.15);\n",
              "      filter: drop-shadow(0px 1px 2px rgba(0, 0, 0, 0.3));\n",
              "      fill: #FFFFFF;\n",
              "    }\n",
              "  </style>\n",
              "\n",
              "      <script>\n",
              "        const buttonEl =\n",
              "          document.querySelector('#df-2b96af6c-7e23-4db7-b33c-cc275b95b374 button.colab-df-convert');\n",
              "        buttonEl.style.display =\n",
              "          google.colab.kernel.accessAllowed ? 'block' : 'none';\n",
              "\n",
              "        async function convertToInteractive(key) {\n",
              "          const element = document.querySelector('#df-2b96af6c-7e23-4db7-b33c-cc275b95b374');\n",
              "          const dataTable =\n",
              "            await google.colab.kernel.invokeFunction('convertToInteractive',\n",
              "                                                     [key], {});\n",
              "          if (!dataTable) return;\n",
              "\n",
              "          const docLinkHtml = 'Like what you see? Visit the ' +\n",
              "            '<a target=\"_blank\" href=https://colab.research.google.com/notebooks/data_table.ipynb>data table notebook</a>'\n",
              "            + ' to learn more about interactive tables.';\n",
              "          element.innerHTML = '';\n",
              "          dataTable['output_type'] = 'display_data';\n",
              "          await google.colab.output.renderOutput(dataTable, element);\n",
              "          const docLink = document.createElement('div');\n",
              "          docLink.innerHTML = docLinkHtml;\n",
              "          element.appendChild(docLink);\n",
              "        }\n",
              "      </script>\n",
              "    </div>\n",
              "  </div>\n",
              "  "
            ]
          },
          "metadata": {},
          "execution_count": 34
        }
      ],
      "source": [
        "#Read the Walmart data:\n",
        "\n",
        "df = pd.read_csv(\"w.csv\")\n",
        "df"
      ]
    },
    {
      "cell_type": "code",
      "source": [
        "print(f\"Number of rows: {df.shape[0]:,} \\nNumber of columns: {df.shape[1]}\")"
      ],
      "metadata": {
        "colab": {
          "base_uri": "https://localhost:8080/"
        },
        "id": "KcG8qUYrF-3Y",
        "outputId": "e2edf837-1530-45c4-a8c7-9f19be17086e"
      },
      "execution_count": 35,
      "outputs": [
        {
          "output_type": "stream",
          "name": "stdout",
          "text": [
            "Number of rows: 550,068 \n",
            "Number of columns: 10\n"
          ]
        }
      ]
    },
    {
      "cell_type": "code",
      "source": [
        "df.memory_usage()"
      ],
      "metadata": {
        "colab": {
          "base_uri": "https://localhost:8080/"
        },
        "id": "bPYCatciGaKr",
        "outputId": "146a83bb-ef58-4fae-ff4a-3d5f51a1350b"
      },
      "execution_count": 36,
      "outputs": [
        {
          "output_type": "execute_result",
          "data": {
            "text/plain": [
              "Index                             128\n",
              "User_ID                       4400544\n",
              "Product_ID                    4400544\n",
              "Gender                        4400544\n",
              "Age                           4400544\n",
              "Occupation                    4400544\n",
              "City_Category                 4400544\n",
              "Stay_In_Current_City_Years    4400544\n",
              "Marital_Status                4400544\n",
              "Product_Category              4400544\n",
              "Purchase                      4400544\n",
              "dtype: int64"
            ]
          },
          "metadata": {},
          "execution_count": 36
        }
      ]
    },
    {
      "cell_type": "code",
      "execution_count": 37,
      "metadata": {
        "id": "2b4fba50",
        "outputId": "034b3f6a-2f44-4d2c-8bc7-41bb54b931f1",
        "colab": {
          "base_uri": "https://localhost:8080/"
        }
      },
      "outputs": [
        {
          "output_type": "execute_result",
          "data": {
            "text/plain": [
              "User_ID                       0.0\n",
              "Product_ID                    0.0\n",
              "Gender                        0.0\n",
              "Age                           0.0\n",
              "Occupation                    0.0\n",
              "City_Category                 0.0\n",
              "Stay_In_Current_City_Years    0.0\n",
              "Marital_Status                0.0\n",
              "Product_Category              0.0\n",
              "Purchase                      0.0\n",
              "dtype: float64"
            ]
          },
          "metadata": {},
          "execution_count": 37
        }
      ],
      "source": [
        "#Checking missing values:\n",
        "df.isnull().sum()/len(df)*100"
      ]
    },
    {
      "cell_type": "code",
      "execution_count": 38,
      "metadata": {
        "id": "9e917eb6",
        "outputId": "7c3dc27b-e617-4873-c64a-e29a3a67869f",
        "colab": {
          "base_uri": "https://localhost:8080/",
          "height": 394
        }
      },
      "outputs": [
        {
          "output_type": "execute_result",
          "data": {
            "text/plain": [
              "             User_ID Product_ID  Gender     Age     Occupation City_Category  \\\n",
              "count   5.500680e+05     550068  550068  550068  550068.000000        550068   \n",
              "unique           NaN       3631       2       7            NaN             3   \n",
              "top              NaN  P00265242       M   26-35            NaN             B   \n",
              "freq             NaN       1880  414259  219587            NaN        231173   \n",
              "mean    1.003029e+06        NaN     NaN     NaN       8.076707           NaN   \n",
              "std     1.727592e+03        NaN     NaN     NaN       6.522660           NaN   \n",
              "min     1.000001e+06        NaN     NaN     NaN       0.000000           NaN   \n",
              "25%     1.001516e+06        NaN     NaN     NaN       2.000000           NaN   \n",
              "50%     1.003077e+06        NaN     NaN     NaN       7.000000           NaN   \n",
              "75%     1.004478e+06        NaN     NaN     NaN      14.000000           NaN   \n",
              "max     1.006040e+06        NaN     NaN     NaN      20.000000           NaN   \n",
              "\n",
              "       Stay_In_Current_City_Years  Marital_Status  Product_Category  \\\n",
              "count                      550068   550068.000000     550068.000000   \n",
              "unique                          5             NaN               NaN   \n",
              "top                             1             NaN               NaN   \n",
              "freq                       193821             NaN               NaN   \n",
              "mean                          NaN        0.409653          5.404270   \n",
              "std                           NaN        0.491770          3.936211   \n",
              "min                           NaN        0.000000          1.000000   \n",
              "25%                           NaN        0.000000          1.000000   \n",
              "50%                           NaN        0.000000          5.000000   \n",
              "75%                           NaN        1.000000          8.000000   \n",
              "max                           NaN        1.000000         20.000000   \n",
              "\n",
              "             Purchase  \n",
              "count   550068.000000  \n",
              "unique            NaN  \n",
              "top               NaN  \n",
              "freq              NaN  \n",
              "mean      9263.968713  \n",
              "std       5023.065394  \n",
              "min         12.000000  \n",
              "25%       5823.000000  \n",
              "50%       8047.000000  \n",
              "75%      12054.000000  \n",
              "max      23961.000000  "
            ],
            "text/html": [
              "\n",
              "  <div id=\"df-a8a71cb8-b3c5-4929-ad81-c54e99d7e603\">\n",
              "    <div class=\"colab-df-container\">\n",
              "      <div>\n",
              "<style scoped>\n",
              "    .dataframe tbody tr th:only-of-type {\n",
              "        vertical-align: middle;\n",
              "    }\n",
              "\n",
              "    .dataframe tbody tr th {\n",
              "        vertical-align: top;\n",
              "    }\n",
              "\n",
              "    .dataframe thead th {\n",
              "        text-align: right;\n",
              "    }\n",
              "</style>\n",
              "<table border=\"1\" class=\"dataframe\">\n",
              "  <thead>\n",
              "    <tr style=\"text-align: right;\">\n",
              "      <th></th>\n",
              "      <th>User_ID</th>\n",
              "      <th>Product_ID</th>\n",
              "      <th>Gender</th>\n",
              "      <th>Age</th>\n",
              "      <th>Occupation</th>\n",
              "      <th>City_Category</th>\n",
              "      <th>Stay_In_Current_City_Years</th>\n",
              "      <th>Marital_Status</th>\n",
              "      <th>Product_Category</th>\n",
              "      <th>Purchase</th>\n",
              "    </tr>\n",
              "  </thead>\n",
              "  <tbody>\n",
              "    <tr>\n",
              "      <th>count</th>\n",
              "      <td>5.500680e+05</td>\n",
              "      <td>550068</td>\n",
              "      <td>550068</td>\n",
              "      <td>550068</td>\n",
              "      <td>550068.000000</td>\n",
              "      <td>550068</td>\n",
              "      <td>550068</td>\n",
              "      <td>550068.000000</td>\n",
              "      <td>550068.000000</td>\n",
              "      <td>550068.000000</td>\n",
              "    </tr>\n",
              "    <tr>\n",
              "      <th>unique</th>\n",
              "      <td>NaN</td>\n",
              "      <td>3631</td>\n",
              "      <td>2</td>\n",
              "      <td>7</td>\n",
              "      <td>NaN</td>\n",
              "      <td>3</td>\n",
              "      <td>5</td>\n",
              "      <td>NaN</td>\n",
              "      <td>NaN</td>\n",
              "      <td>NaN</td>\n",
              "    </tr>\n",
              "    <tr>\n",
              "      <th>top</th>\n",
              "      <td>NaN</td>\n",
              "      <td>P00265242</td>\n",
              "      <td>M</td>\n",
              "      <td>26-35</td>\n",
              "      <td>NaN</td>\n",
              "      <td>B</td>\n",
              "      <td>1</td>\n",
              "      <td>NaN</td>\n",
              "      <td>NaN</td>\n",
              "      <td>NaN</td>\n",
              "    </tr>\n",
              "    <tr>\n",
              "      <th>freq</th>\n",
              "      <td>NaN</td>\n",
              "      <td>1880</td>\n",
              "      <td>414259</td>\n",
              "      <td>219587</td>\n",
              "      <td>NaN</td>\n",
              "      <td>231173</td>\n",
              "      <td>193821</td>\n",
              "      <td>NaN</td>\n",
              "      <td>NaN</td>\n",
              "      <td>NaN</td>\n",
              "    </tr>\n",
              "    <tr>\n",
              "      <th>mean</th>\n",
              "      <td>1.003029e+06</td>\n",
              "      <td>NaN</td>\n",
              "      <td>NaN</td>\n",
              "      <td>NaN</td>\n",
              "      <td>8.076707</td>\n",
              "      <td>NaN</td>\n",
              "      <td>NaN</td>\n",
              "      <td>0.409653</td>\n",
              "      <td>5.404270</td>\n",
              "      <td>9263.968713</td>\n",
              "    </tr>\n",
              "    <tr>\n",
              "      <th>std</th>\n",
              "      <td>1.727592e+03</td>\n",
              "      <td>NaN</td>\n",
              "      <td>NaN</td>\n",
              "      <td>NaN</td>\n",
              "      <td>6.522660</td>\n",
              "      <td>NaN</td>\n",
              "      <td>NaN</td>\n",
              "      <td>0.491770</td>\n",
              "      <td>3.936211</td>\n",
              "      <td>5023.065394</td>\n",
              "    </tr>\n",
              "    <tr>\n",
              "      <th>min</th>\n",
              "      <td>1.000001e+06</td>\n",
              "      <td>NaN</td>\n",
              "      <td>NaN</td>\n",
              "      <td>NaN</td>\n",
              "      <td>0.000000</td>\n",
              "      <td>NaN</td>\n",
              "      <td>NaN</td>\n",
              "      <td>0.000000</td>\n",
              "      <td>1.000000</td>\n",
              "      <td>12.000000</td>\n",
              "    </tr>\n",
              "    <tr>\n",
              "      <th>25%</th>\n",
              "      <td>1.001516e+06</td>\n",
              "      <td>NaN</td>\n",
              "      <td>NaN</td>\n",
              "      <td>NaN</td>\n",
              "      <td>2.000000</td>\n",
              "      <td>NaN</td>\n",
              "      <td>NaN</td>\n",
              "      <td>0.000000</td>\n",
              "      <td>1.000000</td>\n",
              "      <td>5823.000000</td>\n",
              "    </tr>\n",
              "    <tr>\n",
              "      <th>50%</th>\n",
              "      <td>1.003077e+06</td>\n",
              "      <td>NaN</td>\n",
              "      <td>NaN</td>\n",
              "      <td>NaN</td>\n",
              "      <td>7.000000</td>\n",
              "      <td>NaN</td>\n",
              "      <td>NaN</td>\n",
              "      <td>0.000000</td>\n",
              "      <td>5.000000</td>\n",
              "      <td>8047.000000</td>\n",
              "    </tr>\n",
              "    <tr>\n",
              "      <th>75%</th>\n",
              "      <td>1.004478e+06</td>\n",
              "      <td>NaN</td>\n",
              "      <td>NaN</td>\n",
              "      <td>NaN</td>\n",
              "      <td>14.000000</td>\n",
              "      <td>NaN</td>\n",
              "      <td>NaN</td>\n",
              "      <td>1.000000</td>\n",
              "      <td>8.000000</td>\n",
              "      <td>12054.000000</td>\n",
              "    </tr>\n",
              "    <tr>\n",
              "      <th>max</th>\n",
              "      <td>1.006040e+06</td>\n",
              "      <td>NaN</td>\n",
              "      <td>NaN</td>\n",
              "      <td>NaN</td>\n",
              "      <td>20.000000</td>\n",
              "      <td>NaN</td>\n",
              "      <td>NaN</td>\n",
              "      <td>1.000000</td>\n",
              "      <td>20.000000</td>\n",
              "      <td>23961.000000</td>\n",
              "    </tr>\n",
              "  </tbody>\n",
              "</table>\n",
              "</div>\n",
              "      <button class=\"colab-df-convert\" onclick=\"convertToInteractive('df-a8a71cb8-b3c5-4929-ad81-c54e99d7e603')\"\n",
              "              title=\"Convert this dataframe to an interactive table.\"\n",
              "              style=\"display:none;\">\n",
              "        \n",
              "  <svg xmlns=\"http://www.w3.org/2000/svg\" height=\"24px\"viewBox=\"0 0 24 24\"\n",
              "       width=\"24px\">\n",
              "    <path d=\"M0 0h24v24H0V0z\" fill=\"none\"/>\n",
              "    <path d=\"M18.56 5.44l.94 2.06.94-2.06 2.06-.94-2.06-.94-.94-2.06-.94 2.06-2.06.94zm-11 1L8.5 8.5l.94-2.06 2.06-.94-2.06-.94L8.5 2.5l-.94 2.06-2.06.94zm10 10l.94 2.06.94-2.06 2.06-.94-2.06-.94-.94-2.06-.94 2.06-2.06.94z\"/><path d=\"M17.41 7.96l-1.37-1.37c-.4-.4-.92-.59-1.43-.59-.52 0-1.04.2-1.43.59L10.3 9.45l-7.72 7.72c-.78.78-.78 2.05 0 2.83L4 21.41c.39.39.9.59 1.41.59.51 0 1.02-.2 1.41-.59l7.78-7.78 2.81-2.81c.8-.78.8-2.07 0-2.86zM5.41 20L4 18.59l7.72-7.72 1.47 1.35L5.41 20z\"/>\n",
              "  </svg>\n",
              "      </button>\n",
              "      \n",
              "  <style>\n",
              "    .colab-df-container {\n",
              "      display:flex;\n",
              "      flex-wrap:wrap;\n",
              "      gap: 12px;\n",
              "    }\n",
              "\n",
              "    .colab-df-convert {\n",
              "      background-color: #E8F0FE;\n",
              "      border: none;\n",
              "      border-radius: 50%;\n",
              "      cursor: pointer;\n",
              "      display: none;\n",
              "      fill: #1967D2;\n",
              "      height: 32px;\n",
              "      padding: 0 0 0 0;\n",
              "      width: 32px;\n",
              "    }\n",
              "\n",
              "    .colab-df-convert:hover {\n",
              "      background-color: #E2EBFA;\n",
              "      box-shadow: 0px 1px 2px rgba(60, 64, 67, 0.3), 0px 1px 3px 1px rgba(60, 64, 67, 0.15);\n",
              "      fill: #174EA6;\n",
              "    }\n",
              "\n",
              "    [theme=dark] .colab-df-convert {\n",
              "      background-color: #3B4455;\n",
              "      fill: #D2E3FC;\n",
              "    }\n",
              "\n",
              "    [theme=dark] .colab-df-convert:hover {\n",
              "      background-color: #434B5C;\n",
              "      box-shadow: 0px 1px 3px 1px rgba(0, 0, 0, 0.15);\n",
              "      filter: drop-shadow(0px 1px 2px rgba(0, 0, 0, 0.3));\n",
              "      fill: #FFFFFF;\n",
              "    }\n",
              "  </style>\n",
              "\n",
              "      <script>\n",
              "        const buttonEl =\n",
              "          document.querySelector('#df-a8a71cb8-b3c5-4929-ad81-c54e99d7e603 button.colab-df-convert');\n",
              "        buttonEl.style.display =\n",
              "          google.colab.kernel.accessAllowed ? 'block' : 'none';\n",
              "\n",
              "        async function convertToInteractive(key) {\n",
              "          const element = document.querySelector('#df-a8a71cb8-b3c5-4929-ad81-c54e99d7e603');\n",
              "          const dataTable =\n",
              "            await google.colab.kernel.invokeFunction('convertToInteractive',\n",
              "                                                     [key], {});\n",
              "          if (!dataTable) return;\n",
              "\n",
              "          const docLinkHtml = 'Like what you see? Visit the ' +\n",
              "            '<a target=\"_blank\" href=https://colab.research.google.com/notebooks/data_table.ipynb>data table notebook</a>'\n",
              "            + ' to learn more about interactive tables.';\n",
              "          element.innerHTML = '';\n",
              "          dataTable['output_type'] = 'display_data';\n",
              "          await google.colab.output.renderOutput(dataTable, element);\n",
              "          const docLink = document.createElement('div');\n",
              "          docLink.innerHTML = docLinkHtml;\n",
              "          element.appendChild(docLink);\n",
              "        }\n",
              "      </script>\n",
              "    </div>\n",
              "  </div>\n",
              "  "
            ]
          },
          "metadata": {},
          "execution_count": 38
        }
      ],
      "source": [
        "#Checking the characteristics of the data:\n",
        "df.describe(include='all')"
      ]
    },
    {
      "cell_type": "code",
      "execution_count": 39,
      "metadata": {
        "id": "0f1f326d",
        "outputId": "bb4bfab1-edae-46de-8bd2-3e84290a8711",
        "colab": {
          "base_uri": "https://localhost:8080/"
        }
      },
      "outputs": [
        {
          "output_type": "stream",
          "name": "stdout",
          "text": [
            "<class 'pandas.core.frame.DataFrame'>\n",
            "RangeIndex: 550068 entries, 0 to 550067\n",
            "Data columns (total 10 columns):\n",
            " #   Column                      Non-Null Count   Dtype \n",
            "---  ------                      --------------   ----- \n",
            " 0   User_ID                     550068 non-null  int64 \n",
            " 1   Product_ID                  550068 non-null  object\n",
            " 2   Gender                      550068 non-null  object\n",
            " 3   Age                         550068 non-null  object\n",
            " 4   Occupation                  550068 non-null  int64 \n",
            " 5   City_Category               550068 non-null  object\n",
            " 6   Stay_In_Current_City_Years  550068 non-null  object\n",
            " 7   Marital_Status              550068 non-null  int64 \n",
            " 8   Product_Category            550068 non-null  int64 \n",
            " 9   Purchase                    550068 non-null  int64 \n",
            "dtypes: int64(5), object(5)\n",
            "memory usage: 42.0+ MB\n"
          ]
        }
      ],
      "source": [
        "df.info()"
      ]
    },
    {
      "cell_type": "markdown",
      "metadata": {
        "id": "fcc9325b"
      },
      "source": [
        "**Initial Observations**:\n",
        "\n",
        "1. There are no missing values in the data.\n",
        "\n",
        "2. There are 3631 unique product IDs in the dataset. P00265242 is the most sold Product ID.\n",
        "\n",
        "3. There are 7 unique age groups and most of the purchase belongs to age 26-35 group.\n",
        "\n",
        "4. There are 3 unique citi categories with category B being the highest.\n",
        "\n",
        "5. 5 unique values for Stay_in_current_citi_years with 1 being the highest.\n",
        " \n",
        "3. The difference between mean and median seems to be significant for purchase that suggests outliers in the data.\n",
        "\n",
        "4. Minimum & Maximum purchase is 12 and 23961 suggests the purchasing behaviour is quite spread over a aignificant range of values. Mean is 9264 and 75% of purchase is of less than or equal to 12054. It suggest most of the purchase is not more than 12k.  \n",
        "\n",
        "5. Few categorical variable are of integer data type. It can be converted to character type.\n",
        "\n",
        "6. Out of 550068 data points, 414259's gender is Male and rest are the female. Male purchase count is much higher than female.\n",
        "\n",
        "7. Standard deviation for purchase have significant value which suggests data is more spread out for this attribute."
      ]
    },
    {
      "cell_type": "code",
      "execution_count": 40,
      "metadata": {
        "id": "6171bf07"
      },
      "outputs": [],
      "source": [
        "columns=['User_ID','Occupation', 'Marital_Status', 'Product_Category']\n",
        "df[columns]=df[columns].astype('object')"
      ]
    },
    {
      "cell_type": "code",
      "execution_count": 41,
      "metadata": {
        "id": "3240fa96",
        "outputId": "24f510b6-ea33-405e-9c52-87aabaee8141",
        "colab": {
          "base_uri": "https://localhost:8080/"
        }
      },
      "outputs": [
        {
          "output_type": "stream",
          "name": "stdout",
          "text": [
            "<class 'pandas.core.frame.DataFrame'>\n",
            "RangeIndex: 550068 entries, 0 to 550067\n",
            "Data columns (total 10 columns):\n",
            " #   Column                      Non-Null Count   Dtype \n",
            "---  ------                      --------------   ----- \n",
            " 0   User_ID                     550068 non-null  object\n",
            " 1   Product_ID                  550068 non-null  object\n",
            " 2   Gender                      550068 non-null  object\n",
            " 3   Age                         550068 non-null  object\n",
            " 4   Occupation                  550068 non-null  object\n",
            " 5   City_Category               550068 non-null  object\n",
            " 6   Stay_In_Current_City_Years  550068 non-null  object\n",
            " 7   Marital_Status              550068 non-null  object\n",
            " 8   Product_Category            550068 non-null  object\n",
            " 9   Purchase                    550068 non-null  int64 \n",
            "dtypes: int64(1), object(9)\n",
            "memory usage: 42.0+ MB\n"
          ]
        }
      ],
      "source": [
        "df.info()"
      ]
    },
    {
      "cell_type": "code",
      "execution_count": 42,
      "metadata": {
        "id": "ff3b4240",
        "outputId": "872319a8-4cfb-460a-93e1-3f924dda9791",
        "colab": {
          "base_uri": "https://localhost:8080/",
          "height": 394
        }
      },
      "outputs": [
        {
          "output_type": "execute_result",
          "data": {
            "text/plain": [
              "          User_ID Product_ID  Gender     Age  Occupation City_Category  \\\n",
              "count    550068.0     550068  550068  550068    550068.0        550068   \n",
              "unique     5891.0       3631       2       7        21.0             3   \n",
              "top     1001680.0  P00265242       M   26-35         4.0             B   \n",
              "freq       1026.0       1880  414259  219587     72308.0        231173   \n",
              "mean          NaN        NaN     NaN     NaN         NaN           NaN   \n",
              "std           NaN        NaN     NaN     NaN         NaN           NaN   \n",
              "min           NaN        NaN     NaN     NaN         NaN           NaN   \n",
              "25%           NaN        NaN     NaN     NaN         NaN           NaN   \n",
              "50%           NaN        NaN     NaN     NaN         NaN           NaN   \n",
              "75%           NaN        NaN     NaN     NaN         NaN           NaN   \n",
              "max           NaN        NaN     NaN     NaN         NaN           NaN   \n",
              "\n",
              "       Stay_In_Current_City_Years  Marital_Status  Product_Category  \\\n",
              "count                      550068        550068.0          550068.0   \n",
              "unique                          5             2.0              20.0   \n",
              "top                             1             0.0               5.0   \n",
              "freq                       193821        324731.0          150933.0   \n",
              "mean                          NaN             NaN               NaN   \n",
              "std                           NaN             NaN               NaN   \n",
              "min                           NaN             NaN               NaN   \n",
              "25%                           NaN             NaN               NaN   \n",
              "50%                           NaN             NaN               NaN   \n",
              "75%                           NaN             NaN               NaN   \n",
              "max                           NaN             NaN               NaN   \n",
              "\n",
              "             Purchase  \n",
              "count   550068.000000  \n",
              "unique            NaN  \n",
              "top               NaN  \n",
              "freq              NaN  \n",
              "mean      9263.968713  \n",
              "std       5023.065394  \n",
              "min         12.000000  \n",
              "25%       5823.000000  \n",
              "50%       8047.000000  \n",
              "75%      12054.000000  \n",
              "max      23961.000000  "
            ],
            "text/html": [
              "\n",
              "  <div id=\"df-4734ff02-b447-454b-9319-88f7bd2ae196\">\n",
              "    <div class=\"colab-df-container\">\n",
              "      <div>\n",
              "<style scoped>\n",
              "    .dataframe tbody tr th:only-of-type {\n",
              "        vertical-align: middle;\n",
              "    }\n",
              "\n",
              "    .dataframe tbody tr th {\n",
              "        vertical-align: top;\n",
              "    }\n",
              "\n",
              "    .dataframe thead th {\n",
              "        text-align: right;\n",
              "    }\n",
              "</style>\n",
              "<table border=\"1\" class=\"dataframe\">\n",
              "  <thead>\n",
              "    <tr style=\"text-align: right;\">\n",
              "      <th></th>\n",
              "      <th>User_ID</th>\n",
              "      <th>Product_ID</th>\n",
              "      <th>Gender</th>\n",
              "      <th>Age</th>\n",
              "      <th>Occupation</th>\n",
              "      <th>City_Category</th>\n",
              "      <th>Stay_In_Current_City_Years</th>\n",
              "      <th>Marital_Status</th>\n",
              "      <th>Product_Category</th>\n",
              "      <th>Purchase</th>\n",
              "    </tr>\n",
              "  </thead>\n",
              "  <tbody>\n",
              "    <tr>\n",
              "      <th>count</th>\n",
              "      <td>550068.0</td>\n",
              "      <td>550068</td>\n",
              "      <td>550068</td>\n",
              "      <td>550068</td>\n",
              "      <td>550068.0</td>\n",
              "      <td>550068</td>\n",
              "      <td>550068</td>\n",
              "      <td>550068.0</td>\n",
              "      <td>550068.0</td>\n",
              "      <td>550068.000000</td>\n",
              "    </tr>\n",
              "    <tr>\n",
              "      <th>unique</th>\n",
              "      <td>5891.0</td>\n",
              "      <td>3631</td>\n",
              "      <td>2</td>\n",
              "      <td>7</td>\n",
              "      <td>21.0</td>\n",
              "      <td>3</td>\n",
              "      <td>5</td>\n",
              "      <td>2.0</td>\n",
              "      <td>20.0</td>\n",
              "      <td>NaN</td>\n",
              "    </tr>\n",
              "    <tr>\n",
              "      <th>top</th>\n",
              "      <td>1001680.0</td>\n",
              "      <td>P00265242</td>\n",
              "      <td>M</td>\n",
              "      <td>26-35</td>\n",
              "      <td>4.0</td>\n",
              "      <td>B</td>\n",
              "      <td>1</td>\n",
              "      <td>0.0</td>\n",
              "      <td>5.0</td>\n",
              "      <td>NaN</td>\n",
              "    </tr>\n",
              "    <tr>\n",
              "      <th>freq</th>\n",
              "      <td>1026.0</td>\n",
              "      <td>1880</td>\n",
              "      <td>414259</td>\n",
              "      <td>219587</td>\n",
              "      <td>72308.0</td>\n",
              "      <td>231173</td>\n",
              "      <td>193821</td>\n",
              "      <td>324731.0</td>\n",
              "      <td>150933.0</td>\n",
              "      <td>NaN</td>\n",
              "    </tr>\n",
              "    <tr>\n",
              "      <th>mean</th>\n",
              "      <td>NaN</td>\n",
              "      <td>NaN</td>\n",
              "      <td>NaN</td>\n",
              "      <td>NaN</td>\n",
              "      <td>NaN</td>\n",
              "      <td>NaN</td>\n",
              "      <td>NaN</td>\n",
              "      <td>NaN</td>\n",
              "      <td>NaN</td>\n",
              "      <td>9263.968713</td>\n",
              "    </tr>\n",
              "    <tr>\n",
              "      <th>std</th>\n",
              "      <td>NaN</td>\n",
              "      <td>NaN</td>\n",
              "      <td>NaN</td>\n",
              "      <td>NaN</td>\n",
              "      <td>NaN</td>\n",
              "      <td>NaN</td>\n",
              "      <td>NaN</td>\n",
              "      <td>NaN</td>\n",
              "      <td>NaN</td>\n",
              "      <td>5023.065394</td>\n",
              "    </tr>\n",
              "    <tr>\n",
              "      <th>min</th>\n",
              "      <td>NaN</td>\n",
              "      <td>NaN</td>\n",
              "      <td>NaN</td>\n",
              "      <td>NaN</td>\n",
              "      <td>NaN</td>\n",
              "      <td>NaN</td>\n",
              "      <td>NaN</td>\n",
              "      <td>NaN</td>\n",
              "      <td>NaN</td>\n",
              "      <td>12.000000</td>\n",
              "    </tr>\n",
              "    <tr>\n",
              "      <th>25%</th>\n",
              "      <td>NaN</td>\n",
              "      <td>NaN</td>\n",
              "      <td>NaN</td>\n",
              "      <td>NaN</td>\n",
              "      <td>NaN</td>\n",
              "      <td>NaN</td>\n",
              "      <td>NaN</td>\n",
              "      <td>NaN</td>\n",
              "      <td>NaN</td>\n",
              "      <td>5823.000000</td>\n",
              "    </tr>\n",
              "    <tr>\n",
              "      <th>50%</th>\n",
              "      <td>NaN</td>\n",
              "      <td>NaN</td>\n",
              "      <td>NaN</td>\n",
              "      <td>NaN</td>\n",
              "      <td>NaN</td>\n",
              "      <td>NaN</td>\n",
              "      <td>NaN</td>\n",
              "      <td>NaN</td>\n",
              "      <td>NaN</td>\n",
              "      <td>8047.000000</td>\n",
              "    </tr>\n",
              "    <tr>\n",
              "      <th>75%</th>\n",
              "      <td>NaN</td>\n",
              "      <td>NaN</td>\n",
              "      <td>NaN</td>\n",
              "      <td>NaN</td>\n",
              "      <td>NaN</td>\n",
              "      <td>NaN</td>\n",
              "      <td>NaN</td>\n",
              "      <td>NaN</td>\n",
              "      <td>NaN</td>\n",
              "      <td>12054.000000</td>\n",
              "    </tr>\n",
              "    <tr>\n",
              "      <th>max</th>\n",
              "      <td>NaN</td>\n",
              "      <td>NaN</td>\n",
              "      <td>NaN</td>\n",
              "      <td>NaN</td>\n",
              "      <td>NaN</td>\n",
              "      <td>NaN</td>\n",
              "      <td>NaN</td>\n",
              "      <td>NaN</td>\n",
              "      <td>NaN</td>\n",
              "      <td>23961.000000</td>\n",
              "    </tr>\n",
              "  </tbody>\n",
              "</table>\n",
              "</div>\n",
              "      <button class=\"colab-df-convert\" onclick=\"convertToInteractive('df-4734ff02-b447-454b-9319-88f7bd2ae196')\"\n",
              "              title=\"Convert this dataframe to an interactive table.\"\n",
              "              style=\"display:none;\">\n",
              "        \n",
              "  <svg xmlns=\"http://www.w3.org/2000/svg\" height=\"24px\"viewBox=\"0 0 24 24\"\n",
              "       width=\"24px\">\n",
              "    <path d=\"M0 0h24v24H0V0z\" fill=\"none\"/>\n",
              "    <path d=\"M18.56 5.44l.94 2.06.94-2.06 2.06-.94-2.06-.94-.94-2.06-.94 2.06-2.06.94zm-11 1L8.5 8.5l.94-2.06 2.06-.94-2.06-.94L8.5 2.5l-.94 2.06-2.06.94zm10 10l.94 2.06.94-2.06 2.06-.94-2.06-.94-.94-2.06-.94 2.06-2.06.94z\"/><path d=\"M17.41 7.96l-1.37-1.37c-.4-.4-.92-.59-1.43-.59-.52 0-1.04.2-1.43.59L10.3 9.45l-7.72 7.72c-.78.78-.78 2.05 0 2.83L4 21.41c.39.39.9.59 1.41.59.51 0 1.02-.2 1.41-.59l7.78-7.78 2.81-2.81c.8-.78.8-2.07 0-2.86zM5.41 20L4 18.59l7.72-7.72 1.47 1.35L5.41 20z\"/>\n",
              "  </svg>\n",
              "      </button>\n",
              "      \n",
              "  <style>\n",
              "    .colab-df-container {\n",
              "      display:flex;\n",
              "      flex-wrap:wrap;\n",
              "      gap: 12px;\n",
              "    }\n",
              "\n",
              "    .colab-df-convert {\n",
              "      background-color: #E8F0FE;\n",
              "      border: none;\n",
              "      border-radius: 50%;\n",
              "      cursor: pointer;\n",
              "      display: none;\n",
              "      fill: #1967D2;\n",
              "      height: 32px;\n",
              "      padding: 0 0 0 0;\n",
              "      width: 32px;\n",
              "    }\n",
              "\n",
              "    .colab-df-convert:hover {\n",
              "      background-color: #E2EBFA;\n",
              "      box-shadow: 0px 1px 2px rgba(60, 64, 67, 0.3), 0px 1px 3px 1px rgba(60, 64, 67, 0.15);\n",
              "      fill: #174EA6;\n",
              "    }\n",
              "\n",
              "    [theme=dark] .colab-df-convert {\n",
              "      background-color: #3B4455;\n",
              "      fill: #D2E3FC;\n",
              "    }\n",
              "\n",
              "    [theme=dark] .colab-df-convert:hover {\n",
              "      background-color: #434B5C;\n",
              "      box-shadow: 0px 1px 3px 1px rgba(0, 0, 0, 0.15);\n",
              "      filter: drop-shadow(0px 1px 2px rgba(0, 0, 0, 0.3));\n",
              "      fill: #FFFFFF;\n",
              "    }\n",
              "  </style>\n",
              "\n",
              "      <script>\n",
              "        const buttonEl =\n",
              "          document.querySelector('#df-4734ff02-b447-454b-9319-88f7bd2ae196 button.colab-df-convert');\n",
              "        buttonEl.style.display =\n",
              "          google.colab.kernel.accessAllowed ? 'block' : 'none';\n",
              "\n",
              "        async function convertToInteractive(key) {\n",
              "          const element = document.querySelector('#df-4734ff02-b447-454b-9319-88f7bd2ae196');\n",
              "          const dataTable =\n",
              "            await google.colab.kernel.invokeFunction('convertToInteractive',\n",
              "                                                     [key], {});\n",
              "          if (!dataTable) return;\n",
              "\n",
              "          const docLinkHtml = 'Like what you see? Visit the ' +\n",
              "            '<a target=\"_blank\" href=https://colab.research.google.com/notebooks/data_table.ipynb>data table notebook</a>'\n",
              "            + ' to learn more about interactive tables.';\n",
              "          element.innerHTML = '';\n",
              "          dataTable['output_type'] = 'display_data';\n",
              "          await google.colab.output.renderOutput(dataTable, element);\n",
              "          const docLink = document.createElement('div');\n",
              "          docLink.innerHTML = docLinkHtml;\n",
              "          element.appendChild(docLink);\n",
              "        }\n",
              "      </script>\n",
              "    </div>\n",
              "  </div>\n",
              "  "
            ]
          },
          "metadata": {},
          "execution_count": 42
        }
      ],
      "source": [
        "df.describe(include='all')"
      ]
    },
    {
      "cell_type": "markdown",
      "metadata": {
        "id": "94e1509d"
      },
      "source": [
        "**Observation** after modifying the categorical variable's data type:\n",
        "\n",
        "1. There are 5891 unique users, and userid 1001680 being with the highest count.\n",
        "2. The customers belongs to 21 distinct occupation for the purchases being made with Occupation 4 being the highest.\n",
        "3. Marital status unmarried contribute more in terms of the count for the purchase.\n",
        "4. There are 20 unique product categories with 5 being the highest."
      ]
    },
    {
      "cell_type": "code",
      "execution_count": 44,
      "metadata": {
        "id": "8b2f25e1",
        "outputId": "19b95e68-9b88-43cb-f0b3-597d1e09fcde",
        "colab": {
          "base_uri": "https://localhost:8080/",
          "height": 677
        }
      },
      "outputs": [
        {
          "output_type": "execute_result",
          "data": {
            "text/plain": [
              "                                     value\n",
              "variable                   value          \n",
              "Age                        0-17   0.027455\n",
              "                           18-25  0.181178\n",
              "                           26-35  0.399200\n",
              "                           36-45  0.199999\n",
              "                           46-50  0.083082\n",
              "                           51-55  0.069993\n",
              "                           55+    0.039093\n",
              "City_Category              A      0.268549\n",
              "                           B      0.420263\n",
              "                           C      0.311189\n",
              "Gender                     F      0.246895\n",
              "                           M      0.753105\n",
              "Marital_Status             0      0.590347\n",
              "                           1      0.409653\n",
              "Stay_In_Current_City_Years 0      0.135252\n",
              "                           1      0.352358\n",
              "                           2      0.185137\n",
              "                           3      0.173224\n",
              "                           4+     0.154028"
            ],
            "text/html": [
              "\n",
              "  <div id=\"df-0c0b0009-8971-400b-b61e-7e56b388a70a\">\n",
              "    <div class=\"colab-df-container\">\n",
              "      <div>\n",
              "<style scoped>\n",
              "    .dataframe tbody tr th:only-of-type {\n",
              "        vertical-align: middle;\n",
              "    }\n",
              "\n",
              "    .dataframe tbody tr th {\n",
              "        vertical-align: top;\n",
              "    }\n",
              "\n",
              "    .dataframe thead th {\n",
              "        text-align: right;\n",
              "    }\n",
              "</style>\n",
              "<table border=\"1\" class=\"dataframe\">\n",
              "  <thead>\n",
              "    <tr style=\"text-align: right;\">\n",
              "      <th></th>\n",
              "      <th></th>\n",
              "      <th>value</th>\n",
              "    </tr>\n",
              "    <tr>\n",
              "      <th>variable</th>\n",
              "      <th>value</th>\n",
              "      <th></th>\n",
              "    </tr>\n",
              "  </thead>\n",
              "  <tbody>\n",
              "    <tr>\n",
              "      <th rowspan=\"7\" valign=\"top\">Age</th>\n",
              "      <th>0-17</th>\n",
              "      <td>0.027455</td>\n",
              "    </tr>\n",
              "    <tr>\n",
              "      <th>18-25</th>\n",
              "      <td>0.181178</td>\n",
              "    </tr>\n",
              "    <tr>\n",
              "      <th>26-35</th>\n",
              "      <td>0.399200</td>\n",
              "    </tr>\n",
              "    <tr>\n",
              "      <th>36-45</th>\n",
              "      <td>0.199999</td>\n",
              "    </tr>\n",
              "    <tr>\n",
              "      <th>46-50</th>\n",
              "      <td>0.083082</td>\n",
              "    </tr>\n",
              "    <tr>\n",
              "      <th>51-55</th>\n",
              "      <td>0.069993</td>\n",
              "    </tr>\n",
              "    <tr>\n",
              "      <th>55+</th>\n",
              "      <td>0.039093</td>\n",
              "    </tr>\n",
              "    <tr>\n",
              "      <th rowspan=\"3\" valign=\"top\">City_Category</th>\n",
              "      <th>A</th>\n",
              "      <td>0.268549</td>\n",
              "    </tr>\n",
              "    <tr>\n",
              "      <th>B</th>\n",
              "      <td>0.420263</td>\n",
              "    </tr>\n",
              "    <tr>\n",
              "      <th>C</th>\n",
              "      <td>0.311189</td>\n",
              "    </tr>\n",
              "    <tr>\n",
              "      <th rowspan=\"2\" valign=\"top\">Gender</th>\n",
              "      <th>F</th>\n",
              "      <td>0.246895</td>\n",
              "    </tr>\n",
              "    <tr>\n",
              "      <th>M</th>\n",
              "      <td>0.753105</td>\n",
              "    </tr>\n",
              "    <tr>\n",
              "      <th rowspan=\"2\" valign=\"top\">Marital_Status</th>\n",
              "      <th>0</th>\n",
              "      <td>0.590347</td>\n",
              "    </tr>\n",
              "    <tr>\n",
              "      <th>1</th>\n",
              "      <td>0.409653</td>\n",
              "    </tr>\n",
              "    <tr>\n",
              "      <th rowspan=\"5\" valign=\"top\">Stay_In_Current_City_Years</th>\n",
              "      <th>0</th>\n",
              "      <td>0.135252</td>\n",
              "    </tr>\n",
              "    <tr>\n",
              "      <th>1</th>\n",
              "      <td>0.352358</td>\n",
              "    </tr>\n",
              "    <tr>\n",
              "      <th>2</th>\n",
              "      <td>0.185137</td>\n",
              "    </tr>\n",
              "    <tr>\n",
              "      <th>3</th>\n",
              "      <td>0.173224</td>\n",
              "    </tr>\n",
              "    <tr>\n",
              "      <th>4+</th>\n",
              "      <td>0.154028</td>\n",
              "    </tr>\n",
              "  </tbody>\n",
              "</table>\n",
              "</div>\n",
              "      <button class=\"colab-df-convert\" onclick=\"convertToInteractive('df-0c0b0009-8971-400b-b61e-7e56b388a70a')\"\n",
              "              title=\"Convert this dataframe to an interactive table.\"\n",
              "              style=\"display:none;\">\n",
              "        \n",
              "  <svg xmlns=\"http://www.w3.org/2000/svg\" height=\"24px\"viewBox=\"0 0 24 24\"\n",
              "       width=\"24px\">\n",
              "    <path d=\"M0 0h24v24H0V0z\" fill=\"none\"/>\n",
              "    <path d=\"M18.56 5.44l.94 2.06.94-2.06 2.06-.94-2.06-.94-.94-2.06-.94 2.06-2.06.94zm-11 1L8.5 8.5l.94-2.06 2.06-.94-2.06-.94L8.5 2.5l-.94 2.06-2.06.94zm10 10l.94 2.06.94-2.06 2.06-.94-2.06-.94-.94-2.06-.94 2.06-2.06.94z\"/><path d=\"M17.41 7.96l-1.37-1.37c-.4-.4-.92-.59-1.43-.59-.52 0-1.04.2-1.43.59L10.3 9.45l-7.72 7.72c-.78.78-.78 2.05 0 2.83L4 21.41c.39.39.9.59 1.41.59.51 0 1.02-.2 1.41-.59l7.78-7.78 2.81-2.81c.8-.78.8-2.07 0-2.86zM5.41 20L4 18.59l7.72-7.72 1.47 1.35L5.41 20z\"/>\n",
              "  </svg>\n",
              "      </button>\n",
              "      \n",
              "  <style>\n",
              "    .colab-df-container {\n",
              "      display:flex;\n",
              "      flex-wrap:wrap;\n",
              "      gap: 12px;\n",
              "    }\n",
              "\n",
              "    .colab-df-convert {\n",
              "      background-color: #E8F0FE;\n",
              "      border: none;\n",
              "      border-radius: 50%;\n",
              "      cursor: pointer;\n",
              "      display: none;\n",
              "      fill: #1967D2;\n",
              "      height: 32px;\n",
              "      padding: 0 0 0 0;\n",
              "      width: 32px;\n",
              "    }\n",
              "\n",
              "    .colab-df-convert:hover {\n",
              "      background-color: #E2EBFA;\n",
              "      box-shadow: 0px 1px 2px rgba(60, 64, 67, 0.3), 0px 1px 3px 1px rgba(60, 64, 67, 0.15);\n",
              "      fill: #174EA6;\n",
              "    }\n",
              "\n",
              "    [theme=dark] .colab-df-convert {\n",
              "      background-color: #3B4455;\n",
              "      fill: #D2E3FC;\n",
              "    }\n",
              "\n",
              "    [theme=dark] .colab-df-convert:hover {\n",
              "      background-color: #434B5C;\n",
              "      box-shadow: 0px 1px 3px 1px rgba(0, 0, 0, 0.15);\n",
              "      filter: drop-shadow(0px 1px 2px rgba(0, 0, 0, 0.3));\n",
              "      fill: #FFFFFF;\n",
              "    }\n",
              "  </style>\n",
              "\n",
              "      <script>\n",
              "        const buttonEl =\n",
              "          document.querySelector('#df-0c0b0009-8971-400b-b61e-7e56b388a70a button.colab-df-convert');\n",
              "        buttonEl.style.display =\n",
              "          google.colab.kernel.accessAllowed ? 'block' : 'none';\n",
              "\n",
              "        async function convertToInteractive(key) {\n",
              "          const element = document.querySelector('#df-0c0b0009-8971-400b-b61e-7e56b388a70a');\n",
              "          const dataTable =\n",
              "            await google.colab.kernel.invokeFunction('convertToInteractive',\n",
              "                                                     [key], {});\n",
              "          if (!dataTable) return;\n",
              "\n",
              "          const docLinkHtml = 'Like what you see? Visit the ' +\n",
              "            '<a target=\"_blank\" href=https://colab.research.google.com/notebooks/data_table.ipynb>data table notebook</a>'\n",
              "            + ' to learn more about interactive tables.';\n",
              "          element.innerHTML = '';\n",
              "          dataTable['output_type'] = 'display_data';\n",
              "          await google.colab.output.renderOutput(dataTable, element);\n",
              "          const docLink = document.createElement('div');\n",
              "          docLink.innerHTML = docLinkHtml;\n",
              "          element.appendChild(docLink);\n",
              "        }\n",
              "      </script>\n",
              "    </div>\n",
              "  </div>\n",
              "  "
            ]
          },
          "metadata": {},
          "execution_count": 44
        }
      ],
      "source": [
        "# Checking how categorical variables contributes to the entire data\n",
        "categ_cols = ['Gender', 'Age', 'City_Category', 'Stay_In_Current_City_Years', 'Marital_Status']\n",
        "df[categ_cols].melt().groupby(['variable', 'value'])[['value']].count()/len(df)"
      ]
    },
    {
      "cell_type": "markdown",
      "metadata": {
        "id": "38a87257"
      },
      "source": [
        "**Observations**:\n",
        "    \n",
        "    1. 40% of the purchase done by aged 26-35 and 78% purchase are done by the customers aged between the age 18-45 (40%: 26-35, 18%: 18-25, 20%: 36-45)\n",
        "    2. 75% of the purchase count are done by Male and 25% by Female\n",
        "    3. 60% Single, 40% Married contributes to the purchase count.\n",
        "    4. 35% Staying in the city from 1 year, 18% from 2 years, 17% from 3 years\n",
        "    5. There are 20 product categories in total.\n",
        "    6. There are 20 different types of occupations in the city."
      ]
    },
    {
      "cell_type": "code",
      "execution_count": 13,
      "metadata": {
        "id": "bc08ec1d",
        "outputId": "4d94bace-7c3e-41c7-b1af-96ab3df108c3",
        "colab": {
          "base_uri": "https://localhost:8080/",
          "height": 206
        }
      },
      "outputs": [
        {
          "output_type": "execute_result",
          "data": {
            "text/plain": [
              "Age                0-17     18-25     26-35     36-45     46-50     51-55  \\\n",
              "City_Category                                                               \n",
              "A              0.017581  0.188620  0.497570  0.180619  0.050866  0.040891   \n",
              "B              0.023233  0.190390  0.394433  0.204996  0.087159  0.077264   \n",
              "C              0.041927  0.169346  0.317152  0.208818  0.102216  0.085526   \n",
              "All            0.027485  0.183412  0.398354  0.199607  0.082029  0.070013   \n",
              "\n",
              "Age                 55+  \n",
              "City_Category            \n",
              "A              0.023853  \n",
              "B              0.022525  \n",
              "C              0.075014  \n",
              "All            0.039099  "
            ],
            "text/html": [
              "\n",
              "  <div id=\"df-4495d975-ffb5-497d-afde-f587543d722f\">\n",
              "    <div class=\"colab-df-container\">\n",
              "      <div>\n",
              "<style scoped>\n",
              "    .dataframe tbody tr th:only-of-type {\n",
              "        vertical-align: middle;\n",
              "    }\n",
              "\n",
              "    .dataframe tbody tr th {\n",
              "        vertical-align: top;\n",
              "    }\n",
              "\n",
              "    .dataframe thead th {\n",
              "        text-align: right;\n",
              "    }\n",
              "</style>\n",
              "<table border=\"1\" class=\"dataframe\">\n",
              "  <thead>\n",
              "    <tr style=\"text-align: right;\">\n",
              "      <th>Age</th>\n",
              "      <th>0-17</th>\n",
              "      <th>18-25</th>\n",
              "      <th>26-35</th>\n",
              "      <th>36-45</th>\n",
              "      <th>46-50</th>\n",
              "      <th>51-55</th>\n",
              "      <th>55+</th>\n",
              "    </tr>\n",
              "    <tr>\n",
              "      <th>City_Category</th>\n",
              "      <th></th>\n",
              "      <th></th>\n",
              "      <th></th>\n",
              "      <th></th>\n",
              "      <th></th>\n",
              "      <th></th>\n",
              "      <th></th>\n",
              "    </tr>\n",
              "  </thead>\n",
              "  <tbody>\n",
              "    <tr>\n",
              "      <th>A</th>\n",
              "      <td>0.017581</td>\n",
              "      <td>0.188620</td>\n",
              "      <td>0.497570</td>\n",
              "      <td>0.180619</td>\n",
              "      <td>0.050866</td>\n",
              "      <td>0.040891</td>\n",
              "      <td>0.023853</td>\n",
              "    </tr>\n",
              "    <tr>\n",
              "      <th>B</th>\n",
              "      <td>0.023233</td>\n",
              "      <td>0.190390</td>\n",
              "      <td>0.394433</td>\n",
              "      <td>0.204996</td>\n",
              "      <td>0.087159</td>\n",
              "      <td>0.077264</td>\n",
              "      <td>0.022525</td>\n",
              "    </tr>\n",
              "    <tr>\n",
              "      <th>C</th>\n",
              "      <td>0.041927</td>\n",
              "      <td>0.169346</td>\n",
              "      <td>0.317152</td>\n",
              "      <td>0.208818</td>\n",
              "      <td>0.102216</td>\n",
              "      <td>0.085526</td>\n",
              "      <td>0.075014</td>\n",
              "    </tr>\n",
              "    <tr>\n",
              "      <th>All</th>\n",
              "      <td>0.027485</td>\n",
              "      <td>0.183412</td>\n",
              "      <td>0.398354</td>\n",
              "      <td>0.199607</td>\n",
              "      <td>0.082029</td>\n",
              "      <td>0.070013</td>\n",
              "      <td>0.039099</td>\n",
              "    </tr>\n",
              "  </tbody>\n",
              "</table>\n",
              "</div>\n",
              "      <button class=\"colab-df-convert\" onclick=\"convertToInteractive('df-4495d975-ffb5-497d-afde-f587543d722f')\"\n",
              "              title=\"Convert this dataframe to an interactive table.\"\n",
              "              style=\"display:none;\">\n",
              "        \n",
              "  <svg xmlns=\"http://www.w3.org/2000/svg\" height=\"24px\"viewBox=\"0 0 24 24\"\n",
              "       width=\"24px\">\n",
              "    <path d=\"M0 0h24v24H0V0z\" fill=\"none\"/>\n",
              "    <path d=\"M18.56 5.44l.94 2.06.94-2.06 2.06-.94-2.06-.94-.94-2.06-.94 2.06-2.06.94zm-11 1L8.5 8.5l.94-2.06 2.06-.94-2.06-.94L8.5 2.5l-.94 2.06-2.06.94zm10 10l.94 2.06.94-2.06 2.06-.94-2.06-.94-.94-2.06-.94 2.06-2.06.94z\"/><path d=\"M17.41 7.96l-1.37-1.37c-.4-.4-.92-.59-1.43-.59-.52 0-1.04.2-1.43.59L10.3 9.45l-7.72 7.72c-.78.78-.78 2.05 0 2.83L4 21.41c.39.39.9.59 1.41.59.51 0 1.02-.2 1.41-.59l7.78-7.78 2.81-2.81c.8-.78.8-2.07 0-2.86zM5.41 20L4 18.59l7.72-7.72 1.47 1.35L5.41 20z\"/>\n",
              "  </svg>\n",
              "      </button>\n",
              "      \n",
              "  <style>\n",
              "    .colab-df-container {\n",
              "      display:flex;\n",
              "      flex-wrap:wrap;\n",
              "      gap: 12px;\n",
              "    }\n",
              "\n",
              "    .colab-df-convert {\n",
              "      background-color: #E8F0FE;\n",
              "      border: none;\n",
              "      border-radius: 50%;\n",
              "      cursor: pointer;\n",
              "      display: none;\n",
              "      fill: #1967D2;\n",
              "      height: 32px;\n",
              "      padding: 0 0 0 0;\n",
              "      width: 32px;\n",
              "    }\n",
              "\n",
              "    .colab-df-convert:hover {\n",
              "      background-color: #E2EBFA;\n",
              "      box-shadow: 0px 1px 2px rgba(60, 64, 67, 0.3), 0px 1px 3px 1px rgba(60, 64, 67, 0.15);\n",
              "      fill: #174EA6;\n",
              "    }\n",
              "\n",
              "    [theme=dark] .colab-df-convert {\n",
              "      background-color: #3B4455;\n",
              "      fill: #D2E3FC;\n",
              "    }\n",
              "\n",
              "    [theme=dark] .colab-df-convert:hover {\n",
              "      background-color: #434B5C;\n",
              "      box-shadow: 0px 1px 3px 1px rgba(0, 0, 0, 0.15);\n",
              "      filter: drop-shadow(0px 1px 2px rgba(0, 0, 0, 0.3));\n",
              "      fill: #FFFFFF;\n",
              "    }\n",
              "  </style>\n",
              "\n",
              "      <script>\n",
              "        const buttonEl =\n",
              "          document.querySelector('#df-4495d975-ffb5-497d-afde-f587543d722f button.colab-df-convert');\n",
              "        buttonEl.style.display =\n",
              "          google.colab.kernel.accessAllowed ? 'block' : 'none';\n",
              "\n",
              "        async function convertToInteractive(key) {\n",
              "          const element = document.querySelector('#df-4495d975-ffb5-497d-afde-f587543d722f');\n",
              "          const dataTable =\n",
              "            await google.colab.kernel.invokeFunction('convertToInteractive',\n",
              "                                                     [key], {});\n",
              "          if (!dataTable) return;\n",
              "\n",
              "          const docLinkHtml = 'Like what you see? Visit the ' +\n",
              "            '<a target=\"_blank\" href=https://colab.research.google.com/notebooks/data_table.ipynb>data table notebook</a>'\n",
              "            + ' to learn more about interactive tables.';\n",
              "          element.innerHTML = '';\n",
              "          dataTable['output_type'] = 'display_data';\n",
              "          await google.colab.output.renderOutput(dataTable, element);\n",
              "          const docLink = document.createElement('div');\n",
              "          docLink.innerHTML = docLinkHtml;\n",
              "          element.appendChild(docLink);\n",
              "        }\n",
              "      </script>\n",
              "    </div>\n",
              "  </div>\n",
              "  "
            ]
          },
          "metadata": {},
          "execution_count": 13
        }
      ],
      "source": [
        "#Checking the age group distribution in different city categories\n",
        "pd.crosstab(index=df[\"City_Category\"],columns=df[\"Age\"],margins=True,normalize=\"index\")"
      ]
    },
    {
      "cell_type": "markdown",
      "metadata": {
        "id": "82f93f33"
      },
      "source": [
        "**Observation**:\n",
        "    \n",
        "    1. We have seen earlier that city category B and A constitutes less percentage of total population, but they contribute more towards purchase count. We can see from above results large percentage of customers aged 26-35 for B(40%) and A (50%) which can be the reason for these city categories to be more actively purchasing."
      ]
    },
    {
      "cell_type": "code",
      "execution_count": 45,
      "metadata": {
        "id": "a6899410",
        "outputId": "a51d65d1-3dbc-46e4-cd72-72441ab643b7",
        "colab": {
          "base_uri": "https://localhost:8080/",
          "height": 143
        }
      },
      "outputs": [
        {
          "output_type": "execute_result",
          "data": {
            "text/plain": [
              "          Purchase    percent\n",
              "Gender                       \n",
              "F       1186232642  23.278576\n",
              "M       3909580100  76.721424"
            ],
            "text/html": [
              "\n",
              "  <div id=\"df-d0aab189-d4cf-4aff-b134-b53497f36a5a\">\n",
              "    <div class=\"colab-df-container\">\n",
              "      <div>\n",
              "<style scoped>\n",
              "    .dataframe tbody tr th:only-of-type {\n",
              "        vertical-align: middle;\n",
              "    }\n",
              "\n",
              "    .dataframe tbody tr th {\n",
              "        vertical-align: top;\n",
              "    }\n",
              "\n",
              "    .dataframe thead th {\n",
              "        text-align: right;\n",
              "    }\n",
              "</style>\n",
              "<table border=\"1\" class=\"dataframe\">\n",
              "  <thead>\n",
              "    <tr style=\"text-align: right;\">\n",
              "      <th></th>\n",
              "      <th>Purchase</th>\n",
              "      <th>percent</th>\n",
              "    </tr>\n",
              "    <tr>\n",
              "      <th>Gender</th>\n",
              "      <th></th>\n",
              "      <th></th>\n",
              "    </tr>\n",
              "  </thead>\n",
              "  <tbody>\n",
              "    <tr>\n",
              "      <th>F</th>\n",
              "      <td>1186232642</td>\n",
              "      <td>23.278576</td>\n",
              "    </tr>\n",
              "    <tr>\n",
              "      <th>M</th>\n",
              "      <td>3909580100</td>\n",
              "      <td>76.721424</td>\n",
              "    </tr>\n",
              "  </tbody>\n",
              "</table>\n",
              "</div>\n",
              "      <button class=\"colab-df-convert\" onclick=\"convertToInteractive('df-d0aab189-d4cf-4aff-b134-b53497f36a5a')\"\n",
              "              title=\"Convert this dataframe to an interactive table.\"\n",
              "              style=\"display:none;\">\n",
              "        \n",
              "  <svg xmlns=\"http://www.w3.org/2000/svg\" height=\"24px\"viewBox=\"0 0 24 24\"\n",
              "       width=\"24px\">\n",
              "    <path d=\"M0 0h24v24H0V0z\" fill=\"none\"/>\n",
              "    <path d=\"M18.56 5.44l.94 2.06.94-2.06 2.06-.94-2.06-.94-.94-2.06-.94 2.06-2.06.94zm-11 1L8.5 8.5l.94-2.06 2.06-.94-2.06-.94L8.5 2.5l-.94 2.06-2.06.94zm10 10l.94 2.06.94-2.06 2.06-.94-2.06-.94-.94-2.06-.94 2.06-2.06.94z\"/><path d=\"M17.41 7.96l-1.37-1.37c-.4-.4-.92-.59-1.43-.59-.52 0-1.04.2-1.43.59L10.3 9.45l-7.72 7.72c-.78.78-.78 2.05 0 2.83L4 21.41c.39.39.9.59 1.41.59.51 0 1.02-.2 1.41-.59l7.78-7.78 2.81-2.81c.8-.78.8-2.07 0-2.86zM5.41 20L4 18.59l7.72-7.72 1.47 1.35L5.41 20z\"/>\n",
              "  </svg>\n",
              "      </button>\n",
              "      \n",
              "  <style>\n",
              "    .colab-df-container {\n",
              "      display:flex;\n",
              "      flex-wrap:wrap;\n",
              "      gap: 12px;\n",
              "    }\n",
              "\n",
              "    .colab-df-convert {\n",
              "      background-color: #E8F0FE;\n",
              "      border: none;\n",
              "      border-radius: 50%;\n",
              "      cursor: pointer;\n",
              "      display: none;\n",
              "      fill: #1967D2;\n",
              "      height: 32px;\n",
              "      padding: 0 0 0 0;\n",
              "      width: 32px;\n",
              "    }\n",
              "\n",
              "    .colab-df-convert:hover {\n",
              "      background-color: #E2EBFA;\n",
              "      box-shadow: 0px 1px 2px rgba(60, 64, 67, 0.3), 0px 1px 3px 1px rgba(60, 64, 67, 0.15);\n",
              "      fill: #174EA6;\n",
              "    }\n",
              "\n",
              "    [theme=dark] .colab-df-convert {\n",
              "      background-color: #3B4455;\n",
              "      fill: #D2E3FC;\n",
              "    }\n",
              "\n",
              "    [theme=dark] .colab-df-convert:hover {\n",
              "      background-color: #434B5C;\n",
              "      box-shadow: 0px 1px 3px 1px rgba(0, 0, 0, 0.15);\n",
              "      filter: drop-shadow(0px 1px 2px rgba(0, 0, 0, 0.3));\n",
              "      fill: #FFFFFF;\n",
              "    }\n",
              "  </style>\n",
              "\n",
              "      <script>\n",
              "        const buttonEl =\n",
              "          document.querySelector('#df-d0aab189-d4cf-4aff-b134-b53497f36a5a button.colab-df-convert');\n",
              "        buttonEl.style.display =\n",
              "          google.colab.kernel.accessAllowed ? 'block' : 'none';\n",
              "\n",
              "        async function convertToInteractive(key) {\n",
              "          const element = document.querySelector('#df-d0aab189-d4cf-4aff-b134-b53497f36a5a');\n",
              "          const dataTable =\n",
              "            await google.colab.kernel.invokeFunction('convertToInteractive',\n",
              "                                                     [key], {});\n",
              "          if (!dataTable) return;\n",
              "\n",
              "          const docLinkHtml = 'Like what you see? Visit the ' +\n",
              "            '<a target=\"_blank\" href=https://colab.research.google.com/notebooks/data_table.ipynb>data table notebook</a>'\n",
              "            + ' to learn more about interactive tables.';\n",
              "          element.innerHTML = '';\n",
              "          dataTable['output_type'] = 'display_data';\n",
              "          await google.colab.output.renderOutput(dataTable, element);\n",
              "          const docLink = document.createElement('div');\n",
              "          docLink.innerHTML = docLinkHtml;\n",
              "          element.appendChild(docLink);\n",
              "        }\n",
              "      </script>\n",
              "    </div>\n",
              "  </div>\n",
              "  "
            ]
          },
          "metadata": {},
          "execution_count": 45
        }
      ],
      "source": [
        "#Checking how genders are contributing towards toatl purchase amount\n",
        "df2=pd.DataFrame(df.groupby(['Gender'])[['Purchase']].sum())\n",
        "\n",
        "df2['percent'] = (df2['Purchase'] / \n",
        "                  df2['Purchase'].sum()) * 100\n",
        "df2"
      ]
    },
    {
      "cell_type": "markdown",
      "metadata": {
        "id": "73119871"
      },
      "source": [
        "**Observation**:\n",
        "\n",
        "1. We can see male(72% of the population) contributes to more than 76% of the total purchase amount whereas female(28% of the population) contributes 23% of the total purchase amount."
      ]
    },
    {
      "cell_type": "code",
      "execution_count": 46,
      "metadata": {
        "id": "44aa598e",
        "outputId": "62128952-71af-4f1a-f64a-1fc3df8b5696",
        "colab": {
          "base_uri": "https://localhost:8080/",
          "height": 300
        }
      },
      "outputs": [
        {
          "output_type": "execute_result",
          "data": {
            "text/plain": [
              "         Purchase    percent\n",
              "Age                         \n",
              "0-17    134913183   2.647530\n",
              "18-25   913848675  17.933325\n",
              "26-35  2031770578  39.871374\n",
              "36-45  1026569884  20.145361\n",
              "46-50   420843403   8.258612\n",
              "51-55   367099644   7.203947\n",
              "55+     200767375   3.939850"
            ],
            "text/html": [
              "\n",
              "  <div id=\"df-c4c52c97-fd24-4331-9675-3954779e29c1\">\n",
              "    <div class=\"colab-df-container\">\n",
              "      <div>\n",
              "<style scoped>\n",
              "    .dataframe tbody tr th:only-of-type {\n",
              "        vertical-align: middle;\n",
              "    }\n",
              "\n",
              "    .dataframe tbody tr th {\n",
              "        vertical-align: top;\n",
              "    }\n",
              "\n",
              "    .dataframe thead th {\n",
              "        text-align: right;\n",
              "    }\n",
              "</style>\n",
              "<table border=\"1\" class=\"dataframe\">\n",
              "  <thead>\n",
              "    <tr style=\"text-align: right;\">\n",
              "      <th></th>\n",
              "      <th>Purchase</th>\n",
              "      <th>percent</th>\n",
              "    </tr>\n",
              "    <tr>\n",
              "      <th>Age</th>\n",
              "      <th></th>\n",
              "      <th></th>\n",
              "    </tr>\n",
              "  </thead>\n",
              "  <tbody>\n",
              "    <tr>\n",
              "      <th>0-17</th>\n",
              "      <td>134913183</td>\n",
              "      <td>2.647530</td>\n",
              "    </tr>\n",
              "    <tr>\n",
              "      <th>18-25</th>\n",
              "      <td>913848675</td>\n",
              "      <td>17.933325</td>\n",
              "    </tr>\n",
              "    <tr>\n",
              "      <th>26-35</th>\n",
              "      <td>2031770578</td>\n",
              "      <td>39.871374</td>\n",
              "    </tr>\n",
              "    <tr>\n",
              "      <th>36-45</th>\n",
              "      <td>1026569884</td>\n",
              "      <td>20.145361</td>\n",
              "    </tr>\n",
              "    <tr>\n",
              "      <th>46-50</th>\n",
              "      <td>420843403</td>\n",
              "      <td>8.258612</td>\n",
              "    </tr>\n",
              "    <tr>\n",
              "      <th>51-55</th>\n",
              "      <td>367099644</td>\n",
              "      <td>7.203947</td>\n",
              "    </tr>\n",
              "    <tr>\n",
              "      <th>55+</th>\n",
              "      <td>200767375</td>\n",
              "      <td>3.939850</td>\n",
              "    </tr>\n",
              "  </tbody>\n",
              "</table>\n",
              "</div>\n",
              "      <button class=\"colab-df-convert\" onclick=\"convertToInteractive('df-c4c52c97-fd24-4331-9675-3954779e29c1')\"\n",
              "              title=\"Convert this dataframe to an interactive table.\"\n",
              "              style=\"display:none;\">\n",
              "        \n",
              "  <svg xmlns=\"http://www.w3.org/2000/svg\" height=\"24px\"viewBox=\"0 0 24 24\"\n",
              "       width=\"24px\">\n",
              "    <path d=\"M0 0h24v24H0V0z\" fill=\"none\"/>\n",
              "    <path d=\"M18.56 5.44l.94 2.06.94-2.06 2.06-.94-2.06-.94-.94-2.06-.94 2.06-2.06.94zm-11 1L8.5 8.5l.94-2.06 2.06-.94-2.06-.94L8.5 2.5l-.94 2.06-2.06.94zm10 10l.94 2.06.94-2.06 2.06-.94-2.06-.94-.94-2.06-.94 2.06-2.06.94z\"/><path d=\"M17.41 7.96l-1.37-1.37c-.4-.4-.92-.59-1.43-.59-.52 0-1.04.2-1.43.59L10.3 9.45l-7.72 7.72c-.78.78-.78 2.05 0 2.83L4 21.41c.39.39.9.59 1.41.59.51 0 1.02-.2 1.41-.59l7.78-7.78 2.81-2.81c.8-.78.8-2.07 0-2.86zM5.41 20L4 18.59l7.72-7.72 1.47 1.35L5.41 20z\"/>\n",
              "  </svg>\n",
              "      </button>\n",
              "      \n",
              "  <style>\n",
              "    .colab-df-container {\n",
              "      display:flex;\n",
              "      flex-wrap:wrap;\n",
              "      gap: 12px;\n",
              "    }\n",
              "\n",
              "    .colab-df-convert {\n",
              "      background-color: #E8F0FE;\n",
              "      border: none;\n",
              "      border-radius: 50%;\n",
              "      cursor: pointer;\n",
              "      display: none;\n",
              "      fill: #1967D2;\n",
              "      height: 32px;\n",
              "      padding: 0 0 0 0;\n",
              "      width: 32px;\n",
              "    }\n",
              "\n",
              "    .colab-df-convert:hover {\n",
              "      background-color: #E2EBFA;\n",
              "      box-shadow: 0px 1px 2px rgba(60, 64, 67, 0.3), 0px 1px 3px 1px rgba(60, 64, 67, 0.15);\n",
              "      fill: #174EA6;\n",
              "    }\n",
              "\n",
              "    [theme=dark] .colab-df-convert {\n",
              "      background-color: #3B4455;\n",
              "      fill: #D2E3FC;\n",
              "    }\n",
              "\n",
              "    [theme=dark] .colab-df-convert:hover {\n",
              "      background-color: #434B5C;\n",
              "      box-shadow: 0px 1px 3px 1px rgba(0, 0, 0, 0.15);\n",
              "      filter: drop-shadow(0px 1px 2px rgba(0, 0, 0, 0.3));\n",
              "      fill: #FFFFFF;\n",
              "    }\n",
              "  </style>\n",
              "\n",
              "      <script>\n",
              "        const buttonEl =\n",
              "          document.querySelector('#df-c4c52c97-fd24-4331-9675-3954779e29c1 button.colab-df-convert');\n",
              "        buttonEl.style.display =\n",
              "          google.colab.kernel.accessAllowed ? 'block' : 'none';\n",
              "\n",
              "        async function convertToInteractive(key) {\n",
              "          const element = document.querySelector('#df-c4c52c97-fd24-4331-9675-3954779e29c1');\n",
              "          const dataTable =\n",
              "            await google.colab.kernel.invokeFunction('convertToInteractive',\n",
              "                                                     [key], {});\n",
              "          if (!dataTable) return;\n",
              "\n",
              "          const docLinkHtml = 'Like what you see? Visit the ' +\n",
              "            '<a target=\"_blank\" href=https://colab.research.google.com/notebooks/data_table.ipynb>data table notebook</a>'\n",
              "            + ' to learn more about interactive tables.';\n",
              "          element.innerHTML = '';\n",
              "          dataTable['output_type'] = 'display_data';\n",
              "          await google.colab.output.renderOutput(dataTable, element);\n",
              "          const docLink = document.createElement('div');\n",
              "          docLink.innerHTML = docLinkHtml;\n",
              "          element.appendChild(docLink);\n",
              "        }\n",
              "      </script>\n",
              "    </div>\n",
              "  </div>\n",
              "  "
            ]
          },
          "metadata": {},
          "execution_count": 46
        }
      ],
      "source": [
        "#Checking how purchase value are spread among differnt age categories\n",
        "df2=pd.DataFrame(df.groupby(['Age'])[['Purchase']].sum())\n",
        "\n",
        "df2['percent'] = (df2['Purchase'] / \n",
        "                  df2['Purchase'].sum()) * 100\n",
        "df2"
      ]
    },
    {
      "cell_type": "markdown",
      "metadata": {
        "id": "f5d0709a"
      },
      "source": [
        "**Observation**:\n",
        "\n",
        "    1. We can see the net purchase amount spread is similar to the purchase count spread among the different age groups."
      ]
    },
    {
      "cell_type": "code",
      "execution_count": 47,
      "metadata": {
        "id": "e09e8c1e",
        "outputId": "93d90b49-7a8f-4a22-daf4-676235be9e28",
        "colab": {
          "base_uri": "https://localhost:8080/",
          "height": 143
        }
      },
      "outputs": [
        {
          "output_type": "execute_result",
          "data": {
            "text/plain": [
              "                  Purchase    percent\n",
              "Marital_Status                       \n",
              "0               3008927447  59.047057\n",
              "1               2086885295  40.952943"
            ],
            "text/html": [
              "\n",
              "  <div id=\"df-1168de7e-e178-493b-a2a3-5ceb209fc1f8\">\n",
              "    <div class=\"colab-df-container\">\n",
              "      <div>\n",
              "<style scoped>\n",
              "    .dataframe tbody tr th:only-of-type {\n",
              "        vertical-align: middle;\n",
              "    }\n",
              "\n",
              "    .dataframe tbody tr th {\n",
              "        vertical-align: top;\n",
              "    }\n",
              "\n",
              "    .dataframe thead th {\n",
              "        text-align: right;\n",
              "    }\n",
              "</style>\n",
              "<table border=\"1\" class=\"dataframe\">\n",
              "  <thead>\n",
              "    <tr style=\"text-align: right;\">\n",
              "      <th></th>\n",
              "      <th>Purchase</th>\n",
              "      <th>percent</th>\n",
              "    </tr>\n",
              "    <tr>\n",
              "      <th>Marital_Status</th>\n",
              "      <th></th>\n",
              "      <th></th>\n",
              "    </tr>\n",
              "  </thead>\n",
              "  <tbody>\n",
              "    <tr>\n",
              "      <th>0</th>\n",
              "      <td>3008927447</td>\n",
              "      <td>59.047057</td>\n",
              "    </tr>\n",
              "    <tr>\n",
              "      <th>1</th>\n",
              "      <td>2086885295</td>\n",
              "      <td>40.952943</td>\n",
              "    </tr>\n",
              "  </tbody>\n",
              "</table>\n",
              "</div>\n",
              "      <button class=\"colab-df-convert\" onclick=\"convertToInteractive('df-1168de7e-e178-493b-a2a3-5ceb209fc1f8')\"\n",
              "              title=\"Convert this dataframe to an interactive table.\"\n",
              "              style=\"display:none;\">\n",
              "        \n",
              "  <svg xmlns=\"http://www.w3.org/2000/svg\" height=\"24px\"viewBox=\"0 0 24 24\"\n",
              "       width=\"24px\">\n",
              "    <path d=\"M0 0h24v24H0V0z\" fill=\"none\"/>\n",
              "    <path d=\"M18.56 5.44l.94 2.06.94-2.06 2.06-.94-2.06-.94-.94-2.06-.94 2.06-2.06.94zm-11 1L8.5 8.5l.94-2.06 2.06-.94-2.06-.94L8.5 2.5l-.94 2.06-2.06.94zm10 10l.94 2.06.94-2.06 2.06-.94-2.06-.94-.94-2.06-.94 2.06-2.06.94z\"/><path d=\"M17.41 7.96l-1.37-1.37c-.4-.4-.92-.59-1.43-.59-.52 0-1.04.2-1.43.59L10.3 9.45l-7.72 7.72c-.78.78-.78 2.05 0 2.83L4 21.41c.39.39.9.59 1.41.59.51 0 1.02-.2 1.41-.59l7.78-7.78 2.81-2.81c.8-.78.8-2.07 0-2.86zM5.41 20L4 18.59l7.72-7.72 1.47 1.35L5.41 20z\"/>\n",
              "  </svg>\n",
              "      </button>\n",
              "      \n",
              "  <style>\n",
              "    .colab-df-container {\n",
              "      display:flex;\n",
              "      flex-wrap:wrap;\n",
              "      gap: 12px;\n",
              "    }\n",
              "\n",
              "    .colab-df-convert {\n",
              "      background-color: #E8F0FE;\n",
              "      border: none;\n",
              "      border-radius: 50%;\n",
              "      cursor: pointer;\n",
              "      display: none;\n",
              "      fill: #1967D2;\n",
              "      height: 32px;\n",
              "      padding: 0 0 0 0;\n",
              "      width: 32px;\n",
              "    }\n",
              "\n",
              "    .colab-df-convert:hover {\n",
              "      background-color: #E2EBFA;\n",
              "      box-shadow: 0px 1px 2px rgba(60, 64, 67, 0.3), 0px 1px 3px 1px rgba(60, 64, 67, 0.15);\n",
              "      fill: #174EA6;\n",
              "    }\n",
              "\n",
              "    [theme=dark] .colab-df-convert {\n",
              "      background-color: #3B4455;\n",
              "      fill: #D2E3FC;\n",
              "    }\n",
              "\n",
              "    [theme=dark] .colab-df-convert:hover {\n",
              "      background-color: #434B5C;\n",
              "      box-shadow: 0px 1px 3px 1px rgba(0, 0, 0, 0.15);\n",
              "      filter: drop-shadow(0px 1px 2px rgba(0, 0, 0, 0.3));\n",
              "      fill: #FFFFFF;\n",
              "    }\n",
              "  </style>\n",
              "\n",
              "      <script>\n",
              "        const buttonEl =\n",
              "          document.querySelector('#df-1168de7e-e178-493b-a2a3-5ceb209fc1f8 button.colab-df-convert');\n",
              "        buttonEl.style.display =\n",
              "          google.colab.kernel.accessAllowed ? 'block' : 'none';\n",
              "\n",
              "        async function convertToInteractive(key) {\n",
              "          const element = document.querySelector('#df-1168de7e-e178-493b-a2a3-5ceb209fc1f8');\n",
              "          const dataTable =\n",
              "            await google.colab.kernel.invokeFunction('convertToInteractive',\n",
              "                                                     [key], {});\n",
              "          if (!dataTable) return;\n",
              "\n",
              "          const docLinkHtml = 'Like what you see? Visit the ' +\n",
              "            '<a target=\"_blank\" href=https://colab.research.google.com/notebooks/data_table.ipynb>data table notebook</a>'\n",
              "            + ' to learn more about interactive tables.';\n",
              "          element.innerHTML = '';\n",
              "          dataTable['output_type'] = 'display_data';\n",
              "          await google.colab.output.renderOutput(dataTable, element);\n",
              "          const docLink = document.createElement('div');\n",
              "          docLink.innerHTML = docLinkHtml;\n",
              "          element.appendChild(docLink);\n",
              "        }\n",
              "      </script>\n",
              "    </div>\n",
              "  </div>\n",
              "  "
            ]
          },
          "metadata": {},
          "execution_count": 47
        }
      ],
      "source": [
        "df2=pd.DataFrame(df.groupby(['Marital_Status'])['Purchase'].sum())\n",
        "\n",
        "df2['percent'] = (df2['Purchase'] / \n",
        "                  df2['Purchase'].sum()) * 100\n",
        "df2 "
      ]
    },
    {
      "cell_type": "markdown",
      "metadata": {
        "id": "296a9820"
      },
      "source": [
        "**Observations**:\n",
        "\n",
        "    1. Single users are contributing 59% towards the total purchase amount in comparison to 41% by married users."
      ]
    },
    {
      "cell_type": "code",
      "execution_count": 48,
      "metadata": {
        "id": "3ac6b56c",
        "outputId": "e8ff4a52-ef87-4cbe-ca4f-08009b8b8009",
        "colab": {
          "base_uri": "https://localhost:8080/",
          "height": 175
        }
      },
      "outputs": [
        {
          "output_type": "execute_result",
          "data": {
            "text/plain": [
              "                 Purchase    percent\n",
              "City_Category                       \n",
              "A              1316471661  25.834381\n",
              "B              2115533605  41.515136\n",
              "C              1663807476  32.650483"
            ],
            "text/html": [
              "\n",
              "  <div id=\"df-3fcaeeb5-95b3-414b-a2f0-25728488f1b7\">\n",
              "    <div class=\"colab-df-container\">\n",
              "      <div>\n",
              "<style scoped>\n",
              "    .dataframe tbody tr th:only-of-type {\n",
              "        vertical-align: middle;\n",
              "    }\n",
              "\n",
              "    .dataframe tbody tr th {\n",
              "        vertical-align: top;\n",
              "    }\n",
              "\n",
              "    .dataframe thead th {\n",
              "        text-align: right;\n",
              "    }\n",
              "</style>\n",
              "<table border=\"1\" class=\"dataframe\">\n",
              "  <thead>\n",
              "    <tr style=\"text-align: right;\">\n",
              "      <th></th>\n",
              "      <th>Purchase</th>\n",
              "      <th>percent</th>\n",
              "    </tr>\n",
              "    <tr>\n",
              "      <th>City_Category</th>\n",
              "      <th></th>\n",
              "      <th></th>\n",
              "    </tr>\n",
              "  </thead>\n",
              "  <tbody>\n",
              "    <tr>\n",
              "      <th>A</th>\n",
              "      <td>1316471661</td>\n",
              "      <td>25.834381</td>\n",
              "    </tr>\n",
              "    <tr>\n",
              "      <th>B</th>\n",
              "      <td>2115533605</td>\n",
              "      <td>41.515136</td>\n",
              "    </tr>\n",
              "    <tr>\n",
              "      <th>C</th>\n",
              "      <td>1663807476</td>\n",
              "      <td>32.650483</td>\n",
              "    </tr>\n",
              "  </tbody>\n",
              "</table>\n",
              "</div>\n",
              "      <button class=\"colab-df-convert\" onclick=\"convertToInteractive('df-3fcaeeb5-95b3-414b-a2f0-25728488f1b7')\"\n",
              "              title=\"Convert this dataframe to an interactive table.\"\n",
              "              style=\"display:none;\">\n",
              "        \n",
              "  <svg xmlns=\"http://www.w3.org/2000/svg\" height=\"24px\"viewBox=\"0 0 24 24\"\n",
              "       width=\"24px\">\n",
              "    <path d=\"M0 0h24v24H0V0z\" fill=\"none\"/>\n",
              "    <path d=\"M18.56 5.44l.94 2.06.94-2.06 2.06-.94-2.06-.94-.94-2.06-.94 2.06-2.06.94zm-11 1L8.5 8.5l.94-2.06 2.06-.94-2.06-.94L8.5 2.5l-.94 2.06-2.06.94zm10 10l.94 2.06.94-2.06 2.06-.94-2.06-.94-.94-2.06-.94 2.06-2.06.94z\"/><path d=\"M17.41 7.96l-1.37-1.37c-.4-.4-.92-.59-1.43-.59-.52 0-1.04.2-1.43.59L10.3 9.45l-7.72 7.72c-.78.78-.78 2.05 0 2.83L4 21.41c.39.39.9.59 1.41.59.51 0 1.02-.2 1.41-.59l7.78-7.78 2.81-2.81c.8-.78.8-2.07 0-2.86zM5.41 20L4 18.59l7.72-7.72 1.47 1.35L5.41 20z\"/>\n",
              "  </svg>\n",
              "      </button>\n",
              "      \n",
              "  <style>\n",
              "    .colab-df-container {\n",
              "      display:flex;\n",
              "      flex-wrap:wrap;\n",
              "      gap: 12px;\n",
              "    }\n",
              "\n",
              "    .colab-df-convert {\n",
              "      background-color: #E8F0FE;\n",
              "      border: none;\n",
              "      border-radius: 50%;\n",
              "      cursor: pointer;\n",
              "      display: none;\n",
              "      fill: #1967D2;\n",
              "      height: 32px;\n",
              "      padding: 0 0 0 0;\n",
              "      width: 32px;\n",
              "    }\n",
              "\n",
              "    .colab-df-convert:hover {\n",
              "      background-color: #E2EBFA;\n",
              "      box-shadow: 0px 1px 2px rgba(60, 64, 67, 0.3), 0px 1px 3px 1px rgba(60, 64, 67, 0.15);\n",
              "      fill: #174EA6;\n",
              "    }\n",
              "\n",
              "    [theme=dark] .colab-df-convert {\n",
              "      background-color: #3B4455;\n",
              "      fill: #D2E3FC;\n",
              "    }\n",
              "\n",
              "    [theme=dark] .colab-df-convert:hover {\n",
              "      background-color: #434B5C;\n",
              "      box-shadow: 0px 1px 3px 1px rgba(0, 0, 0, 0.15);\n",
              "      filter: drop-shadow(0px 1px 2px rgba(0, 0, 0, 0.3));\n",
              "      fill: #FFFFFF;\n",
              "    }\n",
              "  </style>\n",
              "\n",
              "      <script>\n",
              "        const buttonEl =\n",
              "          document.querySelector('#df-3fcaeeb5-95b3-414b-a2f0-25728488f1b7 button.colab-df-convert');\n",
              "        buttonEl.style.display =\n",
              "          google.colab.kernel.accessAllowed ? 'block' : 'none';\n",
              "\n",
              "        async function convertToInteractive(key) {\n",
              "          const element = document.querySelector('#df-3fcaeeb5-95b3-414b-a2f0-25728488f1b7');\n",
              "          const dataTable =\n",
              "            await google.colab.kernel.invokeFunction('convertToInteractive',\n",
              "                                                     [key], {});\n",
              "          if (!dataTable) return;\n",
              "\n",
              "          const docLinkHtml = 'Like what you see? Visit the ' +\n",
              "            '<a target=\"_blank\" href=https://colab.research.google.com/notebooks/data_table.ipynb>data table notebook</a>'\n",
              "            + ' to learn more about interactive tables.';\n",
              "          element.innerHTML = '';\n",
              "          dataTable['output_type'] = 'display_data';\n",
              "          await google.colab.output.renderOutput(dataTable, element);\n",
              "          const docLink = document.createElement('div');\n",
              "          docLink.innerHTML = docLinkHtml;\n",
              "          element.appendChild(docLink);\n",
              "        }\n",
              "      </script>\n",
              "    </div>\n",
              "  </div>\n",
              "  "
            ]
          },
          "metadata": {},
          "execution_count": 48
        }
      ],
      "source": [
        "df2=pd.DataFrame(df.groupby(['City_Category'])['Purchase'].sum())\n",
        "\n",
        "df2['percent'] = (df2['Purchase'] / \n",
        "                  df2['Purchase'].sum()) * 100\n",
        "df2 "
      ]
    },
    {
      "cell_type": "markdown",
      "metadata": {
        "id": "2cdfc025"
      },
      "source": [
        "**Observations**:\n",
        "    \n",
        "    1. City_category contribution to the total purchase amount is also similar to their contribution towards Purchase count. Still, combining with previous observation we can City_category C although has percentage purchase count of 31% but they contribute more in terms of purchase amount i.e. 32.65%. We can infer City category C purchase higher value products."
      ]
    },
    {
      "cell_type": "code",
      "execution_count": 49,
      "metadata": {
        "id": "501a5eff",
        "outputId": "00a045ec-3e84-4a89-84c9-e6c95f292376",
        "colab": {
          "base_uri": "https://localhost:8080/"
        }
      },
      "outputs": [
        {
          "output_type": "execute_result",
          "data": {
            "text/plain": [
              "User_ID\n",
              "1001680    1026\n",
              "1004277     979\n",
              "1001941     898\n",
              "1001181     862\n",
              "1000889     823\n",
              "1003618     767\n",
              "1001150     752\n",
              "1001015     740\n",
              "1005795     729\n",
              "1005831     727\n",
              "Name: Purchase, dtype: int64"
            ]
          },
          "metadata": {},
          "execution_count": 49
        }
      ],
      "source": [
        "# Users with highest number of purchases\n",
        "df.groupby(['User_ID'])['Purchase'].count().nlargest(10)                                 "
      ]
    },
    {
      "cell_type": "code",
      "execution_count": 50,
      "metadata": {
        "id": "255af6eb",
        "outputId": "f4204036-d74e-47bc-f241-d656615961e7",
        "colab": {
          "base_uri": "https://localhost:8080/"
        }
      },
      "outputs": [
        {
          "output_type": "execute_result",
          "data": {
            "text/plain": [
              "User_ID\n",
              "1004277    10536909\n",
              "1001680     8699596\n",
              "1002909     7577756\n",
              "1001941     6817493\n",
              "1000424     6573609\n",
              "1004448     6566245\n",
              "1005831     6512433\n",
              "1001015     6511314\n",
              "1003391     6477160\n",
              "1001181     6387961\n",
              "Name: Purchase, dtype: int64"
            ]
          },
          "metadata": {},
          "execution_count": 50
        }
      ],
      "source": [
        "#Users with highest purchases amount\n",
        "df.groupby(['User_ID'])['Purchase'].sum().nlargest(10)   "
      ]
    },
    {
      "cell_type": "markdown",
      "metadata": {
        "id": "aa97c370"
      },
      "source": [
        "**Observation**:\n",
        "\n",
        "    1. The users with high number of purchases contribute more to the purchase amount. Still, we can see there are few users not in the list of top 10 purchase counts are there in list of top 10 purchase amount. Also, the user 1004277 with lesser purchase count(979) has a much higher purchase amount than the user(1001680) with top purchase count."
      ]
    },
    {
      "cell_type": "code",
      "execution_count": 51,
      "metadata": {
        "id": "77b9eb70",
        "outputId": "4c27334c-e4b5-4ef9-ebf3-393ef62849ec",
        "colab": {
          "base_uri": "https://localhost:8080/",
          "height": 739
        }
      },
      "outputs": [
        {
          "output_type": "execute_result",
          "data": {
            "text/plain": [
              "             Purchase    percent\n",
              "Occupation                      \n",
              "0           635406958  12.469198\n",
              "1           424614144   8.332609\n",
              "2           238028583   4.671062\n",
              "3           162002168   3.179123\n",
              "4           666244484  13.074352\n",
              "5           113649759   2.230258\n",
              "6           188416784   3.697482\n",
              "7           557371587  10.937835\n",
              "8            14737388   0.289206\n",
              "9            54340046   1.066367\n",
              "10          115844465   2.273327\n",
              "11          106751618   2.094889\n",
              "12          305449446   5.994126\n",
              "13           71919481   1.411345\n",
              "14          259454692   5.091527\n",
              "15          118960211   2.334470\n",
              "16          238346955   4.677310\n",
              "17          393281453   7.717738\n",
              "18           60721461   1.191595\n",
              "19           73700617   1.446298\n",
              "20          296570442   5.819885"
            ],
            "text/html": [
              "\n",
              "  <div id=\"df-cdc5bb2b-0b59-4d7e-8ff9-fb651efa834c\">\n",
              "    <div class=\"colab-df-container\">\n",
              "      <div>\n",
              "<style scoped>\n",
              "    .dataframe tbody tr th:only-of-type {\n",
              "        vertical-align: middle;\n",
              "    }\n",
              "\n",
              "    .dataframe tbody tr th {\n",
              "        vertical-align: top;\n",
              "    }\n",
              "\n",
              "    .dataframe thead th {\n",
              "        text-align: right;\n",
              "    }\n",
              "</style>\n",
              "<table border=\"1\" class=\"dataframe\">\n",
              "  <thead>\n",
              "    <tr style=\"text-align: right;\">\n",
              "      <th></th>\n",
              "      <th>Purchase</th>\n",
              "      <th>percent</th>\n",
              "    </tr>\n",
              "    <tr>\n",
              "      <th>Occupation</th>\n",
              "      <th></th>\n",
              "      <th></th>\n",
              "    </tr>\n",
              "  </thead>\n",
              "  <tbody>\n",
              "    <tr>\n",
              "      <th>0</th>\n",
              "      <td>635406958</td>\n",
              "      <td>12.469198</td>\n",
              "    </tr>\n",
              "    <tr>\n",
              "      <th>1</th>\n",
              "      <td>424614144</td>\n",
              "      <td>8.332609</td>\n",
              "    </tr>\n",
              "    <tr>\n",
              "      <th>2</th>\n",
              "      <td>238028583</td>\n",
              "      <td>4.671062</td>\n",
              "    </tr>\n",
              "    <tr>\n",
              "      <th>3</th>\n",
              "      <td>162002168</td>\n",
              "      <td>3.179123</td>\n",
              "    </tr>\n",
              "    <tr>\n",
              "      <th>4</th>\n",
              "      <td>666244484</td>\n",
              "      <td>13.074352</td>\n",
              "    </tr>\n",
              "    <tr>\n",
              "      <th>5</th>\n",
              "      <td>113649759</td>\n",
              "      <td>2.230258</td>\n",
              "    </tr>\n",
              "    <tr>\n",
              "      <th>6</th>\n",
              "      <td>188416784</td>\n",
              "      <td>3.697482</td>\n",
              "    </tr>\n",
              "    <tr>\n",
              "      <th>7</th>\n",
              "      <td>557371587</td>\n",
              "      <td>10.937835</td>\n",
              "    </tr>\n",
              "    <tr>\n",
              "      <th>8</th>\n",
              "      <td>14737388</td>\n",
              "      <td>0.289206</td>\n",
              "    </tr>\n",
              "    <tr>\n",
              "      <th>9</th>\n",
              "      <td>54340046</td>\n",
              "      <td>1.066367</td>\n",
              "    </tr>\n",
              "    <tr>\n",
              "      <th>10</th>\n",
              "      <td>115844465</td>\n",
              "      <td>2.273327</td>\n",
              "    </tr>\n",
              "    <tr>\n",
              "      <th>11</th>\n",
              "      <td>106751618</td>\n",
              "      <td>2.094889</td>\n",
              "    </tr>\n",
              "    <tr>\n",
              "      <th>12</th>\n",
              "      <td>305449446</td>\n",
              "      <td>5.994126</td>\n",
              "    </tr>\n",
              "    <tr>\n",
              "      <th>13</th>\n",
              "      <td>71919481</td>\n",
              "      <td>1.411345</td>\n",
              "    </tr>\n",
              "    <tr>\n",
              "      <th>14</th>\n",
              "      <td>259454692</td>\n",
              "      <td>5.091527</td>\n",
              "    </tr>\n",
              "    <tr>\n",
              "      <th>15</th>\n",
              "      <td>118960211</td>\n",
              "      <td>2.334470</td>\n",
              "    </tr>\n",
              "    <tr>\n",
              "      <th>16</th>\n",
              "      <td>238346955</td>\n",
              "      <td>4.677310</td>\n",
              "    </tr>\n",
              "    <tr>\n",
              "      <th>17</th>\n",
              "      <td>393281453</td>\n",
              "      <td>7.717738</td>\n",
              "    </tr>\n",
              "    <tr>\n",
              "      <th>18</th>\n",
              "      <td>60721461</td>\n",
              "      <td>1.191595</td>\n",
              "    </tr>\n",
              "    <tr>\n",
              "      <th>19</th>\n",
              "      <td>73700617</td>\n",
              "      <td>1.446298</td>\n",
              "    </tr>\n",
              "    <tr>\n",
              "      <th>20</th>\n",
              "      <td>296570442</td>\n",
              "      <td>5.819885</td>\n",
              "    </tr>\n",
              "  </tbody>\n",
              "</table>\n",
              "</div>\n",
              "      <button class=\"colab-df-convert\" onclick=\"convertToInteractive('df-cdc5bb2b-0b59-4d7e-8ff9-fb651efa834c')\"\n",
              "              title=\"Convert this dataframe to an interactive table.\"\n",
              "              style=\"display:none;\">\n",
              "        \n",
              "  <svg xmlns=\"http://www.w3.org/2000/svg\" height=\"24px\"viewBox=\"0 0 24 24\"\n",
              "       width=\"24px\">\n",
              "    <path d=\"M0 0h24v24H0V0z\" fill=\"none\"/>\n",
              "    <path d=\"M18.56 5.44l.94 2.06.94-2.06 2.06-.94-2.06-.94-.94-2.06-.94 2.06-2.06.94zm-11 1L8.5 8.5l.94-2.06 2.06-.94-2.06-.94L8.5 2.5l-.94 2.06-2.06.94zm10 10l.94 2.06.94-2.06 2.06-.94-2.06-.94-.94-2.06-.94 2.06-2.06.94z\"/><path d=\"M17.41 7.96l-1.37-1.37c-.4-.4-.92-.59-1.43-.59-.52 0-1.04.2-1.43.59L10.3 9.45l-7.72 7.72c-.78.78-.78 2.05 0 2.83L4 21.41c.39.39.9.59 1.41.59.51 0 1.02-.2 1.41-.59l7.78-7.78 2.81-2.81c.8-.78.8-2.07 0-2.86zM5.41 20L4 18.59l7.72-7.72 1.47 1.35L5.41 20z\"/>\n",
              "  </svg>\n",
              "      </button>\n",
              "      \n",
              "  <style>\n",
              "    .colab-df-container {\n",
              "      display:flex;\n",
              "      flex-wrap:wrap;\n",
              "      gap: 12px;\n",
              "    }\n",
              "\n",
              "    .colab-df-convert {\n",
              "      background-color: #E8F0FE;\n",
              "      border: none;\n",
              "      border-radius: 50%;\n",
              "      cursor: pointer;\n",
              "      display: none;\n",
              "      fill: #1967D2;\n",
              "      height: 32px;\n",
              "      padding: 0 0 0 0;\n",
              "      width: 32px;\n",
              "    }\n",
              "\n",
              "    .colab-df-convert:hover {\n",
              "      background-color: #E2EBFA;\n",
              "      box-shadow: 0px 1px 2px rgba(60, 64, 67, 0.3), 0px 1px 3px 1px rgba(60, 64, 67, 0.15);\n",
              "      fill: #174EA6;\n",
              "    }\n",
              "\n",
              "    [theme=dark] .colab-df-convert {\n",
              "      background-color: #3B4455;\n",
              "      fill: #D2E3FC;\n",
              "    }\n",
              "\n",
              "    [theme=dark] .colab-df-convert:hover {\n",
              "      background-color: #434B5C;\n",
              "      box-shadow: 0px 1px 3px 1px rgba(0, 0, 0, 0.15);\n",
              "      filter: drop-shadow(0px 1px 2px rgba(0, 0, 0, 0.3));\n",
              "      fill: #FFFFFF;\n",
              "    }\n",
              "  </style>\n",
              "\n",
              "      <script>\n",
              "        const buttonEl =\n",
              "          document.querySelector('#df-cdc5bb2b-0b59-4d7e-8ff9-fb651efa834c button.colab-df-convert');\n",
              "        buttonEl.style.display =\n",
              "          google.colab.kernel.accessAllowed ? 'block' : 'none';\n",
              "\n",
              "        async function convertToInteractive(key) {\n",
              "          const element = document.querySelector('#df-cdc5bb2b-0b59-4d7e-8ff9-fb651efa834c');\n",
              "          const dataTable =\n",
              "            await google.colab.kernel.invokeFunction('convertToInteractive',\n",
              "                                                     [key], {});\n",
              "          if (!dataTable) return;\n",
              "\n",
              "          const docLinkHtml = 'Like what you see? Visit the ' +\n",
              "            '<a target=\"_blank\" href=https://colab.research.google.com/notebooks/data_table.ipynb>data table notebook</a>'\n",
              "            + ' to learn more about interactive tables.';\n",
              "          element.innerHTML = '';\n",
              "          dataTable['output_type'] = 'display_data';\n",
              "          await google.colab.output.renderOutput(dataTable, element);\n",
              "          const docLink = document.createElement('div');\n",
              "          docLink.innerHTML = docLinkHtml;\n",
              "          element.appendChild(docLink);\n",
              "        }\n",
              "      </script>\n",
              "    </div>\n",
              "  </div>\n",
              "  "
            ]
          },
          "metadata": {},
          "execution_count": 51
        }
      ],
      "source": [
        "df2=pd.DataFrame(df.groupby(['Occupation'])[['Purchase']].sum())\n",
        "\n",
        "df2['percent'] = (df2['Purchase'] / \n",
        "                  df2['Purchase'].sum()) * 100\n",
        "df2"
      ]
    },
    {
      "cell_type": "markdown",
      "metadata": {
        "id": "f7e2953d"
      },
      "source": [
        "**Observations**:\n",
        "    \n",
        "    1. Some of the Occupation like 0, 4, 7 has contributed more towards total purchase amount."
      ]
    },
    {
      "cell_type": "code",
      "execution_count": 52,
      "metadata": {
        "id": "58b0db02",
        "outputId": "e2e09516-c125-49ba-b8f2-55239f0804c0",
        "colab": {
          "base_uri": "https://localhost:8080/",
          "height": 708
        }
      },
      "outputs": [
        {
          "output_type": "execute_result",
          "data": {
            "text/plain": [
              "                    Purchase    percent\n",
              "Product_Category                       \n",
              "1                 1910013754  37.482024\n",
              "2                  268516186   5.269350\n",
              "3                  204084713   4.004949\n",
              "4                   27380488   0.537313\n",
              "5                  941835229  18.482532\n",
              "6                  324150302   6.361111\n",
              "7                   60896731   1.195035\n",
              "8                  854318799  16.765114\n",
              "9                    6370324   0.125011\n",
              "10                 100837301   1.978827\n",
              "11                 113791115   2.233032\n",
              "12                   5331844   0.104632\n",
              "13                   4008601   0.078665\n",
              "14                  20014696   0.392767\n",
              "15                  92969042   1.824420\n",
              "16                 145120612   2.847840\n",
              "17                   5878699   0.115363\n",
              "18                   9290201   0.182310\n",
              "19                     59378   0.001165\n",
              "20                    944727   0.018539"
            ],
            "text/html": [
              "\n",
              "  <div id=\"df-0facffc1-7c86-4c9a-9b58-d662589106ba\">\n",
              "    <div class=\"colab-df-container\">\n",
              "      <div>\n",
              "<style scoped>\n",
              "    .dataframe tbody tr th:only-of-type {\n",
              "        vertical-align: middle;\n",
              "    }\n",
              "\n",
              "    .dataframe tbody tr th {\n",
              "        vertical-align: top;\n",
              "    }\n",
              "\n",
              "    .dataframe thead th {\n",
              "        text-align: right;\n",
              "    }\n",
              "</style>\n",
              "<table border=\"1\" class=\"dataframe\">\n",
              "  <thead>\n",
              "    <tr style=\"text-align: right;\">\n",
              "      <th></th>\n",
              "      <th>Purchase</th>\n",
              "      <th>percent</th>\n",
              "    </tr>\n",
              "    <tr>\n",
              "      <th>Product_Category</th>\n",
              "      <th></th>\n",
              "      <th></th>\n",
              "    </tr>\n",
              "  </thead>\n",
              "  <tbody>\n",
              "    <tr>\n",
              "      <th>1</th>\n",
              "      <td>1910013754</td>\n",
              "      <td>37.482024</td>\n",
              "    </tr>\n",
              "    <tr>\n",
              "      <th>2</th>\n",
              "      <td>268516186</td>\n",
              "      <td>5.269350</td>\n",
              "    </tr>\n",
              "    <tr>\n",
              "      <th>3</th>\n",
              "      <td>204084713</td>\n",
              "      <td>4.004949</td>\n",
              "    </tr>\n",
              "    <tr>\n",
              "      <th>4</th>\n",
              "      <td>27380488</td>\n",
              "      <td>0.537313</td>\n",
              "    </tr>\n",
              "    <tr>\n",
              "      <th>5</th>\n",
              "      <td>941835229</td>\n",
              "      <td>18.482532</td>\n",
              "    </tr>\n",
              "    <tr>\n",
              "      <th>6</th>\n",
              "      <td>324150302</td>\n",
              "      <td>6.361111</td>\n",
              "    </tr>\n",
              "    <tr>\n",
              "      <th>7</th>\n",
              "      <td>60896731</td>\n",
              "      <td>1.195035</td>\n",
              "    </tr>\n",
              "    <tr>\n",
              "      <th>8</th>\n",
              "      <td>854318799</td>\n",
              "      <td>16.765114</td>\n",
              "    </tr>\n",
              "    <tr>\n",
              "      <th>9</th>\n",
              "      <td>6370324</td>\n",
              "      <td>0.125011</td>\n",
              "    </tr>\n",
              "    <tr>\n",
              "      <th>10</th>\n",
              "      <td>100837301</td>\n",
              "      <td>1.978827</td>\n",
              "    </tr>\n",
              "    <tr>\n",
              "      <th>11</th>\n",
              "      <td>113791115</td>\n",
              "      <td>2.233032</td>\n",
              "    </tr>\n",
              "    <tr>\n",
              "      <th>12</th>\n",
              "      <td>5331844</td>\n",
              "      <td>0.104632</td>\n",
              "    </tr>\n",
              "    <tr>\n",
              "      <th>13</th>\n",
              "      <td>4008601</td>\n",
              "      <td>0.078665</td>\n",
              "    </tr>\n",
              "    <tr>\n",
              "      <th>14</th>\n",
              "      <td>20014696</td>\n",
              "      <td>0.392767</td>\n",
              "    </tr>\n",
              "    <tr>\n",
              "      <th>15</th>\n",
              "      <td>92969042</td>\n",
              "      <td>1.824420</td>\n",
              "    </tr>\n",
              "    <tr>\n",
              "      <th>16</th>\n",
              "      <td>145120612</td>\n",
              "      <td>2.847840</td>\n",
              "    </tr>\n",
              "    <tr>\n",
              "      <th>17</th>\n",
              "      <td>5878699</td>\n",
              "      <td>0.115363</td>\n",
              "    </tr>\n",
              "    <tr>\n",
              "      <th>18</th>\n",
              "      <td>9290201</td>\n",
              "      <td>0.182310</td>\n",
              "    </tr>\n",
              "    <tr>\n",
              "      <th>19</th>\n",
              "      <td>59378</td>\n",
              "      <td>0.001165</td>\n",
              "    </tr>\n",
              "    <tr>\n",
              "      <th>20</th>\n",
              "      <td>944727</td>\n",
              "      <td>0.018539</td>\n",
              "    </tr>\n",
              "  </tbody>\n",
              "</table>\n",
              "</div>\n",
              "      <button class=\"colab-df-convert\" onclick=\"convertToInteractive('df-0facffc1-7c86-4c9a-9b58-d662589106ba')\"\n",
              "              title=\"Convert this dataframe to an interactive table.\"\n",
              "              style=\"display:none;\">\n",
              "        \n",
              "  <svg xmlns=\"http://www.w3.org/2000/svg\" height=\"24px\"viewBox=\"0 0 24 24\"\n",
              "       width=\"24px\">\n",
              "    <path d=\"M0 0h24v24H0V0z\" fill=\"none\"/>\n",
              "    <path d=\"M18.56 5.44l.94 2.06.94-2.06 2.06-.94-2.06-.94-.94-2.06-.94 2.06-2.06.94zm-11 1L8.5 8.5l.94-2.06 2.06-.94-2.06-.94L8.5 2.5l-.94 2.06-2.06.94zm10 10l.94 2.06.94-2.06 2.06-.94-2.06-.94-.94-2.06-.94 2.06-2.06.94z\"/><path d=\"M17.41 7.96l-1.37-1.37c-.4-.4-.92-.59-1.43-.59-.52 0-1.04.2-1.43.59L10.3 9.45l-7.72 7.72c-.78.78-.78 2.05 0 2.83L4 21.41c.39.39.9.59 1.41.59.51 0 1.02-.2 1.41-.59l7.78-7.78 2.81-2.81c.8-.78.8-2.07 0-2.86zM5.41 20L4 18.59l7.72-7.72 1.47 1.35L5.41 20z\"/>\n",
              "  </svg>\n",
              "      </button>\n",
              "      \n",
              "  <style>\n",
              "    .colab-df-container {\n",
              "      display:flex;\n",
              "      flex-wrap:wrap;\n",
              "      gap: 12px;\n",
              "    }\n",
              "\n",
              "    .colab-df-convert {\n",
              "      background-color: #E8F0FE;\n",
              "      border: none;\n",
              "      border-radius: 50%;\n",
              "      cursor: pointer;\n",
              "      display: none;\n",
              "      fill: #1967D2;\n",
              "      height: 32px;\n",
              "      padding: 0 0 0 0;\n",
              "      width: 32px;\n",
              "    }\n",
              "\n",
              "    .colab-df-convert:hover {\n",
              "      background-color: #E2EBFA;\n",
              "      box-shadow: 0px 1px 2px rgba(60, 64, 67, 0.3), 0px 1px 3px 1px rgba(60, 64, 67, 0.15);\n",
              "      fill: #174EA6;\n",
              "    }\n",
              "\n",
              "    [theme=dark] .colab-df-convert {\n",
              "      background-color: #3B4455;\n",
              "      fill: #D2E3FC;\n",
              "    }\n",
              "\n",
              "    [theme=dark] .colab-df-convert:hover {\n",
              "      background-color: #434B5C;\n",
              "      box-shadow: 0px 1px 3px 1px rgba(0, 0, 0, 0.15);\n",
              "      filter: drop-shadow(0px 1px 2px rgba(0, 0, 0, 0.3));\n",
              "      fill: #FFFFFF;\n",
              "    }\n",
              "  </style>\n",
              "\n",
              "      <script>\n",
              "        const buttonEl =\n",
              "          document.querySelector('#df-0facffc1-7c86-4c9a-9b58-d662589106ba button.colab-df-convert');\n",
              "        buttonEl.style.display =\n",
              "          google.colab.kernel.accessAllowed ? 'block' : 'none';\n",
              "\n",
              "        async function convertToInteractive(key) {\n",
              "          const element = document.querySelector('#df-0facffc1-7c86-4c9a-9b58-d662589106ba');\n",
              "          const dataTable =\n",
              "            await google.colab.kernel.invokeFunction('convertToInteractive',\n",
              "                                                     [key], {});\n",
              "          if (!dataTable) return;\n",
              "\n",
              "          const docLinkHtml = 'Like what you see? Visit the ' +\n",
              "            '<a target=\"_blank\" href=https://colab.research.google.com/notebooks/data_table.ipynb>data table notebook</a>'\n",
              "            + ' to learn more about interactive tables.';\n",
              "          element.innerHTML = '';\n",
              "          dataTable['output_type'] = 'display_data';\n",
              "          await google.colab.output.renderOutput(dataTable, element);\n",
              "          const docLink = document.createElement('div');\n",
              "          docLink.innerHTML = docLinkHtml;\n",
              "          element.appendChild(docLink);\n",
              "        }\n",
              "      </script>\n",
              "    </div>\n",
              "  </div>\n",
              "  "
            ]
          },
          "metadata": {},
          "execution_count": 52
        }
      ],
      "source": [
        "df2=pd.DataFrame(df.groupby(['Product_Category'])[['Purchase']].sum())\n",
        "\n",
        "df2['percent'] = (df2['Purchase'] / \n",
        "                  df2['Purchase'].sum()) * 100\n",
        "df2"
      ]
    },
    {
      "cell_type": "markdown",
      "metadata": {
        "id": "985c0211"
      },
      "source": [
        "**Observations**:\n",
        "    \n",
        "    1. 1, 8, 5 are among the highest yielding product categories and 19, 20, 13 are among the lowest in terms of their contribution to total amount."
      ]
    },
    {
      "cell_type": "code",
      "execution_count": 53,
      "metadata": {
        "id": "9ee29c5f",
        "outputId": "79324552-843c-4709-9e69-82a8420bea8f",
        "colab": {
          "base_uri": "https://localhost:8080/",
          "height": 238
        }
      },
      "outputs": [
        {
          "output_type": "execute_result",
          "data": {
            "text/plain": [
              "                              Purchase    percent\n",
              "Stay_In_Current_City_Years                       \n",
              "0                            682979229  13.402754\n",
              "1                           1792872533  35.183250\n",
              "2                            949173931  18.626547\n",
              "3                            884902659  17.365290\n",
              "4+                           785884390  15.422160"
            ],
            "text/html": [
              "\n",
              "  <div id=\"df-4bc17701-6680-4305-b019-2fc99294afdb\">\n",
              "    <div class=\"colab-df-container\">\n",
              "      <div>\n",
              "<style scoped>\n",
              "    .dataframe tbody tr th:only-of-type {\n",
              "        vertical-align: middle;\n",
              "    }\n",
              "\n",
              "    .dataframe tbody tr th {\n",
              "        vertical-align: top;\n",
              "    }\n",
              "\n",
              "    .dataframe thead th {\n",
              "        text-align: right;\n",
              "    }\n",
              "</style>\n",
              "<table border=\"1\" class=\"dataframe\">\n",
              "  <thead>\n",
              "    <tr style=\"text-align: right;\">\n",
              "      <th></th>\n",
              "      <th>Purchase</th>\n",
              "      <th>percent</th>\n",
              "    </tr>\n",
              "    <tr>\n",
              "      <th>Stay_In_Current_City_Years</th>\n",
              "      <th></th>\n",
              "      <th></th>\n",
              "    </tr>\n",
              "  </thead>\n",
              "  <tbody>\n",
              "    <tr>\n",
              "      <th>0</th>\n",
              "      <td>682979229</td>\n",
              "      <td>13.402754</td>\n",
              "    </tr>\n",
              "    <tr>\n",
              "      <th>1</th>\n",
              "      <td>1792872533</td>\n",
              "      <td>35.183250</td>\n",
              "    </tr>\n",
              "    <tr>\n",
              "      <th>2</th>\n",
              "      <td>949173931</td>\n",
              "      <td>18.626547</td>\n",
              "    </tr>\n",
              "    <tr>\n",
              "      <th>3</th>\n",
              "      <td>884902659</td>\n",
              "      <td>17.365290</td>\n",
              "    </tr>\n",
              "    <tr>\n",
              "      <th>4+</th>\n",
              "      <td>785884390</td>\n",
              "      <td>15.422160</td>\n",
              "    </tr>\n",
              "  </tbody>\n",
              "</table>\n",
              "</div>\n",
              "      <button class=\"colab-df-convert\" onclick=\"convertToInteractive('df-4bc17701-6680-4305-b019-2fc99294afdb')\"\n",
              "              title=\"Convert this dataframe to an interactive table.\"\n",
              "              style=\"display:none;\">\n",
              "        \n",
              "  <svg xmlns=\"http://www.w3.org/2000/svg\" height=\"24px\"viewBox=\"0 0 24 24\"\n",
              "       width=\"24px\">\n",
              "    <path d=\"M0 0h24v24H0V0z\" fill=\"none\"/>\n",
              "    <path d=\"M18.56 5.44l.94 2.06.94-2.06 2.06-.94-2.06-.94-.94-2.06-.94 2.06-2.06.94zm-11 1L8.5 8.5l.94-2.06 2.06-.94-2.06-.94L8.5 2.5l-.94 2.06-2.06.94zm10 10l.94 2.06.94-2.06 2.06-.94-2.06-.94-.94-2.06-.94 2.06-2.06.94z\"/><path d=\"M17.41 7.96l-1.37-1.37c-.4-.4-.92-.59-1.43-.59-.52 0-1.04.2-1.43.59L10.3 9.45l-7.72 7.72c-.78.78-.78 2.05 0 2.83L4 21.41c.39.39.9.59 1.41.59.51 0 1.02-.2 1.41-.59l7.78-7.78 2.81-2.81c.8-.78.8-2.07 0-2.86zM5.41 20L4 18.59l7.72-7.72 1.47 1.35L5.41 20z\"/>\n",
              "  </svg>\n",
              "      </button>\n",
              "      \n",
              "  <style>\n",
              "    .colab-df-container {\n",
              "      display:flex;\n",
              "      flex-wrap:wrap;\n",
              "      gap: 12px;\n",
              "    }\n",
              "\n",
              "    .colab-df-convert {\n",
              "      background-color: #E8F0FE;\n",
              "      border: none;\n",
              "      border-radius: 50%;\n",
              "      cursor: pointer;\n",
              "      display: none;\n",
              "      fill: #1967D2;\n",
              "      height: 32px;\n",
              "      padding: 0 0 0 0;\n",
              "      width: 32px;\n",
              "    }\n",
              "\n",
              "    .colab-df-convert:hover {\n",
              "      background-color: #E2EBFA;\n",
              "      box-shadow: 0px 1px 2px rgba(60, 64, 67, 0.3), 0px 1px 3px 1px rgba(60, 64, 67, 0.15);\n",
              "      fill: #174EA6;\n",
              "    }\n",
              "\n",
              "    [theme=dark] .colab-df-convert {\n",
              "      background-color: #3B4455;\n",
              "      fill: #D2E3FC;\n",
              "    }\n",
              "\n",
              "    [theme=dark] .colab-df-convert:hover {\n",
              "      background-color: #434B5C;\n",
              "      box-shadow: 0px 1px 3px 1px rgba(0, 0, 0, 0.15);\n",
              "      filter: drop-shadow(0px 1px 2px rgba(0, 0, 0, 0.3));\n",
              "      fill: #FFFFFF;\n",
              "    }\n",
              "  </style>\n",
              "\n",
              "      <script>\n",
              "        const buttonEl =\n",
              "          document.querySelector('#df-4bc17701-6680-4305-b019-2fc99294afdb button.colab-df-convert');\n",
              "        buttonEl.style.display =\n",
              "          google.colab.kernel.accessAllowed ? 'block' : 'none';\n",
              "\n",
              "        async function convertToInteractive(key) {\n",
              "          const element = document.querySelector('#df-4bc17701-6680-4305-b019-2fc99294afdb');\n",
              "          const dataTable =\n",
              "            await google.colab.kernel.invokeFunction('convertToInteractive',\n",
              "                                                     [key], {});\n",
              "          if (!dataTable) return;\n",
              "\n",
              "          const docLinkHtml = 'Like what you see? Visit the ' +\n",
              "            '<a target=\"_blank\" href=https://colab.research.google.com/notebooks/data_table.ipynb>data table notebook</a>'\n",
              "            + ' to learn more about interactive tables.';\n",
              "          element.innerHTML = '';\n",
              "          dataTable['output_type'] = 'display_data';\n",
              "          await google.colab.output.renderOutput(dataTable, element);\n",
              "          const docLink = document.createElement('div');\n",
              "          docLink.innerHTML = docLinkHtml;\n",
              "          element.appendChild(docLink);\n",
              "        }\n",
              "      </script>\n",
              "    </div>\n",
              "  </div>\n",
              "  "
            ]
          },
          "metadata": {},
          "execution_count": 53
        }
      ],
      "source": [
        "df2=pd.DataFrame(df.groupby(['Stay_In_Current_City_Years'])[['Purchase']].sum())\n",
        "\n",
        "df2['percent'] = (df2['Purchase'] / \n",
        "                  df2['Purchase'].sum()) * 100\n",
        "df2"
      ]
    },
    {
      "cell_type": "markdown",
      "metadata": {
        "id": "05cb6935"
      },
      "source": [
        "**Univariate Analysis**:\n",
        "\n",
        "We can explore the distribution of the data for the quantitative attributes using histplot.  "
      ]
    },
    {
      "cell_type": "code",
      "execution_count": 54,
      "metadata": {
        "id": "1e131a98",
        "outputId": "a23a21e1-b434-490f-adc2-ddcfe467e6fe",
        "colab": {
          "base_uri": "https://localhost:8080/",
          "height": 388
        }
      },
      "outputs": [
        {
          "output_type": "display_data",
          "data": {
            "text/plain": [
              "<Figure size 720x432 with 1 Axes>"
            ],
            "image/png": "[encoded data removed]"
          },
          "metadata": {
            "needs_background": "light"
          }
        }
      ],
      "source": [
        "plt.figure(figsize=(10, 6))\n",
        "sns.histplot(data=df, x=\"Purchase\", kde=True)\n",
        "plt.show()"
      ]
    },
    {
      "cell_type": "markdown",
      "metadata": {
        "id": "e2d8bb1c"
      },
      "source": [
        "**Observation**:\n",
        "    \n",
        "    1. We can see purchase value between 5000 and 10000 have higher count. From the initial observation we have already seen the mean and median is 9263 and 8047 respectively. Also, we can see there are outliers in the data."
      ]
    },
    {
      "cell_type": "code",
      "execution_count": 55,
      "metadata": {
        "id": "11e06e47",
        "outputId": "8d1ea479-97a9-4369-95d1-6e53bb975709",
        "colab": {
          "base_uri": "https://localhost:8080/",
          "height": 255
        }
      },
      "outputs": [
        {
          "output_type": "display_data",
          "data": {
            "text/plain": [
              "<Figure size 360x288 with 1 Axes>"
            ],
            "image/png": "[encoded data removed]"
          },
          "metadata": {
            "needs_background": "light"
          }
        }
      ],
      "source": [
        "plt.figure(figsize=(5, 4))\n",
        "sns.boxplot(data=df, y='Purchase')\n",
        "plt.show()"
      ]
    },
    {
      "cell_type": "markdown",
      "metadata": {
        "id": "1eb37a7c"
      },
      "source": [
        "**Observation**:\n",
        "    \n",
        "    We can see there are outliers in the data for purchase.\n",
        "    \n",
        "Univariate analysis for qualitative variables:"
      ]
    },
    {
      "cell_type": "code",
      "execution_count": 56,
      "metadata": {
        "scrolled": false,
        "id": "563f174d",
        "outputId": "77711c8c-c716-4f1f-c5c5-cf79c489f3f9",
        "colab": {
          "base_uri": "https://localhost:8080/",
          "height": 606
        }
      },
      "outputs": [
        {
          "output_type": "display_data",
          "data": {
            "text/plain": [
              "<Figure size 1080x720 with 4 Axes>"
            ],
            "image/png": "[encoded data removed]"
          },
          "metadata": {
            "needs_background": "light"
          }
        }
      ],
      "source": [
        "fig, axs = plt.subplots(nrows=2, ncols=2, figsize=(15, 10))\n",
        "sns.countplot(data=df, x='Gender', ax=axs[0,0])\n",
        "sns.countplot(data=df, x='Occupation', ax=axs[0,1])\n",
        "sns.countplot(data=df, x='City_Category', ax=axs[1,0])\n",
        "sns.countplot(data=df, x='Marital_Status', ax=axs[1,1])\n",
        "plt.show()"
      ]
    },
    {
      "cell_type": "markdown",
      "metadata": {
        "id": "abd78cbe"
      },
      "source": [
        "**Observations**:\n",
        "    \n",
        "    1. We can clearly see from the graphs above the purchases done by males are much higher than females.\n",
        "    2. We have 21 occupations categories. Occupation category 4, 0, and 7 are with higher number of purchases and category 8 with the lowest number of purchaes.\n",
        "    3. The purchases are highest from City category B.\n",
        "    4. Single customer purchases are higher than married users."
      ]
    },
    {
      "cell_type": "code",
      "execution_count": 26,
      "metadata": {
        "id": "01508170",
        "outputId": "42dafd12-eab9-4924-f620-b61aa28d2e5c",
        "colab": {
          "base_uri": "https://localhost:8080/",
          "height": 335
        }
      },
      "outputs": [
        {
          "output_type": "display_data",
          "data": {
            "text/plain": [
              "<Figure size 864x360 with 1 Axes>"
            ],
            "image/png": "[encoded data removed]"
          },
          "metadata": {
            "needs_background": "light"
          }
        }
      ],
      "source": [
        "plt.figure(figsize=(12, 5))\n",
        "sns.countplot(data=df, x='Product_Category')\n",
        "plt.show()"
      ]
    },
    {
      "cell_type": "markdown",
      "metadata": {
        "id": "6b76bb8f"
      },
      "source": [
        "**Observations**:\n",
        "    \n",
        "    1. There are 20 product categories with product category 1, 5 and  8 having higher purchasing frequency."
      ]
    },
    {
      "cell_type": "markdown",
      "metadata": {
        "id": "2364817f"
      },
      "source": [
        "**Bivariate Analysis**:"
      ]
    },
    {
      "cell_type": "code",
      "execution_count": 57,
      "metadata": {
        "id": "61c1f6ed",
        "outputId": "feaa69f9-0956-4237-acfb-d713254969f9",
        "colab": {
          "base_uri": "https://localhost:8080/",
          "height": 350
        }
      },
      "outputs": [
        {
          "output_type": "display_data",
          "data": {
            "text/plain": [
              "<Figure size 1152x360 with 2 Axes>"
            ],
            "image/png": "[encoded data removed]"
          },
          "metadata": {
            "needs_background": "light"
          }
        }
      ],
      "source": [
        "fig, axs = plt.subplots(nrows=1, ncols=2, figsize=(16,5))\n",
        "sns.histplot(data=df[df['Gender']=='M']['Purchase'], ax=axs[0]).set_title(\"Male Spending \")\n",
        "sns.histplot(data=df[df['Gender']=='F']['Purchase'], ax=axs[1]).set_title(\"Female Spending\")\n",
        "plt.show()"
      ]
    },
    {
      "cell_type": "markdown",
      "metadata": {
        "id": "caeb4a74"
      },
      "source": [
        "**Observations:**\n",
        "    \n",
        "    1. From the above histplot, we can clearly see spending behaviour is very much similar in nature for both males and females as the maximum purchase count are between the purchase value range of 5000-10000 for both. But, the purchase count are more in case of males."
      ]
    },
    {
      "cell_type": "code",
      "execution_count": 58,
      "metadata": {
        "id": "1d708ed3",
        "outputId": "3a4ea5e5-cbf2-45a8-b852-b1c39f283d3a",
        "colab": {
          "base_uri": "https://localhost:8080/",
          "height": 1000
        }
      },
      "outputs": [
        {
          "output_type": "display_data",
          "data": {
            "text/plain": [
              "<Figure size 1296x720 with 6 Axes>"
            ],
            "image/png": "[encoded data removed]"
          },
          "metadata": {
            "needs_background": "light"
          }
        },
        {
          "output_type": "display_data",
          "data": {
            "text/plain": [
              "<Figure size 576x360 with 1 Axes>"
            ],
            "image/png": "[encoded data removed]"
          },
          "metadata": {
            "needs_background": "light"
          }
        }
      ],
      "source": [
        "attr = ['Gender', 'Age', 'Occupation', 'City_Category', 'Stay_In_Current_City_Years', 'Marital_Status']\n",
        "\n",
        "fig, axs = plt.subplots(nrows=3, ncols=2, figsize=(18, 10))\n",
        "fig.subplots_adjust(top=1.3)\n",
        "count = 0\n",
        "for row in range(3):\n",
        "    for col in range(2):\n",
        "        sns.boxplot(data=df, y='Purchase', x=attr[count], ax=axs[row, col],)\n",
        "        axs[row,col].set_title(f\"Purchase vs {attr[count]}\")\n",
        "        count += 1\n",
        "plt.show()\n",
        "\n",
        "plt.figure(figsize=(8, 5))\n",
        "sns.boxplot(data=df, y='Purchase', x='Product_Category')\n",
        "plt.show()"
      ]
    },
    {
      "cell_type": "markdown",
      "metadata": {
        "id": "5582fb3c"
      },
      "source": [
        "**Observations**:\n",
        "    \n",
        "    1. The spending behaviour for males and females are similar as we had seen from the above histplot. Males purchasing value are in the little higher range than females.\n",
        "    2. Among differnt age categories, we see similar purchase behaviour. For all age groups, most of the purchases are of the values between 5k to 12k with all have some outliers.\n",
        "    3. Among different occupation as well, we see similar purchasing behaviour in terms of the purchase values.\n",
        "    4. Similarly for City category, stay in current city years, marital status - we see the users spends mostly in the range of 5k to 12k.\n",
        "    5. We see variations among product categories. Product category 10 products are the costliest ones. Also, there are few outliers for some of the product categories."
      ]
    },
    {
      "cell_type": "markdown",
      "metadata": {
        "id": "b14756a5"
      },
      "source": [
        "**Multivariate analysis**:"
      ]
    },
    {
      "cell_type": "code",
      "execution_count": 59,
      "metadata": {
        "id": "feed6995",
        "outputId": "a051bbb6-6eb6-4a2a-f1ca-daa20702d00f",
        "colab": {
          "base_uri": "https://localhost:8080/",
          "height": 658
        }
      },
      "outputs": [
        {
          "output_type": "display_data",
          "data": {
            "text/plain": [
              "<Figure size 1440x432 with 4 Axes>"
            ],
            "image/png": "[encoded data removed]"
          },
          "metadata": {
            "needs_background": "light"
          }
        }
      ],
      "source": [
        "fig, axs = plt.subplots(nrows=2, ncols=2, figsize=(20, 6))\n",
        "fig.subplots_adjust(top=1.5)\n",
        "sns.boxplot(data=df, y='Purchase', x='Gender', hue='Age', ax=axs[0,0])\n",
        "sns.boxplot(data=df, y='Purchase', x='Gender', hue='City_Category', ax=axs[0,1])\n",
        "\n",
        "sns.boxplot(data=df, y='Purchase', x='Gender', hue='Marital_Status', ax=axs[1,0])\n",
        "sns.boxplot(data=df, y='Purchase', x='Gender', hue='Stay_In_Current_City_Years', ax=axs[1,1])\n",
        "\n",
        "plt.show()"
      ]
    },
    {
      "cell_type": "markdown",
      "metadata": {
        "id": "d98e3f95"
      },
      "source": [
        "**Observations**:\n",
        "        \n",
        "    1. The purchasing pattern is very much similar for males and females even among differnt age groups.\n",
        "    2. The purchasing behaviour of males and females basis different citi categories is also similar in nature. Still,  males from city category B tends to purchase costlier products in comparison to females.\n",
        "    3. Males and females spending behaviour remains similar even when take into account their marital status.\n",
        "    4. Purchase values are similar for males and females basis Stay_in_current_city_years. Although, Males buy slightly high value products."
      ]
    },
    {
      "cell_type": "markdown",
      "metadata": {
        "id": "9891a6e3"
      },
      "source": [
        "**Correlation between categorical variables**:"
      ]
    },
    {
      "cell_type": "code",
      "execution_count": 60,
      "metadata": {
        "id": "033bd4cd",
        "outputId": "01370d2c-faf2-4483-b9a0-a73fe0fd0083",
        "colab": {
          "base_uri": "https://localhost:8080/",
          "height": 286
        }
      },
      "outputs": [
        {
          "output_type": "execute_result",
          "data": {
            "text/plain": [
              "<matplotlib.axes._subplots.AxesSubplot at 0x7f16092835e0>"
            ]
          },
          "metadata": {},
          "execution_count": 60
        },
        {
          "output_type": "display_data",
          "data": {
            "text/plain": [
              "<Figure size 432x288 with 2 Axes>"
            ],
            "image/png": "[encoded data removed]"
          },
          "metadata": {
            "needs_background": "light"
          }
        }
      ],
      "source": [
        "sns.heatmap(df.corr(), annot=True, cmap=\"Blues\", linewidth=.5)"
      ]
    },
    {
      "cell_type": "markdown",
      "metadata": {
        "id": "e3e7eb37"
      },
      "source": [
        "Average amount spend per males and females:"
      ]
    },
    {
      "cell_type": "markdown",
      "metadata": {
        "id": "e5d3ad89"
      },
      "source": [
        "**Observations**:\n",
        "    \n",
        "    1. From the above correlation plot, we can see the correlation is not significant between any pair of variables."
      ]
    },
    {
      "cell_type": "code",
      "execution_count": 61,
      "metadata": {
        "id": "8a179726",
        "outputId": "910a159c-a900-4752-c684-bce9caa64293",
        "colab": {
          "base_uri": "https://localhost:8080/",
          "height": 424
        }
      },
      "outputs": [
        {
          "output_type": "execute_result",
          "data": {
            "text/plain": [
              "      User_ID Gender  Purchase\n",
              "0     1000001      F    334093\n",
              "1     1000002      M    810472\n",
              "2     1000003      M    341635\n",
              "3     1000004      M    206468\n",
              "4     1000005      M    821001\n",
              "...       ...    ...       ...\n",
              "5886  1006036      F   4116058\n",
              "5887  1006037      F   1119538\n",
              "5888  1006038      F     90034\n",
              "5889  1006039      F    590319\n",
              "5890  1006040      M   1653299\n",
              "\n",
              "[5891 rows x 3 columns]"
            ],
            "text/html": [
              "\n",
              "  <div id=\"df-4c7eeed6-8ff3-40c3-a93e-85479dd98ccf\">\n",
              "    <div class=\"colab-df-container\">\n",
              "      <div>\n",
              "<style scoped>\n",
              "    .dataframe tbody tr th:only-of-type {\n",
              "        vertical-align: middle;\n",
              "    }\n",
              "\n",
              "    .dataframe tbody tr th {\n",
              "        vertical-align: top;\n",
              "    }\n",
              "\n",
              "    .dataframe thead th {\n",
              "        text-align: right;\n",
              "    }\n",
              "</style>\n",
              "<table border=\"1\" class=\"dataframe\">\n",
              "  <thead>\n",
              "    <tr style=\"text-align: right;\">\n",
              "      <th></th>\n",
              "      <th>User_ID</th>\n",
              "      <th>Gender</th>\n",
              "      <th>Purchase</th>\n",
              "    </tr>\n",
              "  </thead>\n",
              "  <tbody>\n",
              "    <tr>\n",
              "      <th>0</th>\n",
              "      <td>1000001</td>\n",
              "      <td>F</td>\n",
              "      <td>334093</td>\n",
              "    </tr>\n",
              "    <tr>\n",
              "      <th>1</th>\n",
              "      <td>1000002</td>\n",
              "      <td>M</td>\n",
              "      <td>810472</td>\n",
              "    </tr>\n",
              "    <tr>\n",
              "      <th>2</th>\n",
              "      <td>1000003</td>\n",
              "      <td>M</td>\n",
              "      <td>341635</td>\n",
              "    </tr>\n",
              "    <tr>\n",
              "      <th>3</th>\n",
              "      <td>1000004</td>\n",
              "      <td>M</td>\n",
              "      <td>206468</td>\n",
              "    </tr>\n",
              "    <tr>\n",
              "      <th>4</th>\n",
              "      <td>1000005</td>\n",
              "      <td>M</td>\n",
              "      <td>821001</td>\n",
              "    </tr>\n",
              "    <tr>\n",
              "      <th>...</th>\n",
              "      <td>...</td>\n",
              "      <td>...</td>\n",
              "      <td>...</td>\n",
              "    </tr>\n",
              "    <tr>\n",
              "      <th>5886</th>\n",
              "      <td>1006036</td>\n",
              "      <td>F</td>\n",
              "      <td>4116058</td>\n",
              "    </tr>\n",
              "    <tr>\n",
              "      <th>5887</th>\n",
              "      <td>1006037</td>\n",
              "      <td>F</td>\n",
              "      <td>1119538</td>\n",
              "    </tr>\n",
              "    <tr>\n",
              "      <th>5888</th>\n",
              "      <td>1006038</td>\n",
              "      <td>F</td>\n",
              "      <td>90034</td>\n",
              "    </tr>\n",
              "    <tr>\n",
              "      <th>5889</th>\n",
              "      <td>1006039</td>\n",
              "      <td>F</td>\n",
              "      <td>590319</td>\n",
              "    </tr>\n",
              "    <tr>\n",
              "      <th>5890</th>\n",
              "      <td>1006040</td>\n",
              "      <td>M</td>\n",
              "      <td>1653299</td>\n",
              "    </tr>\n",
              "  </tbody>\n",
              "</table>\n",
              "<p>5891 rows × 3 columns</p>\n",
              "</div>\n",
              "      <button class=\"colab-df-convert\" onclick=\"convertToInteractive('df-4c7eeed6-8ff3-40c3-a93e-85479dd98ccf')\"\n",
              "              title=\"Convert this dataframe to an interactive table.\"\n",
              "              style=\"display:none;\">\n",
              "        \n",
              "  <svg xmlns=\"http://www.w3.org/2000/svg\" height=\"24px\"viewBox=\"0 0 24 24\"\n",
              "       width=\"24px\">\n",
              "    <path d=\"M0 0h24v24H0V0z\" fill=\"none\"/>\n",
              "    <path d=\"M18.56 5.44l.94 2.06.94-2.06 2.06-.94-2.06-.94-.94-2.06-.94 2.06-2.06.94zm-11 1L8.5 8.5l.94-2.06 2.06-.94-2.06-.94L8.5 2.5l-.94 2.06-2.06.94zm10 10l.94 2.06.94-2.06 2.06-.94-2.06-.94-.94-2.06-.94 2.06-2.06.94z\"/><path d=\"M17.41 7.96l-1.37-1.37c-.4-.4-.92-.59-1.43-.59-.52 0-1.04.2-1.43.59L10.3 9.45l-7.72 7.72c-.78.78-.78 2.05 0 2.83L4 21.41c.39.39.9.59 1.41.59.51 0 1.02-.2 1.41-.59l7.78-7.78 2.81-2.81c.8-.78.8-2.07 0-2.86zM5.41 20L4 18.59l7.72-7.72 1.47 1.35L5.41 20z\"/>\n",
              "  </svg>\n",
              "      </button>\n",
              "      \n",
              "  <style>\n",
              "    .colab-df-container {\n",
              "      display:flex;\n",
              "      flex-wrap:wrap;\n",
              "      gap: 12px;\n",
              "    }\n",
              "\n",
              "    .colab-df-convert {\n",
              "      background-color: #E8F0FE;\n",
              "      border: none;\n",
              "      border-radius: 50%;\n",
              "      cursor: pointer;\n",
              "      display: none;\n",
              "      fill: #1967D2;\n",
              "      height: 32px;\n",
              "      padding: 0 0 0 0;\n",
              "      width: 32px;\n",
              "    }\n",
              "\n",
              "    .colab-df-convert:hover {\n",
              "      background-color: #E2EBFA;\n",
              "      box-shadow: 0px 1px 2px rgba(60, 64, 67, 0.3), 0px 1px 3px 1px rgba(60, 64, 67, 0.15);\n",
              "      fill: #174EA6;\n",
              "    }\n",
              "\n",
              "    [theme=dark] .colab-df-convert {\n",
              "      background-color: #3B4455;\n",
              "      fill: #D2E3FC;\n",
              "    }\n",
              "\n",
              "    [theme=dark] .colab-df-convert:hover {\n",
              "      background-color: #434B5C;\n",
              "      box-shadow: 0px 1px 3px 1px rgba(0, 0, 0, 0.15);\n",
              "      filter: drop-shadow(0px 1px 2px rgba(0, 0, 0, 0.3));\n",
              "      fill: #FFFFFF;\n",
              "    }\n",
              "  </style>\n",
              "\n",
              "      <script>\n",
              "        const buttonEl =\n",
              "          document.querySelector('#df-4c7eeed6-8ff3-40c3-a93e-85479dd98ccf button.colab-df-convert');\n",
              "        buttonEl.style.display =\n",
              "          google.colab.kernel.accessAllowed ? 'block' : 'none';\n",
              "\n",
              "        async function convertToInteractive(key) {\n",
              "          const element = document.querySelector('#df-4c7eeed6-8ff3-40c3-a93e-85479dd98ccf');\n",
              "          const dataTable =\n",
              "            await google.colab.kernel.invokeFunction('convertToInteractive',\n",
              "                                                     [key], {});\n",
              "          if (!dataTable) return;\n",
              "\n",
              "          const docLinkHtml = 'Like what you see? Visit the ' +\n",
              "            '<a target=\"_blank\" href=https://colab.research.google.com/notebooks/data_table.ipynb>data table notebook</a>'\n",
              "            + ' to learn more about interactive tables.';\n",
              "          element.innerHTML = '';\n",
              "          dataTable['output_type'] = 'display_data';\n",
              "          await google.colab.output.renderOutput(dataTable, element);\n",
              "          const docLink = document.createElement('div');\n",
              "          docLink.innerHTML = docLinkHtml;\n",
              "          element.appendChild(docLink);\n",
              "        }\n",
              "      </script>\n",
              "    </div>\n",
              "  </div>\n",
              "  "
            ]
          },
          "metadata": {},
          "execution_count": 61
        }
      ],
      "source": [
        "avgamt_gender = df.groupby(['User_ID', 'Gender'])[['Purchase']].sum()\n",
        "avgamt_gender = avgamt_gender.reset_index()\n",
        "avgamt_gender"
      ]
    },
    {
      "cell_type": "code",
      "execution_count": 62,
      "metadata": {
        "id": "31f1eeec",
        "outputId": "91f2372d-5279-435b-e8db-6e2fdaa42f1d",
        "colab": {
          "base_uri": "https://localhost:8080/"
        }
      },
      "outputs": [
        {
          "output_type": "execute_result",
          "data": {
            "text/plain": [
              "M    4225\n",
              "F    1666\n",
              "Name: Gender, dtype: int64"
            ]
          },
          "metadata": {},
          "execution_count": 62
        }
      ],
      "source": [
        " # Gender wise count in the entire data\n",
        "avgamt_gender['Gender'].value_counts()"
      ]
    },
    {
      "cell_type": "code",
      "execution_count": 63,
      "metadata": {
        "id": "ba739166",
        "outputId": "38815fe5-f80e-44f6-83c6-fd8fdbca23ad",
        "colab": {
          "base_uri": "https://localhost:8080/",
          "height": 367
        }
      },
      "outputs": [
        {
          "output_type": "execute_result",
          "data": {
            "text/plain": [
              "Text(0.5, 1.0, 'Males Avg Spend')"
            ]
          },
          "metadata": {},
          "execution_count": 63
        },
        {
          "output_type": "display_data",
          "data": {
            "text/plain": [
              "<Figure size 1152x360 with 2 Axes>"
            ],
            "image/png": "[encoded data removed]"
          },
          "metadata": {
            "needs_background": "light"
          }
        }
      ],
      "source": [
        "fig, axs = plt.subplots(nrows=1, ncols=2, figsize=(16,5))\n",
        "\n",
        "sns.histplot(data=avgamt_gender[avgamt_gender['Gender']=='F']['Purchase'], ax=axs[0]).set_title(\"Females Avg Spend\")\n",
        "sns.histplot(data=avgamt_gender[avgamt_gender['Gender']=='M']['Purchase'], ax=axs[1]).set_title(\"Males Avg Spend\")\n"
      ]
    },
    {
      "cell_type": "markdown",
      "metadata": {
        "id": "71bd199b"
      },
      "source": [
        "**Observations**:\n",
        "    \n",
        "    1. Average amount spend by males are higher than females. "
      ]
    },
    {
      "cell_type": "code",
      "execution_count": 64,
      "metadata": {
        "id": "4d514699",
        "outputId": "694578e6-38d7-457c-c568-767bd3985bcd",
        "colab": {
          "base_uri": "https://localhost:8080/",
          "height": 143
        }
      },
      "outputs": [
        {
          "output_type": "execute_result",
          "data": {
            "text/plain": [
              "             Purchase\n",
              "Gender               \n",
              "F       712024.394958\n",
              "M       925344.402367"
            ],
            "text/html": [
              "\n",
              "  <div id=\"df-6b63583e-7182-4fa6-a220-cdb92f37be7a\">\n",
              "    <div class=\"colab-df-container\">\n",
              "      <div>\n",
              "<style scoped>\n",
              "    .dataframe tbody tr th:only-of-type {\n",
              "        vertical-align: middle;\n",
              "    }\n",
              "\n",
              "    .dataframe tbody tr th {\n",
              "        vertical-align: top;\n",
              "    }\n",
              "\n",
              "    .dataframe thead th {\n",
              "        text-align: right;\n",
              "    }\n",
              "</style>\n",
              "<table border=\"1\" class=\"dataframe\">\n",
              "  <thead>\n",
              "    <tr style=\"text-align: right;\">\n",
              "      <th></th>\n",
              "      <th>Purchase</th>\n",
              "    </tr>\n",
              "    <tr>\n",
              "      <th>Gender</th>\n",
              "      <th></th>\n",
              "    </tr>\n",
              "  </thead>\n",
              "  <tbody>\n",
              "    <tr>\n",
              "      <th>F</th>\n",
              "      <td>712024.394958</td>\n",
              "    </tr>\n",
              "    <tr>\n",
              "      <th>M</th>\n",
              "      <td>925344.402367</td>\n",
              "    </tr>\n",
              "  </tbody>\n",
              "</table>\n",
              "</div>\n",
              "      <button class=\"colab-df-convert\" onclick=\"convertToInteractive('df-6b63583e-7182-4fa6-a220-cdb92f37be7a')\"\n",
              "              title=\"Convert this dataframe to an interactive table.\"\n",
              "              style=\"display:none;\">\n",
              "        \n",
              "  <svg xmlns=\"http://www.w3.org/2000/svg\" height=\"24px\"viewBox=\"0 0 24 24\"\n",
              "       width=\"24px\">\n",
              "    <path d=\"M0 0h24v24H0V0z\" fill=\"none\"/>\n",
              "    <path d=\"M18.56 5.44l.94 2.06.94-2.06 2.06-.94-2.06-.94-.94-2.06-.94 2.06-2.06.94zm-11 1L8.5 8.5l.94-2.06 2.06-.94-2.06-.94L8.5 2.5l-.94 2.06-2.06.94zm10 10l.94 2.06.94-2.06 2.06-.94-2.06-.94-.94-2.06-.94 2.06-2.06.94z\"/><path d=\"M17.41 7.96l-1.37-1.37c-.4-.4-.92-.59-1.43-.59-.52 0-1.04.2-1.43.59L10.3 9.45l-7.72 7.72c-.78.78-.78 2.05 0 2.83L4 21.41c.39.39.9.59 1.41.59.51 0 1.02-.2 1.41-.59l7.78-7.78 2.81-2.81c.8-.78.8-2.07 0-2.86zM5.41 20L4 18.59l7.72-7.72 1.47 1.35L5.41 20z\"/>\n",
              "  </svg>\n",
              "      </button>\n",
              "      \n",
              "  <style>\n",
              "    .colab-df-container {\n",
              "      display:flex;\n",
              "      flex-wrap:wrap;\n",
              "      gap: 12px;\n",
              "    }\n",
              "\n",
              "    .colab-df-convert {\n",
              "      background-color: #E8F0FE;\n",
              "      border: none;\n",
              "      border-radius: 50%;\n",
              "      cursor: pointer;\n",
              "      display: none;\n",
              "      fill: #1967D2;\n",
              "      height: 32px;\n",
              "      padding: 0 0 0 0;\n",
              "      width: 32px;\n",
              "    }\n",
              "\n",
              "    .colab-df-convert:hover {\n",
              "      background-color: #E2EBFA;\n",
              "      box-shadow: 0px 1px 2px rgba(60, 64, 67, 0.3), 0px 1px 3px 1px rgba(60, 64, 67, 0.15);\n",
              "      fill: #174EA6;\n",
              "    }\n",
              "\n",
              "    [theme=dark] .colab-df-convert {\n",
              "      background-color: #3B4455;\n",
              "      fill: #D2E3FC;\n",
              "    }\n",
              "\n",
              "    [theme=dark] .colab-df-convert:hover {\n",
              "      background-color: #434B5C;\n",
              "      box-shadow: 0px 1px 3px 1px rgba(0, 0, 0, 0.15);\n",
              "      filter: drop-shadow(0px 1px 2px rgba(0, 0, 0, 0.3));\n",
              "      fill: #FFFFFF;\n",
              "    }\n",
              "  </style>\n",
              "\n",
              "      <script>\n",
              "        const buttonEl =\n",
              "          document.querySelector('#df-6b63583e-7182-4fa6-a220-cdb92f37be7a button.colab-df-convert');\n",
              "        buttonEl.style.display =\n",
              "          google.colab.kernel.accessAllowed ? 'block' : 'none';\n",
              "\n",
              "        async function convertToInteractive(key) {\n",
              "          const element = document.querySelector('#df-6b63583e-7182-4fa6-a220-cdb92f37be7a');\n",
              "          const dataTable =\n",
              "            await google.colab.kernel.invokeFunction('convertToInteractive',\n",
              "                                                     [key], {});\n",
              "          if (!dataTable) return;\n",
              "\n",
              "          const docLinkHtml = 'Like what you see? Visit the ' +\n",
              "            '<a target=\"_blank\" href=https://colab.research.google.com/notebooks/data_table.ipynb>data table notebook</a>'\n",
              "            + ' to learn more about interactive tables.';\n",
              "          element.innerHTML = '';\n",
              "          dataTable['output_type'] = 'display_data';\n",
              "          await google.colab.output.renderOutput(dataTable, element);\n",
              "          const docLink = document.createElement('div');\n",
              "          docLink.innerHTML = docLinkHtml;\n",
              "          element.appendChild(docLink);\n",
              "        }\n",
              "      </script>\n",
              "    </div>\n",
              "  </div>\n",
              "  "
            ]
          },
          "metadata": {},
          "execution_count": 64
        }
      ],
      "source": [
        "avgamt_gender.groupby(['Gender'])[['Purchase']].mean()"
      ]
    },
    {
      "cell_type": "code",
      "execution_count": 65,
      "metadata": {
        "id": "26940cb7",
        "outputId": "49060c97-1830-4e6b-9acd-a5a7b33d288f",
        "colab": {
          "base_uri": "https://localhost:8080/"
        }
      },
      "outputs": [
        {
          "output_type": "execute_result",
          "data": {
            "text/plain": [
              "Gender\n",
              "F    1186232642\n",
              "M    3909580100\n",
              "Name: Purchase, dtype: int64"
            ]
          },
          "metadata": {},
          "execution_count": 65
        }
      ],
      "source": [
        "avgamt_gender.groupby(['Gender'])['Purchase'].sum()"
      ]
    },
    {
      "cell_type": "markdown",
      "metadata": {
        "id": "622720e8"
      },
      "source": [
        "**Observations**:\n",
        "    \n",
        "    1. Average amount for the males is 925344 for the entire population whereas it's much lesser for females(712024).\n",
        "    2. Total amount spend by males is around 4 billion whereas for females it's 1.2 billion.   "
      ]
    },
    {
      "cell_type": "code",
      "execution_count": 66,
      "metadata": {
        "id": "4d2b73db"
      },
      "outputs": [],
      "source": [
        "avgamt_male = avgamt_gender[avgamt_gender['Gender']=='M']\n",
        "avgamt_female = avgamt_gender[avgamt_gender['Gender']=='F']"
      ]
    },
    {
      "cell_type": "code",
      "execution_count": 67,
      "metadata": {
        "id": "40aba718"
      },
      "outputs": [],
      "source": [
        "#Finding the sample(sample size=1000) for avg purchase amount for males and females \n",
        "genders = [\"M\", \"F\"]\n",
        "\n",
        "sample_size = 1000\n",
        "\n",
        "num_repitions = 1000\n",
        "male_means = []\n",
        "female_means = []\n",
        "\n",
        "for i in range(num_repitions):\n",
        "    male_mean = avgamt_male.sample(sample_size, replace=True)['Purchase'].mean()\n",
        "    female_mean = avgamt_female.sample(sample_size, replace=True)['Purchase'].mean()\n",
        "    \n",
        "    male_means.append(male_mean)\n",
        "    female_means.append(female_mean)\n"
      ]
    },
    {
      "cell_type": "code",
      "execution_count": 68,
      "metadata": {
        "id": "962cb404",
        "outputId": "6d5235de-29cf-473d-81f4-a32888dacb31",
        "colab": {
          "base_uri": "https://localhost:8080/",
          "height": 403
        }
      },
      "outputs": [
        {
          "output_type": "display_data",
          "data": {
            "text/plain": [
              "<Figure size 1440x432 with 2 Axes>"
            ],
            "image/png": "[encoded data removed]"
          },
          "metadata": {
            "needs_background": "light"
          }
        }
      ],
      "source": [
        "fig, axis = plt.subplots(nrows=1, ncols=2, figsize=(20, 6))\n",
        "\n",
        "axis[0].hist(male_means, bins=35)\n",
        "axis[1].hist(female_means, bins=35)\n",
        "axis[0].set_title(\"Male distribution of means, Sample size: 1000\")\n",
        "axis[1].set_title(\"Female distribution of means, Sample size: 1000\")\n",
        "\n",
        "plt.show()"
      ]
    },
    {
      "cell_type": "markdown",
      "metadata": {
        "id": "dc6a52f2"
      },
      "source": [
        "**Observations**:\n",
        "    \n",
        "    1. The means sample seems to be normally distributed for both males and females. Also, we can see the mean of the sample means are closer to the population mean as per central limit theorem. "
      ]
    },
    {
      "cell_type": "markdown",
      "metadata": {
        "id": "98074d92"
      },
      "source": [
        "Calculating 90% confidence interval for sample size 1000:"
      ]
    },
    {
      "cell_type": "code",
      "execution_count": 69,
      "metadata": {
        "id": "f03cff68",
        "outputId": "ebdfb02d-43d0-4170-bf31-0baac0b3c6d3",
        "colab": {
          "base_uri": "https://localhost:8080/"
        }
      },
      "outputs": [
        {
          "output_type": "stream",
          "name": "stdout",
          "text": [
            "Population avg spend amount for Male: 925344.40\n",
            "Population avg spend amount for Female: 712024.39\n",
            "\n",
            "Sample avg spend amount for Male: 925939.18\n",
            "Sample avg spend amount for Female: 711796.28\n",
            "\n",
            "Sample std for Male: 31425.73\n",
            "Sample std for Female: 25410.14\n",
            "\n",
            "Sample std error for Male: 993.77\n",
            "Sample std error for Female: 803.54\n",
            "\n",
            "Male_CI:  [924304.4300690257, 927573.9299929744]\n",
            "Female_CI:  [710474.4583396282, 713118.1018463717]\n"
          ]
        }
      ],
      "source": [
        "#Taking the values for z at 90%, 95% and 99% confidence interval as:\n",
        "z90=1.645 #90% Confidence Interval\n",
        "z95=1.960 #95% Confidence Interval\n",
        "z99=2.576 #99% Confidence Interval\n",
        "\n",
        "print(\"Population avg spend amount for Male: {:.2f}\".format(avgamt_male['Purchase'].mean()))\n",
        "print(\"Population avg spend amount for Female: {:.2f}\\n\".format(avgamt_female['Purchase'].mean()))\n",
        "\n",
        "print(\"Sample avg spend amount for Male: {:.2f}\".format(np.mean(male_means)))\n",
        "print(\"Sample avg spend amount for Female: {:.2f}\\n\".format(np.mean(female_means)))\n",
        "\n",
        "print(\"Sample std for Male: {:.2f}\".format(pd.Series(male_means).std()))\n",
        "print(\"Sample std for Female: {:.2f}\\n\".format(pd.Series(female_means).std()))\n",
        "\n",
        "print(\"Sample std error for Male: {:.2f}\".format(pd.Series(male_means).std()/np.sqrt(1000))) \n",
        "print(\"Sample std error for Female: {:.2f}\\n\".format(pd.Series(female_means).std()/np.sqrt(1000)))\n",
        "\n",
        "sample_mean_male=np.mean(male_means)\n",
        "sample_mean_female=np.mean(female_means)\n",
        "\n",
        "sample_std_male=pd.Series(male_means).std()\n",
        "sample_std_female=pd.Series(female_means).std()\n",
        "\n",
        "sample_std_error_male=sample_std_male/np.sqrt(1000)\n",
        "sample_std_error_female=sample_std_female/np.sqrt(1000)\n",
        "\n",
        "Upper_Limit_male=z90*sample_std_error_male + sample_mean_male\n",
        "Lower_Limit_male=sample_mean_male - z90*sample_std_error_male\n",
        "\n",
        "Upper_Limit_female=z90*sample_std_error_female + sample_mean_female\n",
        "Lower_Limit_female=sample_mean_female - z90*sample_std_error_female\n",
        "\n",
        "print(\"Male_CI: \",[Lower_Limit_male,Upper_Limit_male])\n",
        "print(\"Female_CI: \",[Lower_Limit_female,Upper_Limit_female])\n"
      ]
    },
    {
      "cell_type": "markdown",
      "metadata": {
        "id": "c3303606"
      },
      "source": [
        "**Observation**:\n",
        "\n",
        "Now using the Confidence interval at 90%, we can say that:\n",
        "\n",
        "Average amount spend by male customers lie in the range 9,22,940.71 - 9,26,225.18\n",
        "\n",
        "Average amount spend by female customers lie in range 7,10,425.64 - 7,13,064.55"
      ]
    },
    {
      "cell_type": "markdown",
      "metadata": {
        "id": "850343e2"
      },
      "source": [
        "Calculating 95% confidence interval for sample size 1000:"
      ]
    },
    {
      "cell_type": "code",
      "execution_count": 70,
      "metadata": {
        "id": "312d3049",
        "outputId": "9c81cd78-fc92-4445-dd51-8f8ab6203231",
        "colab": {
          "base_uri": "https://localhost:8080/"
        }
      },
      "outputs": [
        {
          "output_type": "stream",
          "name": "stdout",
          "text": [
            "Population avg spend amount for Male: 925344.40\n",
            "Population avg spend amount for Female: 712024.39\n",
            "\n",
            "Sample avg spend amount for Male: 925939.18\n",
            "Sample avg spend amount for Female: 711796.28\n",
            "\n",
            "Sample std for Male: 31425.73\n",
            "Sample std for Female: 25410.14\n",
            "\n",
            "Sample std error for Male: 993.77\n",
            "Sample std error for Female: 803.54\n",
            "\n",
            "Male_CI:  [923991.3928422647, 927886.9672197354]\n",
            "Female_CI:  [710221.343535791, 713371.2166502088]\n"
          ]
        }
      ],
      "source": [
        "#Taking the values for z at 90%, 95% and 99% confidence interval as:\n",
        "z90=1.645 #90% Confidence Interval\n",
        "z95=1.960 #95% Confidence Interval\n",
        "z99=2.576 #99% Confidence Interval\n",
        "\n",
        "print(\"Population avg spend amount for Male: {:.2f}\".format(avgamt_male['Purchase'].mean()))\n",
        "print(\"Population avg spend amount for Female: {:.2f}\\n\".format(avgamt_female['Purchase'].mean()))\n",
        "\n",
        "print(\"Sample avg spend amount for Male: {:.2f}\".format(np.mean(male_means)))\n",
        "print(\"Sample avg spend amount for Female: {:.2f}\\n\".format(np.mean(female_means)))\n",
        "\n",
        "print(\"Sample std for Male: {:.2f}\".format(pd.Series(male_means).std()))\n",
        "print(\"Sample std for Female: {:.2f}\\n\".format(pd.Series(female_means).std()))\n",
        "\n",
        "print(\"Sample std error for Male: {:.2f}\".format(pd.Series(male_means).std()/np.sqrt(1000))) \n",
        "print(\"Sample std error for Female: {:.2f}\\n\".format(pd.Series(female_means).std()/np.sqrt(1000)))\n",
        "\n",
        "sample_mean_male=np.mean(male_means)\n",
        "sample_mean_female=np.mean(female_means)\n",
        "\n",
        "sample_std_male=pd.Series(male_means).std()\n",
        "sample_std_female=pd.Series(female_means).std()\n",
        "\n",
        "sample_std_error_male=sample_std_male/np.sqrt(1000)\n",
        "sample_std_error_female=sample_std_female/np.sqrt(1000)\n",
        "\n",
        "Upper_Limit_male=z95*sample_std_error_male + sample_mean_male\n",
        "Lower_Limit_male=sample_mean_male - z95*sample_std_error_male\n",
        "\n",
        "Upper_Limit_female=z95*sample_std_error_female + sample_mean_female\n",
        "Lower_Limit_female=sample_mean_female - z95*sample_std_error_female\n",
        "\n",
        "print(\"Male_CI: \",[Lower_Limit_male,Upper_Limit_male])\n",
        "print(\"Female_CI: \",[Lower_Limit_female,Upper_Limit_female])\n"
      ]
    },
    {
      "cell_type": "markdown",
      "metadata": {
        "id": "c4a2d06f"
      },
      "source": [
        "**Observation**:\n",
        "\n",
        "Now using the Confidence interval at 95%, we can say that:\n",
        "\n",
        "Average amount spend by male customers lie in the range 9,22,626.24 - 9,26,539.65\n",
        "\n",
        "Average amount spend by female customers lie in range 7,10,172.98 - 7,13,317.21"
      ]
    },
    {
      "cell_type": "markdown",
      "metadata": {
        "id": "f801bcc2"
      },
      "source": [
        "Calculating 99% confidence interval for sample size 1000:"
      ]
    },
    {
      "cell_type": "code",
      "execution_count": 71,
      "metadata": {
        "id": "804e1b21",
        "outputId": "db4d252c-1e71-42f3-f48b-db3c2c555faa",
        "colab": {
          "base_uri": "https://localhost:8080/"
        }
      },
      "outputs": [
        {
          "output_type": "stream",
          "name": "stdout",
          "text": [
            "Population avg spend amount for Male: 925344.40\n",
            "Population avg spend amount for Female: 712024.39\n",
            "\n",
            "Sample avg spend amount for Male: 925939.18\n",
            "Sample avg spend amount for Female: 711796.28\n",
            "\n",
            "Sample std for Male: 31425.73\n",
            "Sample std for Female: 25410.14\n",
            "\n",
            "Sample std error for Male: 993.77\n",
            "Sample std error for Female: 803.54\n",
            "\n",
            "Male_CI:  [923379.2311543764, 928499.1289076237]\n",
            "Female_CI:  [709726.3634749539, 713866.1967110459]\n"
          ]
        }
      ],
      "source": [
        "#Taking the values for z at 90%, 95% and 99% confidence interval as:\n",
        "z90=1.645 #90% Confidence Interval\n",
        "z95=1.960 #95% Confidence Interval\n",
        "z99=2.576 #99% Confidence Interval\n",
        "\n",
        "print(\"Population avg spend amount for Male: {:.2f}\".format(avgamt_male['Purchase'].mean()))\n",
        "print(\"Population avg spend amount for Female: {:.2f}\\n\".format(avgamt_female['Purchase'].mean()))\n",
        "\n",
        "print(\"Sample avg spend amount for Male: {:.2f}\".format(np.mean(male_means)))\n",
        "print(\"Sample avg spend amount for Female: {:.2f}\\n\".format(np.mean(female_means)))\n",
        "\n",
        "print(\"Sample std for Male: {:.2f}\".format(pd.Series(male_means).std()))\n",
        "print(\"Sample std for Female: {:.2f}\\n\".format(pd.Series(female_means).std()))\n",
        "\n",
        "print(\"Sample std error for Male: {:.2f}\".format(pd.Series(male_means).std()/np.sqrt(1000))) \n",
        "print(\"Sample std error for Female: {:.2f}\\n\".format(pd.Series(female_means).std()/np.sqrt(1000)))\n",
        "\n",
        "sample_mean_male=np.mean(male_means)\n",
        "sample_mean_female=np.mean(female_means)\n",
        "\n",
        "sample_std_male=pd.Series(male_means).std()\n",
        "sample_std_female=pd.Series(female_means).std()\n",
        "\n",
        "sample_std_error_male=sample_std_male/np.sqrt(1000)\n",
        "sample_std_error_female=sample_std_female/np.sqrt(1000)\n",
        "\n",
        "Upper_Limit_male=z99*sample_std_error_male + sample_mean_male\n",
        "Lower_Limit_male=sample_mean_male - z99*sample_std_error_male\n",
        "\n",
        "Upper_Limit_female=z99*sample_std_error_female + sample_mean_female\n",
        "Lower_Limit_female=sample_mean_female - z99*sample_std_error_female\n",
        "\n",
        "print(\"Male_CI: \",[Lower_Limit_male,Upper_Limit_male])\n",
        "print(\"Female_CI: \",[Lower_Limit_female,Upper_Limit_female])\n"
      ]
    },
    {
      "cell_type": "markdown",
      "metadata": {
        "id": "851e1617"
      },
      "source": [
        "**Observation**:\n",
        "\n",
        "Now using the Confidence interval at 99%, we can say that:\n",
        "\n",
        "Average amount spend by male customers lie in the range 9,22,011.28 - 9,27,154.61\n",
        "\n",
        "Average amount spend by female customers lie in range 7,09,678.88 - 7,13,811.31"
      ]
    },
    {
      "cell_type": "markdown",
      "metadata": {
        "id": "5a28aa11"
      },
      "source": [
        "Calculating 90% confidence interval for sample size 1500:"
      ]
    },
    {
      "cell_type": "code",
      "execution_count": 72,
      "metadata": {
        "id": "c8b0430e",
        "outputId": "458c1ad1-9b5d-47f4-a963-655e864f782c",
        "colab": {
          "base_uri": "https://localhost:8080/"
        }
      },
      "outputs": [
        {
          "output_type": "stream",
          "name": "stdout",
          "text": [
            "Population avg spend amount for Male: 925344.40\n",
            "Population avg spend amount for Female: 712024.39\n",
            "\n",
            "Sample avg spend amount for Male: 927020.99\n",
            "Sample avg spend amount for Female: 712077.34\n",
            "\n",
            "Sample std for Male: 26273.65\n",
            "Sample std for Female: 20804.30\n",
            "\n",
            "Sample std error for Male: 678.38\n",
            "Sample std error for Female: 537.16\n",
            "\n",
            "Male_CI:  [925905.0464230501, 928136.9254876166]\n",
            "Female_CI:  [711193.708246712, 712960.9804319545]\n"
          ]
        }
      ],
      "source": [
        "#Finding the sample(sample size=1000) avg purchase amount for males and females \n",
        "genders = [\"M\", \"F\"]\n",
        "\n",
        "sample_size = 1500\n",
        "\n",
        "num_repitions = 1000\n",
        "male_means = []\n",
        "female_means = []\n",
        "\n",
        "for i in range(num_repitions):\n",
        "    male_mean = avgamt_male.sample(sample_size, replace=True)['Purchase'].mean()\n",
        "    female_mean = avgamt_female.sample(sample_size, replace=True)['Purchase'].mean()\n",
        "    \n",
        "    male_means.append(male_mean)\n",
        "    female_means.append(female_mean)\n",
        "    \n",
        "#Taking the values for z at 90%, 95% and 99% confidence interval as:\n",
        "z90=1.645 #90% Confidence Interval\n",
        "z95=1.960 #95% Confidence Interval\n",
        "z99=2.576 #99% Confidence Interval\n",
        "\n",
        "print(\"Population avg spend amount for Male: {:.2f}\".format(avgamt_male['Purchase'].mean()))\n",
        "print(\"Population avg spend amount for Female: {:.2f}\\n\".format(avgamt_female['Purchase'].mean()))\n",
        "\n",
        "print(\"Sample avg spend amount for Male: {:.2f}\".format(np.mean(male_means)))\n",
        "print(\"Sample avg spend amount for Female: {:.2f}\\n\".format(np.mean(female_means)))\n",
        "\n",
        "print(\"Sample std for Male: {:.2f}\".format(pd.Series(male_means).std()))\n",
        "print(\"Sample std for Female: {:.2f}\\n\".format(pd.Series(female_means).std()))\n",
        "\n",
        "print(\"Sample std error for Male: {:.2f}\".format(pd.Series(male_means).std()/np.sqrt(1500))) \n",
        "print(\"Sample std error for Female: {:.2f}\\n\".format(pd.Series(female_means).std()/np.sqrt(1500)))\n",
        "\n",
        "sample_mean_male=np.mean(male_means)\n",
        "sample_mean_female=np.mean(female_means)\n",
        "\n",
        "sample_std_male=pd.Series(male_means).std()\n",
        "sample_std_female=pd.Series(female_means).std()\n",
        "\n",
        "sample_std_error_male=sample_std_male/np.sqrt(1500)\n",
        "sample_std_error_female=sample_std_female/np.sqrt(1500)\n",
        "\n",
        "Upper_Limit_male=z90*sample_std_error_male + sample_mean_male\n",
        "Lower_Limit_male=sample_mean_male - z90*sample_std_error_male\n",
        "\n",
        "Upper_Limit_female=z90*sample_std_error_female + sample_mean_female\n",
        "Lower_Limit_female=sample_mean_female - z90*sample_std_error_female\n",
        "\n",
        "print(\"Male_CI: \",[Lower_Limit_male,Upper_Limit_male])\n",
        "print(\"Female_CI: \",[Lower_Limit_female,Upper_Limit_female])"
      ]
    },
    {
      "cell_type": "markdown",
      "metadata": {
        "id": "3593fcd4"
      },
      "source": [
        "**Observation**:\n",
        "\n",
        "Now using the Confidence interval at 90%, we can say that:\n",
        "\n",
        "Average amount spend by male customers lie in the range 9,24,177.41 - 9,26,318.90\n",
        "\n",
        "Average amount spend by female customers lie in range 7,11,187.27 - 7,12,971.67\n",
        "\n",
        "By increasing the sample size we can see confidence interval is more closer to the population mean."
      ]
    },
    {
      "cell_type": "markdown",
      "metadata": {
        "id": "ce6f9e46"
      },
      "source": [
        "Calculating 95% confidence interval for sample size 1500:"
      ]
    },
    {
      "cell_type": "code",
      "execution_count": 73,
      "metadata": {
        "id": "19ffa97a",
        "outputId": "94227fd6-a676-40ba-a259-bd16f5b06c7e",
        "colab": {
          "base_uri": "https://localhost:8080/"
        }
      },
      "outputs": [
        {
          "output_type": "stream",
          "name": "stdout",
          "text": [
            "Population avg spend amount for Male: 925344.40\n",
            "Population avg spend amount for Female: 712024.39\n",
            "\n",
            "Sample avg spend amount for Male: 927020.99\n",
            "Sample avg spend amount for Female: 712077.34\n",
            "\n",
            "Sample std for Male: 26273.65\n",
            "Sample std for Female: 20804.30\n",
            "\n",
            "Sample std error for Male: 678.38\n",
            "Sample std error for Female: 537.16\n",
            "\n",
            "Male_CI:  [925691.3558743151, 928350.6160363515]\n",
            "Female_CI:  [711024.501335359, 713130.1873433075]\n"
          ]
        }
      ],
      "source": [
        "print(\"Population avg spend amount for Male: {:.2f}\".format(avgamt_male['Purchase'].mean()))\n",
        "print(\"Population avg spend amount for Female: {:.2f}\\n\".format(avgamt_female['Purchase'].mean()))\n",
        "\n",
        "print(\"Sample avg spend amount for Male: {:.2f}\".format(np.mean(male_means)))\n",
        "print(\"Sample avg spend amount for Female: {:.2f}\\n\".format(np.mean(female_means)))\n",
        "\n",
        "print(\"Sample std for Male: {:.2f}\".format(pd.Series(male_means).std()))\n",
        "print(\"Sample std for Female: {:.2f}\\n\".format(pd.Series(female_means).std()))\n",
        "\n",
        "print(\"Sample std error for Male: {:.2f}\".format(pd.Series(male_means).std()/np.sqrt(1500))) \n",
        "print(\"Sample std error for Female: {:.2f}\\n\".format(pd.Series(female_means).std()/np.sqrt(1500)))\n",
        "\n",
        "sample_mean_male=np.mean(male_means)\n",
        "sample_mean_female=np.mean(female_means)\n",
        "\n",
        "sample_std_male=pd.Series(male_means).std()\n",
        "sample_std_female=pd.Series(female_means).std()\n",
        "\n",
        "sample_std_error_male=sample_std_male/np.sqrt(1500)\n",
        "sample_std_error_female=sample_std_female/np.sqrt(1500)\n",
        "\n",
        "Upper_Limit_male=z95*sample_std_error_male + sample_mean_male\n",
        "Lower_Limit_male=sample_mean_male - z95*sample_std_error_male\n",
        "\n",
        "Upper_Limit_female=z95*sample_std_error_female + sample_mean_female\n",
        "Lower_Limit_female=sample_mean_female - z95*sample_std_error_female\n",
        "\n",
        "print(\"Male_CI: \",[Lower_Limit_male,Upper_Limit_male])\n",
        "print(\"Female_CI: \",[Lower_Limit_female,Upper_Limit_female])"
      ]
    },
    {
      "cell_type": "markdown",
      "metadata": {
        "id": "30eb85a4"
      },
      "source": [
        "**Observation**:\n",
        "\n",
        "Now using the Confidence interval at 95%, we can say that:\n",
        "\n",
        "Average amount spend by male customers lie in the range 9,23,972.41 - 9,26,523.93\n",
        "\n",
        "Average amount spend by female customers lie in range 7,11,016.42 - 7,13,142.51\n",
        "\n",
        "By increasing the sample size we can see confidence interval is more closer to the population mean."
      ]
    },
    {
      "cell_type": "markdown",
      "metadata": {
        "id": "69cea914"
      },
      "source": [
        "Calculating 99% confidence interval for sample size 1500:"
      ]
    },
    {
      "cell_type": "code",
      "execution_count": 74,
      "metadata": {
        "id": "53ab83a1",
        "outputId": "2efd3ba5-98b4-428f-8ec2-c1b4efb1b002",
        "colab": {
          "base_uri": "https://localhost:8080/"
        }
      },
      "outputs": [
        {
          "output_type": "stream",
          "name": "stdout",
          "text": [
            "Population avg spend amount for Male: 925344.40\n",
            "Population avg spend amount for Female: 712024.39\n",
            "\n",
            "Sample avg spend amount for Male: 927020.99\n",
            "Sample avg spend amount for Female: 712077.34\n",
            "\n",
            "Sample std for Male: 26273.65\n",
            "Sample std for Female: 20804.30\n",
            "\n",
            "Sample std error for Male: 678.38\n",
            "Sample std error for Female: 537.16\n",
            "\n",
            "Male_CI:  [925273.4721345665, 928768.4997761002]\n",
            "Female_CI:  [710693.6078198242, 713461.0808588422]\n"
          ]
        }
      ],
      "source": [
        "print(\"Population avg spend amount for Male: {:.2f}\".format(avgamt_male['Purchase'].mean()))\n",
        "print(\"Population avg spend amount for Female: {:.2f}\\n\".format(avgamt_female['Purchase'].mean()))\n",
        "\n",
        "print(\"Sample avg spend amount for Male: {:.2f}\".format(np.mean(male_means)))\n",
        "print(\"Sample avg spend amount for Female: {:.2f}\\n\".format(np.mean(female_means)))\n",
        "\n",
        "print(\"Sample std for Male: {:.2f}\".format(pd.Series(male_means).std()))\n",
        "print(\"Sample std for Female: {:.2f}\\n\".format(pd.Series(female_means).std()))\n",
        "\n",
        "print(\"Sample std error for Male: {:.2f}\".format(pd.Series(male_means).std()/np.sqrt(1500))) \n",
        "print(\"Sample std error for Female: {:.2f}\\n\".format(pd.Series(female_means).std()/np.sqrt(1500)))\n",
        "\n",
        "sample_mean_male=np.mean(male_means)\n",
        "sample_mean_female=np.mean(female_means)\n",
        "\n",
        "sample_std_male=pd.Series(male_means).std()\n",
        "sample_std_female=pd.Series(female_means).std()\n",
        "\n",
        "sample_std_error_male=sample_std_male/np.sqrt(1500)\n",
        "sample_std_error_female=sample_std_female/np.sqrt(1500)\n",
        "\n",
        "Upper_Limit_male=z99*sample_std_error_male + sample_mean_male\n",
        "Lower_Limit_male=sample_mean_male - z99*sample_std_error_male\n",
        "\n",
        "Upper_Limit_female=z99*sample_std_error_female + sample_mean_female\n",
        "Lower_Limit_female=sample_mean_female - z99*sample_std_error_female\n",
        "\n",
        "print(\"Male_CI: \",[Lower_Limit_male,Upper_Limit_male])\n",
        "print(\"Female_CI: \",[Lower_Limit_female,Upper_Limit_female])"
      ]
    },
    {
      "cell_type": "markdown",
      "metadata": {
        "id": "375ad7c5"
      },
      "source": [
        "**Observation**:\n",
        "\n",
        "Now using the Confidence interval at 99%, we can say that:\n",
        "\n",
        "Average amount spend by male customers lie in the range 923571.42 - 926924.89\n",
        "\n",
        "Average amount spend by female customers lie in range 710682.32 - 713476.61\n",
        "\n",
        "By increasing the sample size we can see confidence interval is more closer to the population mean."
      ]
    },
    {
      "cell_type": "markdown",
      "metadata": {
        "id": "98054459"
      },
      "source": [
        "CLT and Confidence interval considering marital status:"
      ]
    },
    {
      "cell_type": "code",
      "execution_count": 75,
      "metadata": {
        "id": "55f9896d",
        "outputId": "70989150-ca56-44c7-e3e1-2878f96b77f6",
        "colab": {
          "base_uri": "https://localhost:8080/",
          "height": 390
        }
      },
      "outputs": [
        {
          "output_type": "display_data",
          "data": {
            "text/plain": [
              "<Figure size 1440x432 with 2 Axes>"
            ],
            "image/png": "[encoded data removed]"
          },
          "metadata": {
            "needs_background": "light"
          }
        }
      ],
      "source": [
        "avg_Marital = df.groupby(['User_ID', 'Marital_Status'])[['Purchase']].sum()\n",
        "avg_Marital = avg_Marital.reset_index()\n",
        "\n",
        "avgamt_married = avg_Marital[avg_Marital['Marital_Status']==1]\n",
        "avgamt_single = avg_Marital[avg_Marital['Marital_Status']==0]\n",
        "\n",
        "sample_size = 1000\n",
        "num_repitions = 1000\n",
        "married_means = []\n",
        "single_means = []\n",
        "\n",
        "for i in range(num_repitions):\n",
        "    avg_married = avg_Marital[avg_Marital['Marital_Status']==1].sample(sample_size, replace=True)['Purchase'].mean()\n",
        "    avg_single = avg_Marital[avg_Marital['Marital_Status']==0].sample(sample_size, replace=True)['Purchase'].mean()\n",
        "    \n",
        "    married_means.append(avg_married)\n",
        "    single_means.append(avg_single)\n",
        "    \n",
        "    \n",
        "fig, axis = plt.subplots(nrows=1, ncols=2, figsize=(20, 6))\n",
        "\n",
        "axis[0].hist(married_means, bins=35)\n",
        "axis[1].hist(single_means, bins=35)\n",
        "axis[0].set_title(\"Married distribution of means, Sample size: 1000\")\n",
        "axis[1].set_title(\"Unmarried distribution of means, Sample size: 1000\")\n",
        "\n",
        "plt.show()"
      ]
    },
    {
      "cell_type": "markdown",
      "metadata": {
        "id": "54639c9f"
      },
      "source": [
        "**Observations**:\n",
        "\n",
        "1. The means sample seems to be normally distributed for both married and singles. Also, we can see the mean of the sample means are closer to the population mean as per central limit theorem. "
      ]
    },
    {
      "cell_type": "code",
      "execution_count": 76,
      "metadata": {
        "id": "8b877971",
        "outputId": "addad892-6d4b-4fed-c1a5-1530fc5e0423",
        "colab": {
          "base_uri": "https://localhost:8080/"
        }
      },
      "outputs": [
        {
          "output_type": "execute_result",
          "data": {
            "text/plain": [
              "0    3417\n",
              "1    2474\n",
              "Name: Marital_Status, dtype: int64"
            ]
          },
          "metadata": {},
          "execution_count": 76
        }
      ],
      "source": [
        "avg_Marital['Marital_Status'].value_counts()"
      ]
    },
    {
      "cell_type": "markdown",
      "metadata": {
        "id": "7fdba9c3"
      },
      "source": [
        "Calculating 90% confidence interval for avg expenses for married/single for sample size 1000:"
      ]
    },
    {
      "cell_type": "code",
      "execution_count": 77,
      "metadata": {
        "id": "dba4e0d3",
        "outputId": "8eae2d81-8ce6-4b1d-9e91-ef870c085a8e",
        "colab": {
          "base_uri": "https://localhost:8080/"
        }
      },
      "outputs": [
        {
          "output_type": "stream",
          "name": "stdout",
          "text": [
            "Population avg spend amount for Married: 843526.80\n",
            "Population avg spend amount for Single: 880575.78\n",
            "\n",
            "Sample avg spend amount for Married: 843296.81\n",
            "Sample avg spend amount for Single: 880372.39\n",
            "\n",
            "Sample std for Married: 30449.69\n",
            "Sample std for Single: 30973.38\n",
            "\n",
            "Sample std error for Married: 962.90\n",
            "Sample std error for Single: 979.46\n",
            "\n",
            "Married_CI:  [841712.8306283433, 844412.7467072832]\n",
            "Single_CI:  [878761.1725631922, 881983.6101368079]\n"
          ]
        }
      ],
      "source": [
        "#Taking the values for z at 90%, 95% and 99% confidence interval as:\n",
        "z90=1.645 #90% Confidence Interval\n",
        "z95=1.960 #95% Confidence Interval\n",
        "z99=2.576 #99% Confidence Interval\n",
        "\n",
        "print(\"Population avg spend amount for Married: {:.2f}\".format(avgamt_married['Purchase'].mean()))\n",
        "print(\"Population avg spend amount for Single: {:.2f}\\n\".format(avgamt_single['Purchase'].mean()))\n",
        "\n",
        "print(\"Sample avg spend amount for Married: {:.2f}\".format(np.mean(married_means)))\n",
        "print(\"Sample avg spend amount for Single: {:.2f}\\n\".format(np.mean(single_means)))\n",
        "\n",
        "print(\"Sample std for Married: {:.2f}\".format(pd.Series(married_means).std()))\n",
        "print(\"Sample std for Single: {:.2f}\\n\".format(pd.Series(single_means).std()))\n",
        "\n",
        "print(\"Sample std error for Married: {:.2f}\".format(pd.Series(married_means).std()/np.sqrt(1000))) \n",
        "print(\"Sample std error for Single: {:.2f}\\n\".format(pd.Series(single_means).std()/np.sqrt(1000)))\n",
        "\n",
        "sample_mean_married=np.mean(married_means)\n",
        "sample_mean_single=np.mean(single_means)\n",
        "\n",
        "sample_std_married=pd.Series(married_means).std()\n",
        "sample_std_single=pd.Series(single_means).std()\n",
        "\n",
        "sample_std_error_married=sample_std_married/np.sqrt(1000)\n",
        "sample_std_error_single=sample_std_single/np.sqrt(1000)\n",
        "\n",
        "Upper_Limit_married=z90*sample_std_error_male + sample_mean_married\n",
        "Lower_Limit_married=sample_mean_married - z90*sample_std_error_married\n",
        "\n",
        "Upper_Limit_single=z90*sample_std_error_single + sample_mean_single\n",
        "Lower_Limit_single=sample_mean_single - z90*sample_std_error_single\n",
        "\n",
        "print(\"Married_CI: \",[Lower_Limit_married,Upper_Limit_married])\n",
        "print(\"Single_CI: \",[Lower_Limit_single,Upper_Limit_single])\n"
      ]
    },
    {
      "cell_type": "markdown",
      "metadata": {
        "id": "964f165c"
      },
      "source": [
        "Calculating 95% confidence interval for avg expenses for married/single for sample size 1000:"
      ]
    },
    {
      "cell_type": "code",
      "execution_count": 78,
      "metadata": {
        "id": "0518e76e",
        "outputId": "9ae74651-db1a-4e01-eed4-016ab3531bfd",
        "colab": {
          "base_uri": "https://localhost:8080/"
        }
      },
      "outputs": [
        {
          "output_type": "stream",
          "name": "stdout",
          "text": [
            "Population avg spend amount for Married: 843526.80\n",
            "Population avg spend amount for Single: 880575.78\n",
            "\n",
            "Sample avg spend amount for Married: 843296.81\n",
            "Sample avg spend amount for Single: 880372.39\n",
            "\n",
            "Sample std for Married: 30449.69\n",
            "Sample std for Single: 30973.38\n",
            "\n",
            "Sample std error for Married: 962.90\n",
            "Sample std error for Single: 979.46\n",
            "\n",
            "Married_CI:  [841409.5159704728, 844626.4372560182]\n",
            "Single_CI:  [878452.641306144, 882292.1413938561]\n"
          ]
        }
      ],
      "source": [
        "#Taking the values for z at 90%, 95% and 99% confidence interval as:\n",
        "z90=1.645 #90% Confidence Interval\n",
        "z95=1.960 #95% Confidence Interval\n",
        "z99=2.576 #99% Confidence Interval\n",
        "\n",
        "print(\"Population avg spend amount for Married: {:.2f}\".format(avgamt_married['Purchase'].mean()))\n",
        "print(\"Population avg spend amount for Single: {:.2f}\\n\".format(avgamt_single['Purchase'].mean()))\n",
        "\n",
        "print(\"Sample avg spend amount for Married: {:.2f}\".format(np.mean(married_means)))\n",
        "print(\"Sample avg spend amount for Single: {:.2f}\\n\".format(np.mean(single_means)))\n",
        "\n",
        "print(\"Sample std for Married: {:.2f}\".format(pd.Series(married_means).std()))\n",
        "print(\"Sample std for Single: {:.2f}\\n\".format(pd.Series(single_means).std()))\n",
        "\n",
        "print(\"Sample std error for Married: {:.2f}\".format(pd.Series(married_means).std()/np.sqrt(1000))) \n",
        "print(\"Sample std error for Single: {:.2f}\\n\".format(pd.Series(single_means).std()/np.sqrt(1000)))\n",
        "\n",
        "sample_mean_married=np.mean(married_means)\n",
        "sample_mean_single=np.mean(single_means)\n",
        "\n",
        "sample_std_married=pd.Series(married_means).std()\n",
        "sample_std_single=pd.Series(single_means).std()\n",
        "\n",
        "sample_std_error_married=sample_std_married/np.sqrt(1000)\n",
        "sample_std_error_single=sample_std_single/np.sqrt(1000)\n",
        "\n",
        "Upper_Limit_married=z95*sample_std_error_male + sample_mean_married\n",
        "Lower_Limit_married=sample_mean_married - z95*sample_std_error_married\n",
        "\n",
        "Upper_Limit_single=z95*sample_std_error_single + sample_mean_single\n",
        "Lower_Limit_single=sample_mean_single - z95*sample_std_error_single\n",
        "\n",
        "print(\"Married_CI: \",[Lower_Limit_married,Upper_Limit_married])\n",
        "print(\"Single_CI: \",[Lower_Limit_single,Upper_Limit_single])"
      ]
    },
    {
      "cell_type": "markdown",
      "metadata": {
        "id": "0901b6cf"
      },
      "source": [
        "Calculating 99% confidence interval for avg expenses for married/single for sample size 1000:"
      ]
    },
    {
      "cell_type": "code",
      "execution_count": 79,
      "metadata": {
        "id": "2aa7a67a",
        "outputId": "b626c8b4-08e5-4a1b-91a2-bdd0b7a2dd41",
        "colab": {
          "base_uri": "https://localhost:8080/"
        }
      },
      "outputs": [
        {
          "output_type": "stream",
          "name": "stdout",
          "text": [
            "Population avg spend amount for Married: 843526.80\n",
            "Population avg spend amount for Single: 880575.78\n",
            "\n",
            "Sample avg spend amount for Married: 843296.81\n",
            "Sample avg spend amount for Single: 880372.39\n",
            "\n",
            "Sample std for Married: 30449.69\n",
            "Sample std for Single: 30973.38\n",
            "\n",
            "Sample std error for Married: 962.90\n",
            "Sample std error for Single: 979.46\n",
            "\n",
            "Married_CI:  [840816.3673061929, 845044.3209957668]\n",
            "Single_CI:  [877849.2912923605, 882895.4914076396]\n"
          ]
        }
      ],
      "source": [
        "#Taking the values for z at 90%, 95% and 99% confidence interval as:\n",
        "z90=1.645 #90% Confidence Interval\n",
        "z95=1.960 #95% Confidence Interval\n",
        "z99=2.576 #99% Confidence Interval\n",
        "\n",
        "print(\"Population avg spend amount for Married: {:.2f}\".format(avgamt_married['Purchase'].mean()))\n",
        "print(\"Population avg spend amount for Single: {:.2f}\\n\".format(avgamt_single['Purchase'].mean()))\n",
        "\n",
        "print(\"Sample avg spend amount for Married: {:.2f}\".format(np.mean(married_means)))\n",
        "print(\"Sample avg spend amount for Single: {:.2f}\\n\".format(np.mean(single_means)))\n",
        "\n",
        "print(\"Sample std for Married: {:.2f}\".format(pd.Series(married_means).std()))\n",
        "print(\"Sample std for Single: {:.2f}\\n\".format(pd.Series(single_means).std()))\n",
        "\n",
        "print(\"Sample std error for Married: {:.2f}\".format(pd.Series(married_means).std()/np.sqrt(1000))) \n",
        "print(\"Sample std error for Single: {:.2f}\\n\".format(pd.Series(single_means).std()/np.sqrt(1000)))\n",
        "\n",
        "sample_mean_married=np.mean(married_means)\n",
        "sample_mean_single=np.mean(single_means)\n",
        "\n",
        "sample_std_married=pd.Series(married_means).std()\n",
        "sample_std_single=pd.Series(single_means).std()\n",
        "\n",
        "sample_std_error_married=sample_std_married/np.sqrt(1000)\n",
        "sample_std_error_single=sample_std_single/np.sqrt(1000)\n",
        "\n",
        "Upper_Limit_married=z99*sample_std_error_male + sample_mean_married\n",
        "Lower_Limit_married=sample_mean_married - z99*sample_std_error_married\n",
        "\n",
        "Upper_Limit_single=z99*sample_std_error_single + sample_mean_single\n",
        "Lower_Limit_single=sample_mean_single - z99*sample_std_error_single\n",
        "\n",
        "print(\"Married_CI: \",[Lower_Limit_married,Upper_Limit_married])\n",
        "print(\"Single_CI: \",[Lower_Limit_single,Upper_Limit_single])"
      ]
    },
    {
      "cell_type": "markdown",
      "metadata": {
        "id": "43b0a77e"
      },
      "source": [
        "**Observation**:\n",
        "    \n",
        "    For married and singles, it can be seen with larger sample size the sample mean gets closer to tthe population mean. And at greater confidence interval, the range increases."
      ]
    },
    {
      "cell_type": "code",
      "execution_count": 80,
      "metadata": {
        "id": "162ca964",
        "outputId": "561193d2-3552-4dda-e29f-820cf67dfea0",
        "colab": {
          "base_uri": "https://localhost:8080/"
        }
      },
      "outputs": [
        {
          "output_type": "execute_result",
          "data": {
            "text/plain": [
              "26-35    2053\n",
              "36-45    1167\n",
              "18-25    1069\n",
              "46-50     531\n",
              "51-55     481\n",
              "55+       372\n",
              "0-17      218\n",
              "Name: Age, dtype: int64"
            ]
          },
          "metadata": {},
          "execution_count": 80
        }
      ],
      "source": [
        "avgamt_age = df.groupby(['User_ID', 'Age'])[['Purchase']].sum()\n",
        "avgamt_age = avgamt_age.reset_index()\n",
        "\n",
        "avgamt_age['Age'].value_counts()"
      ]
    },
    {
      "cell_type": "code",
      "execution_count": 81,
      "metadata": {
        "id": "9a50d088",
        "outputId": "fc30bb61-83bd-41c0-f671-c78de1f6f4d3",
        "colab": {
          "base_uri": "https://localhost:8080/",
          "height": 1000
        }
      },
      "outputs": [
        {
          "output_type": "display_data",
          "data": {
            "text/plain": [
              "<Figure size 1440x1080 with 6 Axes>"
            ],
            "image/png": "[encoded data removed]"
          },
          "metadata": {
            "needs_background": "light"
          }
        },
        {
          "output_type": "display_data",
          "data": {
            "text/plain": [
              "<Figure size 720x360 with 1 Axes>"
            ],
            "image/png": "[encoded data removed]"
          },
          "metadata": {
            "needs_background": "light"
          }
        }
      ],
      "source": [
        "sample_size = 200\n",
        "num_repitions = 1000\n",
        "\n",
        "all_sample_means = {}\n",
        "\n",
        "age_intervals = ['26-35', '36-45', '18-25', '46-50', '51-55', '55+', '0-17']\n",
        "for i in age_intervals:\n",
        "    all_sample_means[i] = []\n",
        "    \n",
        "for i in age_intervals:\n",
        "    for j in range(num_repitions):\n",
        "        \n",
        "        mean = avgamt_age[avgamt_age['Age']==i].sample(sample_size, replace=True)['Purchase'].mean()\n",
        "        all_sample_means[i].append(mean)\n",
        "        \n",
        "\n",
        "        \n",
        "fig, axis = plt.subplots(nrows=3, ncols=2, figsize=(20, 15))\n",
        "\n",
        "sns.histplot(all_sample_means['26-35'],bins=35,ax=axis[0,0])\n",
        "sns.histplot(all_sample_means['36-45'],bins=35,ax=axis[0,1])\n",
        "sns.histplot(all_sample_means['18-25'],bins=35,ax=axis[1,0])\n",
        "sns.histplot(all_sample_means['46-50'],bins=35,ax=axis[1,1])\n",
        "sns.histplot(all_sample_means['51-55'],bins=35,ax=axis[2,0])\n",
        "sns.histplot(all_sample_means['55+'],bins=35,ax=axis[2,1])\n",
        "\n",
        "plt.show()\n",
        "\n",
        "plt.figure(figsize=(10, 5))\n",
        "sns.histplot(all_sample_means['0-17'],bins=35)\n",
        "plt.show()\n",
        "\n"
      ]
    },
    {
      "cell_type": "markdown",
      "metadata": {
        "id": "3ab0f13a"
      },
      "source": [
        "**Observations**:\n",
        "\n",
        "1. The means sample seems to be normally distributed for all age groups. Also, we can see the mean of the sample means are closer to the population mean as per central limit theorem. "
      ]
    },
    {
      "cell_type": "markdown",
      "metadata": {
        "id": "6a7fdb53"
      },
      "source": [
        "Calculating 90% confidence interval for avg expenses for different age groups for sample size 200:"
      ]
    },
    {
      "cell_type": "code",
      "execution_count": 82,
      "metadata": {
        "id": "d5b913a1",
        "outputId": "0fd8c900-5c97-41db-d3d9-d735b22c6719",
        "colab": {
          "base_uri": "https://localhost:8080/"
        }
      },
      "outputs": [
        {
          "output_type": "stream",
          "name": "stdout",
          "text": [
            "All age group population mean: \n",
            " {'26-35': [989659.3170969313], '36-45': [879665.7103684661], '18-25': [854863.119738073], '46-50': [792548.7815442561], '51-55': [763200.9230769231], '55+': [539697.2446236559], '0-17': [618867.8119266055]}\n",
            "\n",
            "\n",
            "For age 26-35 confidence interval of means: (952206.28, 1027112.35)\n",
            "For age 36-45 confidence interval of means: (832398.89, 926932.53)\n",
            "For age 18-25 confidence interval of means: (810187.65, 899538.59)\n",
            "For age 46-50 confidence interval of means: (726209.00, 858888.57)\n",
            "For age 51-55 confidence interval of means: (703772.36, 822629.48)\n",
            "For age 55+ confidence interval of means: (487032.92, 592361.57)\n",
            "For age 0-17 confidence interval of means: (542320.46, 695415.16)\n"
          ]
        }
      ],
      "source": [
        "z90=1.645 #90% Confidence Interval\n",
        "z95=1.960 #95% Confidence Interval\n",
        "z99=2.576 #99% Confidence Interval\n",
        "\n",
        "sample_size = 200\n",
        "num_repitions = 1000\n",
        "\n",
        "all_population_means={}\n",
        "all_sample_means = {}\n",
        "\n",
        "age_intervals = ['26-35', '36-45', '18-25', '46-50', '51-55', '55+', '0-17']\n",
        "for i in age_intervals:\n",
        "    all_sample_means[i] = []\n",
        "    all_population_means[i]=[]\n",
        "    population_mean=avgamt_age[avgamt_age['Age']==i]['Purchase'].mean()\n",
        "    all_population_means[i].append(population_mean)\n",
        "    \n",
        "print(\"All age group population mean: \\n\", all_population_means)\n",
        "print(\"\\n\")\n",
        "    \n",
        "for i in age_intervals:\n",
        "    for j in range(num_repitions):\n",
        "        \n",
        "        mean = avgamt_age[avgamt_age['Age']==i].sample(sample_size, replace=True)['Purchase'].mean()\n",
        "        all_sample_means[i].append(mean)\n",
        "        \n",
        "        \n",
        "for val in ['26-35', '36-45', '18-25', '46-50', '51-55', '55+', '0-17']:\n",
        "    \n",
        "    new_df = avgamt_age[avgamt_age['Age']==val] \n",
        "    \n",
        "    std_error = z90*new_df['Purchase'].std()/np.sqrt(len(new_df))\n",
        "    sample_mean = new_df['Purchase'].mean()\n",
        "    lower_lim = sample_mean - std_error\n",
        "    upper_lim = sample_mean + std_error\n",
        "\n",
        "    print(\"For age {} confidence interval of means: ({:.2f}, {:.2f})\".format(val, lower_lim, upper_lim))"
      ]
    },
    {
      "cell_type": "markdown",
      "metadata": {
        "id": "942adf89"
      },
      "source": [
        "Calculating 95% confidence interval for avg expenses for different age groups for sample size 200:"
      ]
    },
    {
      "cell_type": "code",
      "execution_count": 83,
      "metadata": {
        "id": "fea6581b",
        "outputId": "132441ff-2862-4f32-ebd8-02d4a706d367",
        "colab": {
          "base_uri": "https://localhost:8080/"
        }
      },
      "outputs": [
        {
          "output_type": "stream",
          "name": "stdout",
          "text": [
            "For age 26-35 confidence interval of means: (945034.42, 1034284.21)\n",
            "For age 36-45 confidence interval of means: (823347.80, 935983.62)\n",
            "For age 18-25 confidence interval of means: (801632.78, 908093.46)\n",
            "For age 46-50 confidence interval of means: (713505.63, 871591.93)\n",
            "For age 51-55 confidence interval of means: (692392.43, 834009.42)\n",
            "For age 55+ confidence interval of means: (476948.26, 602446.23)\n",
            "For age 0-17 confidence interval of means: (527662.46, 710073.17)\n"
          ]
        }
      ],
      "source": [
        "z90=1.645 #90% Confidence Interval\n",
        "z95=1.960 #95% Confidence Interval\n",
        "z99=2.576 #99% Confidence Interval\n",
        "\n",
        "sample_size = 200\n",
        "num_repitions = 1000\n",
        "\n",
        "all_means = {}\n",
        "\n",
        "age_intervals = ['26-35', '36-45', '18-25', '46-50', '51-55', '55+', '0-17']\n",
        "for i in age_intervals:\n",
        "    all_means[i] = []\n",
        "\n",
        "for i in age_intervals:\n",
        "    for j in range(num_repitions):\n",
        "        mean = avgamt_age[avgamt_age['Age']==i].sample(sample_size, replace=True)['Purchase'].mean()\n",
        "        all_means[i].append(mean)\n",
        "for val in ['26-35', '36-45', '18-25', '46-50', '51-55', '55+', '0-17']:\n",
        "    \n",
        "    new_df = avgamt_age[avgamt_age['Age']==val] \n",
        "    \n",
        "    std_error = z95*new_df['Purchase'].std()/np.sqrt(len(new_df))\n",
        "    sample_mean = new_df['Purchase'].mean()\n",
        "    lower_lim = sample_mean - std_error\n",
        "    upper_lim = sample_mean + std_error\n",
        "\n",
        "    print(\"For age {} confidence interval of means: ({:.2f}, {:.2f})\".format(val, lower_lim, upper_lim))"
      ]
    },
    {
      "cell_type": "markdown",
      "metadata": {
        "id": "2f7bba9a"
      },
      "source": [
        "Calculating 99% confidence interval for avg expenses for different age groups for sample size 200:"
      ]
    },
    {
      "cell_type": "code",
      "execution_count": 84,
      "metadata": {
        "id": "32aa73fc",
        "outputId": "8831d933-b56e-4edb-de8e-9b7ee56f9d44",
        "colab": {
          "base_uri": "https://localhost:8080/"
        }
      },
      "outputs": [
        {
          "output_type": "stream",
          "name": "stdout",
          "text": [
            "For age 26-35 confidence interval of means: (931009.46, 1048309.18)\n",
            "For age 36-45 confidence interval of means: (805647.89, 953683.53)\n",
            "For age 18-25 confidence interval of means: (784903.24, 924823.00)\n",
            "For age 46-50 confidence interval of means: (688663.50, 896434.06)\n",
            "For age 51-55 confidence interval of means: (670138.33, 856263.52)\n",
            "For age 55+ confidence interval of means: (457227.15, 622167.34)\n",
            "For age 0-17 confidence interval of means: (498997.92, 738737.71)\n"
          ]
        }
      ],
      "source": [
        "z90=1.645 #90% Confidence Interval\n",
        "z95=1.960 #95% Confidence Interval\n",
        "z99=2.576 #99% Confidence Interval\n",
        "\n",
        "sample_size = 200\n",
        "num_repitions = 1000\n",
        "\n",
        "all_means = {}\n",
        "\n",
        "age_intervals = ['26-35', '36-45', '18-25', '46-50', '51-55', '55+', '0-17']\n",
        "for i in age_intervals:\n",
        "    all_means[i] = []\n",
        "\n",
        "for i in age_intervals:\n",
        "    for j in range(num_repitions):\n",
        "        mean = avgamt_age[avgamt_age['Age']==i].sample(sample_size, replace=True)['Purchase'].mean()\n",
        "        all_means[i].append(mean)\n",
        "for val in ['26-35', '36-45', '18-25', '46-50', '51-55', '55+', '0-17']:\n",
        "    \n",
        "    new_df = avgamt_age[avgamt_age['Age']==val] \n",
        "    \n",
        "    std_error = z99*new_df['Purchase'].std()/np.sqrt(len(new_df))\n",
        "    sample_mean = new_df['Purchase'].mean()\n",
        "    lower_lim = sample_mean - std_error\n",
        "    upper_lim = sample_mean + std_error\n",
        "\n",
        "    print(\"For age {} confidence interval of means: ({:.2f}, {:.2f})\".format(val, lower_lim, upper_lim))"
      ]
    },
    {
      "cell_type": "markdown",
      "metadata": {
        "id": "6097b179"
      },
      "source": [
        "**Observation**:\n",
        "    \n",
        "    1. We can see the sample means are closer to the population mean for the differnt age groups. And, with greater confidence interval we have the upper limit and lower limit range increases. As we have seen for gender and marital status, by increasing the sample size we can have the mean of the sample means closer to the population. "
      ]
    },
    {
      "cell_type": "markdown",
      "metadata": {
        "id": "ebac83da"
      },
      "source": [
        "**Recommendations**:\n",
        "\n",
        "#    1. Men spent more money than women, company can focus on retaining the male customers and getting more male customers.\n",
        "    \n",
        "#    2. Product_Category - 1, 5, 8 have highest purchasing frequency. it means these are the products in these categories are in more demand. Company can focus on selling more of these products.\n",
        "    \n",
        "#    3. Unmarried customers spend more money than married customers, So company should focus on acquisition of Unmarried customers.\n",
        "    \n",
        "#    4. Customers in the age 26-35 spend more money than the others, So company should focus on acquisition of customers who are in the age 26-35.\n",
        "    \n",
        "#    5. We have more customers aged 26-35 in the city category B and A, company can focus more on these customers for these cities to increase the business.\n",
        "    \n",
        "#    6. Male customers living in City_Category C spend more money than other male customers living in B or C, Selling more products in the City_Category C will help the company increase the revenue.\n",
        "    \n",
        "#    7. Some of the Product category like 19,20,13 have very less purchase. Company can think of dropping it.\n",
        "    \n",
        "#    8. The top 10 users who have purchased more company should give more offers and discounts so that they can be retained and can be helpful for companies business. \n",
        "    \n",
        "#    9. The occupation which are contributing more company can think of offering credit cards or other benefits to those customers by liasing with some financial partners to increase the sales.\n",
        "    \n",
        "#    10. The top products should be given focus in order to maintain the quality in order to further increase the sales of those products.\n",
        "    \n",
        "#    11. People who are staying in city for an year have contributed to 35% of the total purchase amount. Company can focus on such customer base who are neither too old nor too new residents in the city.\n",
        "    \n",
        "#    12. We have highest frequency of purchase order between 5k and 10k, company can focus more on these mid range products to increase the sales."
      ]
    }
  ]
}